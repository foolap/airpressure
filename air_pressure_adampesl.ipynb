{
 "cells": [
  {
   "cell_type": "code",
   "execution_count": 1,
   "id": "26893da9-d20c-403f-8bb5-f61c7b61badb",
   "metadata": {
    "is_executing": true
   },
   "outputs": [
    {
     "name": "stdout",
     "output_type": "stream",
     "text": [
      "Requirement already satisfied: pyarrow in c:\\users\\adamp\\appdata\\local\\programs\\python\\python312\\lib\\site-packages (15.0.1)\n",
      "Requirement already satisfied: numpy<2,>=1.16.6 in c:\\users\\adamp\\appdata\\local\\programs\\python\\python312\\lib\\site-packages (from pyarrow) (1.26.3)\n"
     ]
    },
    {
     "name": "stderr",
     "output_type": "stream",
     "text": [
      "\n",
      "[notice] A new release of pip is available: 23.2.1 -> 24.0\n",
      "[notice] To update, run: python.exe -m pip install --upgrade pip\n"
     ]
    }
   ],
   "source": [
    "import pandas as pd\n",
    "import numpy as np\n",
    "import matplotlib.pyplot as plt\n",
    "!pip install pyarrow"
   ]
  },
  {
   "cell_type": "code",
   "execution_count": 2,
   "id": "793568f9-3232-41b2-abea-2d9bccb2b8d5",
   "metadata": {},
   "outputs": [],
   "source": [
    "df = pd.read_parquet('data/data.parquet')\n",
    "labels = pd.read_csv('data/labels.csv')"
   ]
  },
  {
   "cell_type": "code",
   "execution_count": 3,
   "id": "40e60d3a-6803-46be-ad96-17a1a51dda12",
   "metadata": {},
   "outputs": [
    {
     "data": {
      "text/html": [
       "<div>\n",
       "<style scoped>\n",
       "    .dataframe tbody tr th:only-of-type {\n",
       "        vertical-align: middle;\n",
       "    }\n",
       "\n",
       "    .dataframe tbody tr th {\n",
       "        vertical-align: top;\n",
       "    }\n",
       "\n",
       "    .dataframe thead th {\n",
       "        text-align: right;\n",
       "    }\n",
       "</style>\n",
       "<table border=\"1\" class=\"dataframe\">\n",
       "  <thead>\n",
       "    <tr style=\"text-align: right;\">\n",
       "      <th></th>\n",
       "      <th>MachineId</th>\n",
       "      <th>MeasurementId</th>\n",
       "      <th>Pressure</th>\n",
       "    </tr>\n",
       "  </thead>\n",
       "  <tbody>\n",
       "    <tr>\n",
       "      <th>0</th>\n",
       "      <td>0_0_0</td>\n",
       "      <td>0</td>\n",
       "      <td>0.0</td>\n",
       "    </tr>\n",
       "    <tr>\n",
       "      <th>1</th>\n",
       "      <td>0_0_0</td>\n",
       "      <td>0</td>\n",
       "      <td>0.0</td>\n",
       "    </tr>\n",
       "    <tr>\n",
       "      <th>2</th>\n",
       "      <td>0_0_0</td>\n",
       "      <td>0</td>\n",
       "      <td>0.0</td>\n",
       "    </tr>\n",
       "    <tr>\n",
       "      <th>3</th>\n",
       "      <td>0_0_0</td>\n",
       "      <td>0</td>\n",
       "      <td>0.0</td>\n",
       "    </tr>\n",
       "    <tr>\n",
       "      <th>4</th>\n",
       "      <td>0_0_0</td>\n",
       "      <td>0</td>\n",
       "      <td>0.0</td>\n",
       "    </tr>\n",
       "    <tr>\n",
       "      <th>5</th>\n",
       "      <td>0_0_0</td>\n",
       "      <td>0</td>\n",
       "      <td>0.0</td>\n",
       "    </tr>\n",
       "    <tr>\n",
       "      <th>6</th>\n",
       "      <td>0_0_0</td>\n",
       "      <td>0</td>\n",
       "      <td>0.0</td>\n",
       "    </tr>\n",
       "    <tr>\n",
       "      <th>7</th>\n",
       "      <td>0_0_0</td>\n",
       "      <td>0</td>\n",
       "      <td>0.0</td>\n",
       "    </tr>\n",
       "    <tr>\n",
       "      <th>8</th>\n",
       "      <td>0_0_0</td>\n",
       "      <td>0</td>\n",
       "      <td>0.0</td>\n",
       "    </tr>\n",
       "    <tr>\n",
       "      <th>9</th>\n",
       "      <td>0_0_0</td>\n",
       "      <td>0</td>\n",
       "      <td>0.0</td>\n",
       "    </tr>\n",
       "  </tbody>\n",
       "</table>\n",
       "</div>"
      ],
      "text/plain": [
       "  MachineId  MeasurementId  Pressure\n",
       "0     0_0_0              0       0.0\n",
       "1     0_0_0              0       0.0\n",
       "2     0_0_0              0       0.0\n",
       "3     0_0_0              0       0.0\n",
       "4     0_0_0              0       0.0\n",
       "5     0_0_0              0       0.0\n",
       "6     0_0_0              0       0.0\n",
       "7     0_0_0              0       0.0\n",
       "8     0_0_0              0       0.0\n",
       "9     0_0_0              0       0.0"
      ]
     },
     "execution_count": 3,
     "metadata": {},
     "output_type": "execute_result"
    }
   ],
   "source": [
    "df.head(10)"
   ]
  },
  {
   "cell_type": "code",
   "execution_count": 4,
   "id": "c797a2b5-2a9e-4698-9819-9a20e7c82795",
   "metadata": {},
   "outputs": [
    {
     "data": {
      "text/plain": [
       "27385"
      ]
     },
     "execution_count": 4,
     "metadata": {},
     "output_type": "execute_result"
    }
   ],
   "source": [
    "len(labels)"
   ]
  },
  {
   "cell_type": "code",
   "execution_count": 5,
   "id": "ebf56ed2-9756-4cde-bc73-958cf8ba9c92",
   "metadata": {},
   "outputs": [
    {
     "data": {
      "text/html": [
       "<div>\n",
       "<style scoped>\n",
       "    .dataframe tbody tr th:only-of-type {\n",
       "        vertical-align: middle;\n",
       "    }\n",
       "\n",
       "    .dataframe tbody tr th {\n",
       "        vertical-align: top;\n",
       "    }\n",
       "\n",
       "    .dataframe thead th {\n",
       "        text-align: right;\n",
       "    }\n",
       "</style>\n",
       "<table border=\"1\" class=\"dataframe\">\n",
       "  <thead>\n",
       "    <tr style=\"text-align: right;\">\n",
       "      <th></th>\n",
       "      <th>MachineId</th>\n",
       "      <th>MeasurementId</th>\n",
       "      <th>PumpFailed</th>\n",
       "      <th>SlowStart</th>\n",
       "      <th>SlowEnd</th>\n",
       "    </tr>\n",
       "  </thead>\n",
       "  <tbody>\n",
       "    <tr>\n",
       "      <th>0</th>\n",
       "      <td>0_0_0</td>\n",
       "      <td>0</td>\n",
       "      <td>False</td>\n",
       "      <td>False</td>\n",
       "      <td>False</td>\n",
       "    </tr>\n",
       "    <tr>\n",
       "      <th>1</th>\n",
       "      <td>0_0_1</td>\n",
       "      <td>-1</td>\n",
       "      <td>NaN</td>\n",
       "      <td>NaN</td>\n",
       "      <td>NaN</td>\n",
       "    </tr>\n",
       "    <tr>\n",
       "      <th>2</th>\n",
       "      <td>0_0_2</td>\n",
       "      <td>0</td>\n",
       "      <td>False</td>\n",
       "      <td>False</td>\n",
       "      <td>False</td>\n",
       "    </tr>\n",
       "    <tr>\n",
       "      <th>3</th>\n",
       "      <td>0_0_3</td>\n",
       "      <td>0</td>\n",
       "      <td>True</td>\n",
       "      <td>False</td>\n",
       "      <td>False</td>\n",
       "    </tr>\n",
       "    <tr>\n",
       "      <th>4</th>\n",
       "      <td>0_1_0</td>\n",
       "      <td>-1</td>\n",
       "      <td>NaN</td>\n",
       "      <td>NaN</td>\n",
       "      <td>NaN</td>\n",
       "    </tr>\n",
       "    <tr>\n",
       "      <th>5</th>\n",
       "      <td>0_1_1</td>\n",
       "      <td>1</td>\n",
       "      <td>True</td>\n",
       "      <td>False</td>\n",
       "      <td>False</td>\n",
       "    </tr>\n",
       "    <tr>\n",
       "      <th>6</th>\n",
       "      <td>0_1_2</td>\n",
       "      <td>-1</td>\n",
       "      <td>NaN</td>\n",
       "      <td>NaN</td>\n",
       "      <td>NaN</td>\n",
       "    </tr>\n",
       "    <tr>\n",
       "      <th>7</th>\n",
       "      <td>0_1_3</td>\n",
       "      <td>-1</td>\n",
       "      <td>NaN</td>\n",
       "      <td>NaN</td>\n",
       "      <td>NaN</td>\n",
       "    </tr>\n",
       "    <tr>\n",
       "      <th>8</th>\n",
       "      <td>1_0_0</td>\n",
       "      <td>2</td>\n",
       "      <td>False</td>\n",
       "      <td>True</td>\n",
       "      <td>False</td>\n",
       "    </tr>\n",
       "    <tr>\n",
       "      <th>9</th>\n",
       "      <td>1_0_1</td>\n",
       "      <td>-1</td>\n",
       "      <td>NaN</td>\n",
       "      <td>NaN</td>\n",
       "      <td>NaN</td>\n",
       "    </tr>\n",
       "  </tbody>\n",
       "</table>\n",
       "</div>"
      ],
      "text/plain": [
       "  MachineId  MeasurementId PumpFailed SlowStart SlowEnd\n",
       "0     0_0_0              0      False     False   False\n",
       "1     0_0_1             -1        NaN       NaN     NaN\n",
       "2     0_0_2              0      False     False   False\n",
       "3     0_0_3              0       True     False   False\n",
       "4     0_1_0             -1        NaN       NaN     NaN\n",
       "5     0_1_1              1       True     False   False\n",
       "6     0_1_2             -1        NaN       NaN     NaN\n",
       "7     0_1_3             -1        NaN       NaN     NaN\n",
       "8     1_0_0              2      False      True   False\n",
       "9     1_0_1             -1        NaN       NaN     NaN"
      ]
     },
     "execution_count": 5,
     "metadata": {},
     "output_type": "execute_result"
    }
   ],
   "source": [
    "labels.head(10)"
   ]
  },
  {
   "cell_type": "code",
   "execution_count": 6,
   "id": "673e5071-9245-4472-aee2-df7407575c25",
   "metadata": {},
   "outputs": [
    {
     "data": {
      "text/plain": [
       "485"
      ]
     },
     "execution_count": 6,
     "metadata": {},
     "output_type": "execute_result"
    }
   ],
   "source": [
    "labels['PumpFailed'].isna().sum()"
   ]
  },
  {
   "cell_type": "code",
   "execution_count": 7,
   "id": "9be90a06-23c1-4cbe-b1e7-86104e97e0ac",
   "metadata": {},
   "outputs": [],
   "source": [
    "nans_in_labels = labels[labels['PumpFailed'].isna()]"
   ]
  },
  {
   "cell_type": "code",
   "execution_count": 8,
   "id": "fed6c769-01f6-4236-9b33-f4ed0d3d6380",
   "metadata": {},
   "outputs": [
    {
     "data": {
      "text/plain": [
       "array([-1], dtype=int64)"
      ]
     },
     "execution_count": 8,
     "metadata": {},
     "output_type": "execute_result"
    }
   ],
   "source": [
    "nans_in_labels['MeasurementId'].unique()"
   ]
  },
  {
   "cell_type": "code",
   "execution_count": 9,
   "id": "0f29054f-672f-4b35-aa88-808dca0851e2",
   "metadata": {},
   "outputs": [],
   "source": [
    "to_remove = df['MachineId'].isin(nans_in_labels['MachineId']) & df['MeasurementId'].isin(nans_in_labels['MeasurementId'])"
   ]
  },
  {
   "cell_type": "code",
   "execution_count": 10,
   "id": "11e65b70-4b0c-49bf-a68e-a12b10503c01",
   "metadata": {},
   "outputs": [],
   "source": [
    "df = df[~to_remove]"
   ]
  },
  {
   "cell_type": "code",
   "execution_count": 11,
   "id": "68f3c73b-aa62-4932-8d2d-ed66b07bf1b7",
   "metadata": {},
   "outputs": [],
   "source": [
    "labels.dropna(subset = ['PumpFailed'],inplace = True)"
   ]
  },
  {
   "cell_type": "code",
   "execution_count": 12,
   "id": "ed2f6b6c-44e8-4718-be02-f220835247eb",
   "metadata": {},
   "outputs": [],
   "source": [
    "def my_groupby(dataframe,col_name):\n",
    "    dfdict = {}\n",
    "    for item,group in dataframe.groupby(col_name):\n",
    "        dfdict[item] = group.drop(columns = col_name)\n",
    "    return dfdict"
   ]
  },
  {
   "cell_type": "code",
   "execution_count": 13,
   "id": "ca96b4cc-7103-4f5f-8d2f-3274d3244a33",
   "metadata": {},
   "outputs": [],
   "source": [
    "data = my_groupby(df,'MachineId')"
   ]
  },
  {
   "cell_type": "code",
   "execution_count": 14,
   "id": "30850028-991d-4155-b0cb-9473a41b261c",
   "metadata": {},
   "outputs": [],
   "source": [
    "data = {key : my_groupby(value,'MeasurementId') for key,value in data.items()}"
   ]
  },
  {
   "cell_type": "markdown",
   "id": "300af154-6ec0-41d5-908e-c64ffde53b9a",
   "metadata": {},
   "source": [
    "First let's explore how measurements looks like."
   ]
  },
  {
   "cell_type": "code",
   "execution_count": 15,
   "id": "6c51d6a2-aa14-47e4-85bb-f804d837ad52",
   "metadata": {},
   "outputs": [
    {
     "data": {
      "text/plain": [
       "<Axes: >"
      ]
     },
     "execution_count": 15,
     "metadata": {},
     "output_type": "execute_result"
    },
    {
     "data": {
      "image/png": "[encoded data removed]",
      "text/plain": [
       "<Figure size 640x480 with 1 Axes>"
      ]
     },
     "metadata": {},
     "output_type": "display_data"
    }
   ],
   "source": [
    "data['0_0_0'][0].plot()"
   ]
  },
  {
   "cell_type": "code",
   "execution_count": 16,
   "id": "95967b6e-65bd-4906-88dd-cf8216491bd3",
   "metadata": {},
   "outputs": [
    {
     "data": {
      "text/plain": [
       "dict_keys(['0_0_0', '0_0_1', '0_0_2', '0_0_3', '0_1_0', '0_1_1', '0_1_2', '0_1_3', '0_2_0', '0_2_1', '0_2_2', '0_2_3', '0_3_0', '0_3_1', '0_3_2', '0_3_3', '10_0_0', '10_0_1', '10_0_2', '10_0_3', '10_2_0', '10_2_1', '10_2_2', '10_2_3', '11_0_0', '11_0_1', '11_0_2', '11_0_3', '11_2_0', '11_2_1', '11_2_2', '11_2_3', '13_2_0', '13_2_1', '13_2_2', '13_2_3', '14_0_0', '14_0_1', '14_0_2', '14_0_3', '14_1_0', '14_1_1', '14_1_2', '14_1_3', '14_2_0', '14_2_1', '14_2_2', '14_2_3', '15_0_0', '15_0_1', '15_0_3', '15_2_0', '15_2_1', '15_2_2', '15_2_3', '15_3_0', '15_3_1', '15_3_2', '15_3_3', '16_2_0', '17_0_0', '17_0_1', '17_0_2', '17_0_3', '17_2_0', '17_2_1', '17_2_2', '17_2_3', '18_2_0', '18_2_1', '18_2_2', '18_2_3', '19_2_0', '19_2_1', '19_2_2', '19_2_3', '1_0_0', '1_0_1', '1_0_2', '1_0_3', '1_2_0', '1_2_1', '1_2_2', '1_2_3', '21_0_0', '21_0_1', '21_0_2', '21_0_3', '21_1_0', '21_1_1', '21_1_2', '21_1_3', '21_2_0', '21_2_1', '21_2_2', '21_2_3', '22_0_2', '22_0_3', '22_1_0', '22_1_1', '22_1_3', '22_3_0', '22_3_1', '22_3_2', '22_3_3', '23_0_0', '23_0_1', '23_0_2', '23_0_3', '23_2_0', '23_2_1', '23_2_2', '23_2_3', '25_0_0', '25_0_1', '25_0_2', '25_0_3', '25_2_0', '25_2_1', '25_2_2', '25_2_3', '26_0_0', '26_0_1', '26_0_2', '26_0_3', '26_2_0', '26_2_1', '26_2_2', '26_2_3', '27_0_0', '27_0_1', '27_0_2', '27_0_3', '27_2_0', '27_2_1', '27_2_2', '27_2_3', '28_2_0', '28_2_1', '28_2_2', '28_2_3', '29_0_0', '29_0_1', '29_0_2', '29_0_3', '29_1_0', '29_1_1', '29_1_2', '29_1_3', '29_2_0', '29_2_1', '29_2_2', '29_2_3', '2_2_0', '2_2_1', '2_2_2', '2_2_3', '30_0_0', '30_0_1', '30_0_2', '30_0_3', '31_0_0', '31_0_1', '31_0_2', '31_0_3', '31_2_0', '31_2_1', '31_2_2', '31_2_3', '32_0_0', '32_0_1', '32_0_3', '32_2_0', '32_2_2', '33_1_0', '33_1_1', '33_1_2', '33_1_3', '33_2_2', '34_0_0', '35_3_0', '35_3_1', '35_3_2', '35_3_3', '36_2_0', '36_2_1', '36_2_2', '36_2_3', '38_2_3', '3_0_0', '3_0_1', '3_0_2', '3_0_3', '3_1_0', '3_1_1', '3_1_2', '3_1_3', '3_2_0', '3_2_1', '3_2_2', '3_2_3', '40_2_0', '40_2_1', '40_2_2', '40_2_3', '41_0_1', '41_0_2', '41_0_3', '41_1_0', '41_3_2', '42_2_0', '42_2_1', '42_2_2', '42_2_3', '43_0_2', '43_0_3', '43_2_3', '46_2_0', '46_2_1', '46_2_2', '46_2_3', '49_2_0', '49_2_1', '49_2_2', '49_2_3', '4_0_0', '4_0_1', '4_0_2', '4_0_3', '4_1_0', '4_1_1', '4_1_2', '4_1_3', '4_2_0', '4_2_1', '4_2_2', '4_2_3', '4_3_0', '4_3_1', '4_3_2', '4_3_3', '51_7_1', '51_7_3', '54_2_0', '55_0_0', '55_0_1', '55_0_2', '55_0_3', '56_0_1', '56_0_2', '56_0_3', '56_2_1', '56_2_2', '56_2_3', '57_0_0', '57_0_1', '57_0_2', '57_1_0', '57_1_1', '57_1_2', '57_1_3', '57_2_0', '57_2_1', '57_2_2', '57_2_3', '57_3_0', '57_3_1', '57_3_2', '57_3_3', '58_2_0', '58_2_1', '58_2_2', '58_2_3', '59_0_0', '59_0_1', '59_0_2', '59_0_3', '59_2_1', '59_2_2', '59_2_3', '60_2_2', '61_2_1', '61_2_2', '61_2_3', '62_0_0', '62_0_1', '62_0_2', '62_0_3', '63_3_2', '64_0_0', '64_0_1', '64_0_2', '64_0_3', '65_2_0', '65_2_1', '65_2_2', '65_2_3', '66_2_0', '66_2_1', '66_2_3', '67_2_1', '67_2_2', '67_2_3', '68_0_1', '69_0_1', '6_0_0', '6_0_1', '6_0_2', '6_0_3', '6_2_0', '6_2_1', '6_2_2', '6_2_3', '73_0_0', '73_0_1', '73_0_3', '73_1_0', '73_1_2', '73_3_0', '73_3_2', '73_3_3', '74_3_2', '76_2_3', '77_2_1', '78_0_3', '79_0_1', '79_2_1', '7_0_0', '7_0_1', '7_0_2', '7_0_3', '7_1_0', '7_1_1', '7_1_2', '7_1_3', '7_2_0', '7_2_1', '7_2_2', '7_2_3', '7_3_0', '7_3_1', '7_3_2', '7_3_3', '7_4_0', '7_4_1', '7_4_2', '7_4_3', '8_2_0', '8_2_1', '8_2_2', '8_2_3', '9_0_0', '9_0_1', '9_0_2', '9_0_3', '9_1_0', '9_1_1', '9_1_2', '9_1_3', '9_2_0', '9_2_1', '9_2_2', '9_3_0', '9_3_1', '9_3_2', '9_3_3', '9_4_0', '9_4_1', '9_4_2', '9_4_3', '9_5_0', '9_5_1', '9_5_2', '9_5_3'])"
      ]
     },
     "execution_count": 16,
     "metadata": {},
     "output_type": "execute_result"
    }
   ],
   "source": [
    "data.keys()"
   ]
  },
  {
   "cell_type": "code",
   "execution_count": 21,
   "id": "48b68368-5040-428d-9315-c2ea121f8652",
   "metadata": {},
   "outputs": [
    {
     "data": {
      "text/plain": [
       "dict_keys([173, 175, 176, 178, 180, 183, 187, 188, 189, 192, 6510, 6516])"
      ]
     },
     "execution_count": 21,
     "metadata": {},
     "output_type": "execute_result"
    }
   ],
   "source": [
    "data['6_2_2'].keys()"
   ]
  },
  {
   "cell_type": "code",
   "execution_count": 22,
   "id": "2fd74d1f-e2b0-412c-9ff2-a8864f52c61a",
   "metadata": {},
   "outputs": [
    {
     "data": {
      "text/html": [
       "<div>\n",
       "<style scoped>\n",
       "    .dataframe tbody tr th:only-of-type {\n",
       "        vertical-align: middle;\n",
       "    }\n",
       "\n",
       "    .dataframe tbody tr th {\n",
       "        vertical-align: top;\n",
       "    }\n",
       "\n",
       "    .dataframe thead th {\n",
       "        text-align: right;\n",
       "    }\n",
       "</style>\n",
       "<table border=\"1\" class=\"dataframe\">\n",
       "  <thead>\n",
       "    <tr style=\"text-align: right;\">\n",
       "      <th></th>\n",
       "      <th>MachineId</th>\n",
       "      <th>MeasurementId</th>\n",
       "      <th>PumpFailed</th>\n",
       "      <th>SlowStart</th>\n",
       "      <th>SlowEnd</th>\n",
       "    </tr>\n",
       "  </thead>\n",
       "  <tbody>\n",
       "    <tr>\n",
       "      <th>486</th>\n",
       "      <td>6_2_2</td>\n",
       "      <td>178</td>\n",
       "      <td>True</td>\n",
       "      <td>NaN</td>\n",
       "      <td>NaN</td>\n",
       "    </tr>\n",
       "  </tbody>\n",
       "</table>\n",
       "</div>"
      ],
      "text/plain": [
       "    MachineId  MeasurementId PumpFailed SlowStart SlowEnd\n",
       "486     6_2_2            178       True       NaN     NaN"
      ]
     },
     "execution_count": 22,
     "metadata": {},
     "output_type": "execute_result"
    },
    {
     "data": {
      "image/png": "[encoded data removed]",
      "text/plain": [
       "<Figure size 640x480 with 1 Axes>"
      ]
     },
     "metadata": {},
     "output_type": "display_data"
    }
   ],
   "source": [
    "data['6_2_2'][178].plot()\n",
    "labels[(labels['MachineId'] == '6_2_2') & (labels['MeasurementId'] == 178)]\n"
   ]
  },
  {
   "cell_type": "code",
   "execution_count": 23,
   "id": "9c3391e7-12c3-4253-aedd-912bd34239c3",
   "metadata": {},
   "outputs": [],
   "source": [
    "import random"
   ]
  },
  {
   "cell_type": "code",
   "execution_count": 24,
   "id": "a72ea6d6-a61d-4c6c-a8c9-b219413f0401",
   "metadata": {},
   "outputs": [],
   "source": [
    "def graph(machine,measurement):\n",
    "    label = labels[(labels['MachineId'] == machine) & (labels['MeasurementId'] == measurement)]['PumpFailed']\n",
    "    print(str(label))\n",
    "    data[machine][measurement].plot(title = str(label))"
   ]
  },
  {
   "cell_type": "code",
   "execution_count": 25,
   "id": "d8960d92-441e-479e-b9cd-4ec6930af4c8",
   "metadata": {},
   "outputs": [
    {
     "name": "stdout",
     "output_type": "stream",
     "text": [
      "486    True\n",
      "Name: PumpFailed, dtype: object\n"
     ]
    },
    {
     "data": {
      "image/png": "[encoded data removed]",
      "text/plain": [
       "<Figure size 640x480 with 1 Axes>"
      ]
     },
     "metadata": {},
     "output_type": "display_data"
    }
   ],
   "source": [
    "graph('6_2_2',178)"
   ]
  },
  {
   "cell_type": "code",
   "execution_count": 26,
   "id": "bf978588-48e8-4451-9303-94f1321c06bc",
   "metadata": {},
   "outputs": [],
   "source": [
    "#random arguments so that we don't have to type IDs every single time\n",
    "def give_random_arguments(dict1):\n",
    "    rand_key_1 = random.choice(list(dict1))\n",
    "    rand_key_2 = random.choice(list(dict1[rand_key_1]))\n",
    "    return rand_key_1, rand_key_2\n",
    "    "
   ]
  },
  {
   "cell_type": "code",
   "execution_count": 27,
   "id": "44d0d340-9a8e-4bae-afed-d7f8f9a382a1",
   "metadata": {},
   "outputs": [
    {
     "data": {
      "text/plain": [
       "('59_0_1', 4372)"
      ]
     },
     "execution_count": 27,
     "metadata": {},
     "output_type": "execute_result"
    }
   ],
   "source": [
    "give_random_arguments(data)"
   ]
  },
  {
   "cell_type": "code",
   "execution_count": 28,
   "id": "f14264e0-b07d-4b8a-be7b-ef87b5fc3ec0",
   "metadata": {},
   "outputs": [
    {
     "name": "stdout",
     "output_type": "stream",
     "text": [
      "7632    True\n",
      "Name: PumpFailed, dtype: object\n"
     ]
    },
    {
     "data": {
      "image/png": "[encoded data removed]",
      "text/plain": [
       "<Figure size 640x480 with 1 Axes>"
      ]
     },
     "metadata": {},
     "output_type": "display_data"
    }
   ],
   "source": [
    "graph(*give_random_arguments(data))"
   ]
  },
  {
   "cell_type": "code",
   "execution_count": 29,
   "id": "f55ca284-f0c3-4d2c-aa6c-d175548a7fb5",
   "metadata": {},
   "outputs": [
    {
     "name": "stdout",
     "output_type": "stream",
     "text": [
      "3207    True\n",
      "Name: PumpFailed, dtype: object\n"
     ]
    },
    {
     "data": {
      "image/png": "[encoded data removed]",
      "text/plain": [
       "<Figure size 640x480 with 1 Axes>"
      ]
     },
     "metadata": {},
     "output_type": "display_data"
    }
   ],
   "source": [
    "graph(*give_random_arguments(data))"
   ]
  },
  {
   "cell_type": "code",
   "execution_count": 30,
   "id": "48e7d323-4d20-4635-96fa-8c0846baaea0",
   "metadata": {},
   "outputs": [
    {
     "name": "stdout",
     "output_type": "stream",
     "text": [
      "12352    False\n",
      "Name: PumpFailed, dtype: object\n"
     ]
    },
    {
     "data": {
      "image/png": "[encoded data removed]",
      "text/plain": [
       "<Figure size 640x480 with 1 Axes>"
      ]
     },
     "metadata": {},
     "output_type": "display_data"
    }
   ],
   "source": [
    "graph(*give_random_arguments(data))"
   ]
  },
  {
   "cell_type": "code",
   "execution_count": 31,
   "id": "8668b79a-3a47-4de9-946a-910f4962d981",
   "metadata": {},
   "outputs": [
    {
     "name": "stdout",
     "output_type": "stream",
     "text": [
      "13555    False\n",
      "Name: PumpFailed, dtype: object\n"
     ]
    },
    {
     "data": {
      "image/png": "[encoded data removed]",
      "text/plain": [
       "<Figure size 640x480 with 1 Axes>"
      ]
     },
     "metadata": {},
     "output_type": "display_data"
    }
   ],
   "source": [
    "graph(*give_random_arguments(data))"
   ]
  },
  {
   "cell_type": "code",
   "execution_count": 28,
   "id": "48523ccd-1a67-46c5-b3f1-9e3fc6c748d3",
   "metadata": {},
   "outputs": [
    {
     "name": "stdout",
     "output_type": "stream",
     "text": [
      "12378    False\n",
      "Name: PumpFailed, dtype: object\n",
      "12443    False\n",
      "Name: PumpFailed, dtype: object\n"
     ]
    },
    {
     "data": {
      "image/png": "[encoded data removed]",
      "text/plain": [
       "<Figure size 640x480 with 1 Axes>"
      ]
     },
     "metadata": {},
     "output_type": "display_data"
    },
    {
     "data": {
      "image/png": "[encoded data removed]",
      "text/plain": [
       "<Figure size 640x480 with 1 Axes>"
      ]
     },
     "metadata": {},
     "output_type": "display_data"
    }
   ],
   "source": [
    "graph(*give_random_arguments(data))\n",
    "graph(*give_random_arguments(data))"
   ]
  },
  {
   "cell_type": "code",
   "execution_count": 32,
   "id": "f5f083f4-b209-4f8b-8022-9a58ac21d22f",
   "metadata": {},
   "outputs": [
    {
     "name": "stdout",
     "output_type": "stream",
     "text": [
      "3    True\n",
      "Name: PumpFailed, dtype: object\n"
     ]
    },
    {
     "data": {
      "image/png": "[encoded data removed]",
      "text/plain": [
       "<Figure size 640x480 with 1 Axes>"
      ]
     },
     "metadata": {},
     "output_type": "display_data"
    }
   ],
   "source": [
    "graph('0_0_3',0)"
   ]
  },
  {
   "cell_type": "markdown",
   "id": "0d8e0234-01b1-4b32-8f6c-934f95223459",
   "metadata": {},
   "source": [
    "From all the graphs above we might conclude how we would be able to predict pump failure. In short, pump failed if the air pressure reached certain level and then suddenly dropped, now we need to select the correct model. We have muplitple options, we can treat the data as functions and perform some kind of functional logistic regression. we can treat the data as multi dimensional (several hundreds) discrete features. Since all the features are of the same kind, principal value decomposition (which is common solution, when we have too many features) might not provide us any useful results. Let's try to perform some statistical analysis, from the first view something like variance of data might be simple yet good predictor of pump failure."
   ]
  },
  {
   "cell_type": "markdown",
   "id": "c6b1099b-e29a-4b27-951d-0ac399416d77",
   "metadata": {},
   "source": [
    "## Statistical approach"
   ]
  },
  {
   "cell_type": "code",
   "execution_count": 33,
   "id": "4535322e-914f-4645-9b61-af33e7e08939",
   "metadata": {},
   "outputs": [
    {
     "data": {
      "text/plain": [
       "('69_0_1', 3825)"
      ]
     },
     "execution_count": 33,
     "metadata": {},
     "output_type": "execute_result"
    }
   ],
   "source": [
    "give_random_arguments(data)"
   ]
  },
  {
   "cell_type": "code",
   "execution_count": 34,
   "id": "0986c69c-22e3-406c-9348-7f519d206418",
   "metadata": {},
   "outputs": [
    {
     "data": {
      "text/plain": [
       "pandas.core.frame.DataFrame"
      ]
     },
     "execution_count": 34,
     "metadata": {},
     "output_type": "execute_result"
    }
   ],
   "source": [
    "type(data['8_2_1'][429])"
   ]
  },
  {
   "cell_type": "code",
   "execution_count": 35,
   "id": "70b4c823-f62a-4b33-946f-f60c5f726929",
   "metadata": {},
   "outputs": [
    {
     "data": {
      "text/html": [
       "<div>\n",
       "<style scoped>\n",
       "    .dataframe tbody tr th:only-of-type {\n",
       "        vertical-align: middle;\n",
       "    }\n",
       "\n",
       "    .dataframe tbody tr th {\n",
       "        vertical-align: top;\n",
       "    }\n",
       "\n",
       "    .dataframe thead th {\n",
       "        text-align: right;\n",
       "    }\n",
       "</style>\n",
       "<table border=\"1\" class=\"dataframe\">\n",
       "  <thead>\n",
       "    <tr style=\"text-align: right;\">\n",
       "      <th></th>\n",
       "      <th>Pressure</th>\n",
       "    </tr>\n",
       "  </thead>\n",
       "  <tbody>\n",
       "    <tr>\n",
       "      <th>981776</th>\n",
       "      <td>False</td>\n",
       "    </tr>\n",
       "    <tr>\n",
       "      <th>981777</th>\n",
       "      <td>False</td>\n",
       "    </tr>\n",
       "    <tr>\n",
       "      <th>981778</th>\n",
       "      <td>False</td>\n",
       "    </tr>\n",
       "    <tr>\n",
       "      <th>981779</th>\n",
       "      <td>False</td>\n",
       "    </tr>\n",
       "    <tr>\n",
       "      <th>981780</th>\n",
       "      <td>False</td>\n",
       "    </tr>\n",
       "    <tr>\n",
       "      <th>...</th>\n",
       "      <td>...</td>\n",
       "    </tr>\n",
       "    <tr>\n",
       "      <th>982415</th>\n",
       "      <td>False</td>\n",
       "    </tr>\n",
       "    <tr>\n",
       "      <th>982416</th>\n",
       "      <td>False</td>\n",
       "    </tr>\n",
       "    <tr>\n",
       "      <th>982417</th>\n",
       "      <td>False</td>\n",
       "    </tr>\n",
       "    <tr>\n",
       "      <th>982418</th>\n",
       "      <td>False</td>\n",
       "    </tr>\n",
       "    <tr>\n",
       "      <th>982419</th>\n",
       "      <td>False</td>\n",
       "    </tr>\n",
       "  </tbody>\n",
       "</table>\n",
       "<p>644 rows × 1 columns</p>\n",
       "</div>"
      ],
      "text/plain": [
       "        Pressure\n",
       "981776     False\n",
       "981777     False\n",
       "981778     False\n",
       "981779     False\n",
       "981780     False\n",
       "...          ...\n",
       "982415     False\n",
       "982416     False\n",
       "982417     False\n",
       "982418     False\n",
       "982419     False\n",
       "\n",
       "[644 rows x 1 columns]"
      ]
     },
     "execution_count": 35,
     "metadata": {},
     "output_type": "execute_result"
    }
   ],
   "source": [
    "(data['8_2_1'][429] != 0)"
   ]
  },
  {
   "cell_type": "code",
   "execution_count": 36,
   "id": "4fa278a6-19f4-4ab1-9e76-f085d1e0c3b9",
   "metadata": {},
   "outputs": [],
   "source": [
    "#removing zeros from each measurement\n",
    "for key in data:\n",
    "    for k in data[key]:\n",
    "        mask = data[key][k] == 0\n",
    "        data[key][k] = data[key][k][~mask]"
   ]
  },
  {
   "cell_type": "code",
   "execution_count": 37,
   "id": "4a64ec5c-5215-4cf4-9d19-c624448ddd2a",
   "metadata": {},
   "outputs": [
    {
     "name": "stdout",
     "output_type": "stream",
     "text": [
      "7878    True\n",
      "Name: PumpFailed, dtype: object\n"
     ]
    },
    {
     "data": {
      "image/png": "[encoded data removed]",
      "text/plain": [
       "<Figure size 640x480 with 1 Axes>"
      ]
     },
     "metadata": {},
     "output_type": "display_data"
    }
   ],
   "source": [
    "graph(*give_random_arguments(data))"
   ]
  },
  {
   "cell_type": "code",
   "execution_count": 38,
   "id": "5d83738d-599f-458f-aebc-49b5715054e3",
   "metadata": {},
   "outputs": [
    {
     "name": "stdout",
     "output_type": "stream",
     "text": [
      "9063    False\n",
      "Name: PumpFailed, dtype: object\n"
     ]
    },
    {
     "data": {
      "image/png": "[encoded data removed]",
      "text/plain": [
       "<Figure size 640x480 with 1 Axes>"
      ]
     },
     "metadata": {},
     "output_type": "display_data"
    }
   ],
   "source": [
    "graph(*give_random_arguments(data))"
   ]
  },
  {
   "cell_type": "markdown",
   "id": "3baef10c-2853-417c-a01f-1001bea62699",
   "metadata": {},
   "source": [
    "First let's try to define function, that will return us variance of values over the first half of the measurement. It was hinted for us that pump failure is caused by sudden pressure drop in the first half of the cycle. By chosing only the first half we also get rid of unwanted variance caused by slow pressure drop in some measurement. So let's try train our first model with this very naive aproach."
   ]
  },
  {
   "cell_type": "code",
   "execution_count": 39,
   "id": "a2b47419-ee9b-4c90-a531-0f9552958565",
   "metadata": {},
   "outputs": [],
   "source": [
    "def variance(dataframe):\n",
    "    midpoint = int(dataframe.first_valid_index() + (dataframe.last_valid_index()-dataframe.first_valid_index())//2)\n",
    "    return dataframe.iloc[:midpoint].var().iloc[0]\n",
    "    "
   ]
  },
  {
   "cell_type": "code",
   "execution_count": 40,
   "id": "a76ab1a8-5685-4c04-956d-97aaaff33353",
   "metadata": {},
   "outputs": [
    {
     "data": {
      "text/plain": [
       "0.03836226506473032"
      ]
     },
     "execution_count": 40,
     "metadata": {},
     "output_type": "execute_result"
    }
   ],
   "source": [
    "variance(data['73_3_2'][4368])"
   ]
  },
  {
   "cell_type": "code",
   "execution_count": 41,
   "id": "6d89716f-82c5-4aee-b76c-4a4c225655e4",
   "metadata": {},
   "outputs": [
    {
     "name": "stdout",
     "output_type": "stream",
     "text": [
      "12358    False\n",
      "Name: PumpFailed, dtype: object\n"
     ]
    },
    {
     "data": {
      "image/png": "[encoded data removed]",
      "text/plain": [
       "<Figure size 640x480 with 1 Axes>"
      ]
     },
     "metadata": {},
     "output_type": "display_data"
    }
   ],
   "source": [
    "graph('73_3_2',4368)"
   ]
  },
  {
   "cell_type": "markdown",
   "id": "87ea3958-9fda-4307-8ad9-870525df804d",
   "metadata": {},
   "source": [
    "Now we would like to get our data in shape, that can be actually fed to our model, something like column of ID, column of corresponding variance and column wheter the pump failed or not."
   ]
  },
  {
   "cell_type": "code",
   "execution_count": 42,
   "id": "b22c0728-0253-4e41-ba89-fc57c57bf260",
   "metadata": {},
   "outputs": [],
   "source": [
    "ID = []\n",
    "var = []\n",
    "\n",
    "for key in data:\n",
    "    for k in data[key]:\n",
    "        try:\n",
    "            var.append(variance(data[key][k]))\n",
    "            ID.append(key + '-' + str(k))\n",
    "        except:\n",
    "            continue\n"
   ]
  },
  {
   "cell_type": "code",
   "execution_count": 43,
   "id": "176fc7e3-4aa3-4a23-917a-b4585921e65d",
   "metadata": {},
   "outputs": [],
   "source": [
    "labels['MeasurementId'] = labels['MeasurementId'].astype(str)\n",
    "labels['ID'] = labels['ID'] = labels['MachineId'] + '-' + labels['MeasurementId']"
   ]
  },
  {
   "cell_type": "code",
   "execution_count": 44,
   "id": "362d0157-6a2c-4dd9-8ce5-9d26056b8bb1",
   "metadata": {},
   "outputs": [
    {
     "data": {
      "text/html": [
       "<div>\n",
       "<style scoped>\n",
       "    .dataframe tbody tr th:only-of-type {\n",
       "        vertical-align: middle;\n",
       "    }\n",
       "\n",
       "    .dataframe tbody tr th {\n",
       "        vertical-align: top;\n",
       "    }\n",
       "\n",
       "    .dataframe thead th {\n",
       "        text-align: right;\n",
       "    }\n",
       "</style>\n",
       "<table border=\"1\" class=\"dataframe\">\n",
       "  <thead>\n",
       "    <tr style=\"text-align: right;\">\n",
       "      <th></th>\n",
       "      <th>MachineId</th>\n",
       "      <th>MeasurementId</th>\n",
       "      <th>PumpFailed</th>\n",
       "      <th>SlowStart</th>\n",
       "      <th>SlowEnd</th>\n",
       "      <th>ID</th>\n",
       "    </tr>\n",
       "  </thead>\n",
       "  <tbody>\n",
       "    <tr>\n",
       "      <th>0</th>\n",
       "      <td>0_0_0</td>\n",
       "      <td>0</td>\n",
       "      <td>False</td>\n",
       "      <td>False</td>\n",
       "      <td>False</td>\n",
       "      <td>0_0_0-0</td>\n",
       "    </tr>\n",
       "    <tr>\n",
       "      <th>2</th>\n",
       "      <td>0_0_2</td>\n",
       "      <td>0</td>\n",
       "      <td>False</td>\n",
       "      <td>False</td>\n",
       "      <td>False</td>\n",
       "      <td>0_0_2-0</td>\n",
       "    </tr>\n",
       "    <tr>\n",
       "      <th>3</th>\n",
       "      <td>0_0_3</td>\n",
       "      <td>0</td>\n",
       "      <td>True</td>\n",
       "      <td>False</td>\n",
       "      <td>False</td>\n",
       "      <td>0_0_3-0</td>\n",
       "    </tr>\n",
       "    <tr>\n",
       "      <th>5</th>\n",
       "      <td>0_1_1</td>\n",
       "      <td>1</td>\n",
       "      <td>True</td>\n",
       "      <td>False</td>\n",
       "      <td>False</td>\n",
       "      <td>0_1_1-1</td>\n",
       "    </tr>\n",
       "    <tr>\n",
       "      <th>8</th>\n",
       "      <td>1_0_0</td>\n",
       "      <td>2</td>\n",
       "      <td>False</td>\n",
       "      <td>True</td>\n",
       "      <td>False</td>\n",
       "      <td>1_0_0-2</td>\n",
       "    </tr>\n",
       "    <tr>\n",
       "      <th>...</th>\n",
       "      <td>...</td>\n",
       "      <td>...</td>\n",
       "      <td>...</td>\n",
       "      <td>...</td>\n",
       "      <td>...</td>\n",
       "      <td>...</td>\n",
       "    </tr>\n",
       "    <tr>\n",
       "      <th>27380</th>\n",
       "      <td>10_0_2</td>\n",
       "      <td>8833</td>\n",
       "      <td>False</td>\n",
       "      <td>False</td>\n",
       "      <td>False</td>\n",
       "      <td>10_0_2-8833</td>\n",
       "    </tr>\n",
       "    <tr>\n",
       "      <th>27381</th>\n",
       "      <td>10_0_3</td>\n",
       "      <td>8833</td>\n",
       "      <td>False</td>\n",
       "      <td>False</td>\n",
       "      <td>False</td>\n",
       "      <td>10_0_3-8833</td>\n",
       "    </tr>\n",
       "    <tr>\n",
       "      <th>27382</th>\n",
       "      <td>10_0_0</td>\n",
       "      <td>8834</td>\n",
       "      <td>False</td>\n",
       "      <td>False</td>\n",
       "      <td>False</td>\n",
       "      <td>10_0_0-8834</td>\n",
       "    </tr>\n",
       "    <tr>\n",
       "      <th>27383</th>\n",
       "      <td>10_0_1</td>\n",
       "      <td>8834</td>\n",
       "      <td>False</td>\n",
       "      <td>False</td>\n",
       "      <td>True</td>\n",
       "      <td>10_0_1-8834</td>\n",
       "    </tr>\n",
       "    <tr>\n",
       "      <th>27384</th>\n",
       "      <td>10_0_3</td>\n",
       "      <td>8834</td>\n",
       "      <td>False</td>\n",
       "      <td>False</td>\n",
       "      <td>False</td>\n",
       "      <td>10_0_3-8834</td>\n",
       "    </tr>\n",
       "  </tbody>\n",
       "</table>\n",
       "<p>26900 rows × 6 columns</p>\n",
       "</div>"
      ],
      "text/plain": [
       "      MachineId MeasurementId PumpFailed SlowStart SlowEnd           ID\n",
       "0         0_0_0             0      False     False   False      0_0_0-0\n",
       "2         0_0_2             0      False     False   False      0_0_2-0\n",
       "3         0_0_3             0       True     False   False      0_0_3-0\n",
       "5         0_1_1             1       True     False   False      0_1_1-1\n",
       "8         1_0_0             2      False      True   False      1_0_0-2\n",
       "...         ...           ...        ...       ...     ...          ...\n",
       "27380    10_0_2          8833      False     False   False  10_0_2-8833\n",
       "27381    10_0_3          8833      False     False   False  10_0_3-8833\n",
       "27382    10_0_0          8834      False     False   False  10_0_0-8834\n",
       "27383    10_0_1          8834      False     False    True  10_0_1-8834\n",
       "27384    10_0_3          8834      False     False   False  10_0_3-8834\n",
       "\n",
       "[26900 rows x 6 columns]"
      ]
     },
     "execution_count": 44,
     "metadata": {},
     "output_type": "execute_result"
    }
   ],
   "source": [
    "labels"
   ]
  },
  {
   "cell_type": "code",
   "execution_count": 45,
   "id": "59ab475a-2302-4c8d-91dc-7eb314a7b99f",
   "metadata": {},
   "outputs": [],
   "source": [
    "data_variance = pd.DataFrame({'ID':ID,'variance':var})"
   ]
  },
  {
   "cell_type": "code",
   "execution_count": 46,
   "id": "213b2d7b-a3ce-42df-b282-757529d3fca7",
   "metadata": {},
   "outputs": [],
   "source": [
    "data_variance = pd.merge(data_variance, labels[['ID','PumpFailed']], on = 'ID')"
   ]
  },
  {
   "cell_type": "code",
   "execution_count": 47,
   "id": "56e90c41-0154-460b-95f4-38496f944dce",
   "metadata": {},
   "outputs": [],
   "source": [
    "data_variance.dropna(subset = ['variance'], inplace = True)"
   ]
  },
  {
   "cell_type": "code",
   "execution_count": 48,
   "id": "e9106fd8-8570-4065-b5e9-5da37c94b393",
   "metadata": {},
   "outputs": [
    {
     "data": {
      "text/plain": [
       "ID            0\n",
       "variance      0\n",
       "PumpFailed    0\n",
       "dtype: int64"
      ]
     },
     "execution_count": 48,
     "metadata": {},
     "output_type": "execute_result"
    }
   ],
   "source": [
    "data_variance.isna().sum()"
   ]
  },
  {
   "cell_type": "code",
   "execution_count": 49,
   "id": "c4b353fb-427b-4404-909a-1a6c097b524b",
   "metadata": {},
   "outputs": [
    {
     "data": {
      "text/html": [
       "<div>\n",
       "<style scoped>\n",
       "    .dataframe tbody tr th:only-of-type {\n",
       "        vertical-align: middle;\n",
       "    }\n",
       "\n",
       "    .dataframe tbody tr th {\n",
       "        vertical-align: top;\n",
       "    }\n",
       "\n",
       "    .dataframe thead th {\n",
       "        text-align: right;\n",
       "    }\n",
       "</style>\n",
       "<table border=\"1\" class=\"dataframe\">\n",
       "  <thead>\n",
       "    <tr style=\"text-align: right;\">\n",
       "      <th></th>\n",
       "      <th>ID</th>\n",
       "      <th>variance</th>\n",
       "      <th>PumpFailed</th>\n",
       "    </tr>\n",
       "  </thead>\n",
       "  <tbody>\n",
       "    <tr>\n",
       "      <th>25321</th>\n",
       "      <td>9_3_1-5173</td>\n",
       "      <td>0.037358</td>\n",
       "      <td>False</td>\n",
       "    </tr>\n",
       "    <tr>\n",
       "      <th>25322</th>\n",
       "      <td>9_3_1-5174</td>\n",
       "      <td>0.055018</td>\n",
       "      <td>False</td>\n",
       "    </tr>\n",
       "    <tr>\n",
       "      <th>25323</th>\n",
       "      <td>9_3_1-5175</td>\n",
       "      <td>0.031427</td>\n",
       "      <td>False</td>\n",
       "    </tr>\n",
       "    <tr>\n",
       "      <th>25324</th>\n",
       "      <td>9_3_1-5176</td>\n",
       "      <td>0.042335</td>\n",
       "      <td>False</td>\n",
       "    </tr>\n",
       "    <tr>\n",
       "      <th>25325</th>\n",
       "      <td>9_3_1-5177</td>\n",
       "      <td>0.041435</td>\n",
       "      <td>False</td>\n",
       "    </tr>\n",
       "    <tr>\n",
       "      <th>25326</th>\n",
       "      <td>9_3_1-5178</td>\n",
       "      <td>0.070474</td>\n",
       "      <td>False</td>\n",
       "    </tr>\n",
       "    <tr>\n",
       "      <th>25327</th>\n",
       "      <td>9_3_1-5179</td>\n",
       "      <td>0.019718</td>\n",
       "      <td>False</td>\n",
       "    </tr>\n",
       "    <tr>\n",
       "      <th>25328</th>\n",
       "      <td>9_3_2-503</td>\n",
       "      <td>0.029963</td>\n",
       "      <td>False</td>\n",
       "    </tr>\n",
       "    <tr>\n",
       "      <th>25329</th>\n",
       "      <td>9_3_2-505</td>\n",
       "      <td>0.038866</td>\n",
       "      <td>False</td>\n",
       "    </tr>\n",
       "    <tr>\n",
       "      <th>25330</th>\n",
       "      <td>9_3_2-506</td>\n",
       "      <td>0.042224</td>\n",
       "      <td>True</td>\n",
       "    </tr>\n",
       "    <tr>\n",
       "      <th>25331</th>\n",
       "      <td>9_3_2-514</td>\n",
       "      <td>0.014909</td>\n",
       "      <td>True</td>\n",
       "    </tr>\n",
       "    <tr>\n",
       "      <th>25332</th>\n",
       "      <td>9_3_2-550</td>\n",
       "      <td>0.031527</td>\n",
       "      <td>False</td>\n",
       "    </tr>\n",
       "    <tr>\n",
       "      <th>25333</th>\n",
       "      <td>9_3_2-572</td>\n",
       "      <td>0.035352</td>\n",
       "      <td>True</td>\n",
       "    </tr>\n",
       "    <tr>\n",
       "      <th>25334</th>\n",
       "      <td>9_3_2-575</td>\n",
       "      <td>0.039152</td>\n",
       "      <td>False</td>\n",
       "    </tr>\n",
       "    <tr>\n",
       "      <th>25335</th>\n",
       "      <td>9_3_2-586</td>\n",
       "      <td>0.032120</td>\n",
       "      <td>True</td>\n",
       "    </tr>\n",
       "    <tr>\n",
       "      <th>25336</th>\n",
       "      <td>9_3_2-595</td>\n",
       "      <td>0.033393</td>\n",
       "      <td>False</td>\n",
       "    </tr>\n",
       "    <tr>\n",
       "      <th>25337</th>\n",
       "      <td>9_3_2-628</td>\n",
       "      <td>0.042288</td>\n",
       "      <td>True</td>\n",
       "    </tr>\n",
       "    <tr>\n",
       "      <th>25338</th>\n",
       "      <td>9_3_2-894</td>\n",
       "      <td>0.065827</td>\n",
       "      <td>True</td>\n",
       "    </tr>\n",
       "    <tr>\n",
       "      <th>25339</th>\n",
       "      <td>9_3_2-900</td>\n",
       "      <td>0.148221</td>\n",
       "      <td>False</td>\n",
       "    </tr>\n",
       "    <tr>\n",
       "      <th>25340</th>\n",
       "      <td>9_3_2-901</td>\n",
       "      <td>0.080776</td>\n",
       "      <td>False</td>\n",
       "    </tr>\n",
       "    <tr>\n",
       "      <th>25341</th>\n",
       "      <td>9_3_2-906</td>\n",
       "      <td>0.044746</td>\n",
       "      <td>False</td>\n",
       "    </tr>\n",
       "    <tr>\n",
       "      <th>25342</th>\n",
       "      <td>9_3_2-911</td>\n",
       "      <td>0.019538</td>\n",
       "      <td>True</td>\n",
       "    </tr>\n",
       "    <tr>\n",
       "      <th>25343</th>\n",
       "      <td>9_3_2-917</td>\n",
       "      <td>0.055754</td>\n",
       "      <td>False</td>\n",
       "    </tr>\n",
       "    <tr>\n",
       "      <th>25344</th>\n",
       "      <td>9_3_2-925</td>\n",
       "      <td>0.050587</td>\n",
       "      <td>True</td>\n",
       "    </tr>\n",
       "    <tr>\n",
       "      <th>25345</th>\n",
       "      <td>9_3_2-4935</td>\n",
       "      <td>0.019581</td>\n",
       "      <td>False</td>\n",
       "    </tr>\n",
       "    <tr>\n",
       "      <th>25346</th>\n",
       "      <td>9_3_2-4936</td>\n",
       "      <td>0.029793</td>\n",
       "      <td>False</td>\n",
       "    </tr>\n",
       "    <tr>\n",
       "      <th>25347</th>\n",
       "      <td>9_3_2-4937</td>\n",
       "      <td>0.050028</td>\n",
       "      <td>False</td>\n",
       "    </tr>\n",
       "    <tr>\n",
       "      <th>25348</th>\n",
       "      <td>9_3_2-4938</td>\n",
       "      <td>0.042041</td>\n",
       "      <td>False</td>\n",
       "    </tr>\n",
       "    <tr>\n",
       "      <th>25349</th>\n",
       "      <td>9_3_2-4939</td>\n",
       "      <td>0.135245</td>\n",
       "      <td>False</td>\n",
       "    </tr>\n",
       "    <tr>\n",
       "      <th>25350</th>\n",
       "      <td>9_3_2-4942</td>\n",
       "      <td>0.050991</td>\n",
       "      <td>False</td>\n",
       "    </tr>\n",
       "  </tbody>\n",
       "</table>\n",
       "</div>"
      ],
      "text/plain": [
       "               ID  variance PumpFailed\n",
       "25321  9_3_1-5173  0.037358      False\n",
       "25322  9_3_1-5174  0.055018      False\n",
       "25323  9_3_1-5175  0.031427      False\n",
       "25324  9_3_1-5176  0.042335      False\n",
       "25325  9_3_1-5177  0.041435      False\n",
       "25326  9_3_1-5178  0.070474      False\n",
       "25327  9_3_1-5179  0.019718      False\n",
       "25328   9_3_2-503  0.029963      False\n",
       "25329   9_3_2-505  0.038866      False\n",
       "25330   9_3_2-506  0.042224       True\n",
       "25331   9_3_2-514  0.014909       True\n",
       "25332   9_3_2-550  0.031527      False\n",
       "25333   9_3_2-572  0.035352       True\n",
       "25334   9_3_2-575  0.039152      False\n",
       "25335   9_3_2-586  0.032120       True\n",
       "25336   9_3_2-595  0.033393      False\n",
       "25337   9_3_2-628  0.042288       True\n",
       "25338   9_3_2-894  0.065827       True\n",
       "25339   9_3_2-900  0.148221      False\n",
       "25340   9_3_2-901  0.080776      False\n",
       "25341   9_3_2-906  0.044746      False\n",
       "25342   9_3_2-911  0.019538       True\n",
       "25343   9_3_2-917  0.055754      False\n",
       "25344   9_3_2-925  0.050587       True\n",
       "25345  9_3_2-4935  0.019581      False\n",
       "25346  9_3_2-4936  0.029793      False\n",
       "25347  9_3_2-4937  0.050028      False\n",
       "25348  9_3_2-4938  0.042041      False\n",
       "25349  9_3_2-4939  0.135245      False\n",
       "25350  9_3_2-4942  0.050991      False"
      ]
     },
     "execution_count": 49,
     "metadata": {},
     "output_type": "execute_result"
    }
   ],
   "source": [
    "data_variance[25320:25350]"
   ]
  },
  {
   "cell_type": "code",
   "execution_count": 56,
   "id": "7fcca969-2220-464a-b1dc-93c7fa04b263",
   "metadata": {},
   "outputs": [],
   "source": [
    "from sklearn.model_selection import train_test_split\n",
    "from sklearn.linear_model import LogisticRegression\n",
    "from sklearn.metrics import accuracy_score, classification_report,confusion_matrix\n",
    "from sklearn.preprocessing import LabelEncoder"
   ]
  },
  {
   "cell_type": "code",
   "execution_count": 85,
   "id": "e36b2ae4-0ef5-4ec0-997f-a6edbee30968",
   "metadata": {},
   "outputs": [],
   "source": [
    "x = np.array(data_variance['variance'])\n",
    "y = np.array(data_variance['PumpFailed'])\n",
    "\n",
    "encoder = LabelEncoder()\n",
    "encoder.fit(y)\n",
    "y = encoder.transform(y)\n",
    "\n",
    "x_train,x_test,y_train,y_test = train_test_split(x,y,test_size = 0.2, random_state = 42)"
   ]
  },
  {
   "cell_type": "code",
   "execution_count": 88,
   "id": "2ed15f8d-8896-4c13-9089-29884fcb3700",
   "metadata": {},
   "outputs": [],
   "source": [
    "x_train = x_train.reshape(-1,1)\n",
    "x_test = x_test.reshape(-1,1)"
   ]
  },
  {
   "cell_type": "code",
   "execution_count": 87,
   "id": "06d1ce6f-e542-44ac-bf88-8f03c120b198",
   "metadata": {},
   "outputs": [
    {
     "data": {
      "text/html": [
       "<style>#sk-container-id-5 {\n",
       "  /* Definition of color scheme common for light and dark mode */\n",
       "  --sklearn-color-text: black;\n",
       "  --sklearn-color-line: gray;\n",
       "  /* Definition of color scheme for unfitted estimators */\n",
       "  --sklearn-color-unfitted-level-0: #fff5e6;\n",
       "  --sklearn-color-unfitted-level-1: #f6e4d2;\n",
       "  --sklearn-color-unfitted-level-2: #ffe0b3;\n",
       "  --sklearn-color-unfitted-level-3: chocolate;\n",
       "  /* Definition of color scheme for fitted estimators */\n",
       "  --sklearn-color-fitted-level-0: #f0f8ff;\n",
       "  --sklearn-color-fitted-level-1: #d4ebff;\n",
       "  --sklearn-color-fitted-level-2: #b3dbfd;\n",
       "  --sklearn-color-fitted-level-3: cornflowerblue;\n",
       "\n",
       "  /* Specific color for light theme */\n",
       "  --sklearn-color-text-on-default-background: var(--sg-text-color, var(--theme-code-foreground, var(--jp-content-font-color1, black)));\n",
       "  --sklearn-color-background: var(--sg-background-color, var(--theme-background, var(--jp-layout-color0, white)));\n",
       "  --sklearn-color-border-box: var(--sg-text-color, var(--theme-code-foreground, var(--jp-content-font-color1, black)));\n",
       "  --sklearn-color-icon: #696969;\n",
       "\n",
       "  @media (prefers-color-scheme: dark) {\n",
       "    /* Redefinition of color scheme for dark theme */\n",
       "    --sklearn-color-text-on-default-background: var(--sg-text-color, var(--theme-code-foreground, var(--jp-content-font-color1, white)));\n",
       "    --sklearn-color-background: var(--sg-background-color, var(--theme-background, var(--jp-layout-color0, #111)));\n",
       "    --sklearn-color-border-box: var(--sg-text-color, var(--theme-code-foreground, var(--jp-content-font-color1, white)));\n",
       "    --sklearn-color-icon: #878787;\n",
       "  }\n",
       "}\n",
       "\n",
       "#sk-container-id-5 {\n",
       "  color: var(--sklearn-color-text);\n",
       "}\n",
       "\n",
       "#sk-container-id-5 pre {\n",
       "  padding: 0;\n",
       "}\n",
       "\n",
       "#sk-container-id-5 input.sk-hidden--visually {\n",
       "  border: 0;\n",
       "  clip: rect(1px 1px 1px 1px);\n",
       "  clip: rect(1px, 1px, 1px, 1px);\n",
       "  height: 1px;\n",
       "  margin: -1px;\n",
       "  overflow: hidden;\n",
       "  padding: 0;\n",
       "  position: absolute;\n",
       "  width: 1px;\n",
       "}\n",
       "\n",
       "#sk-container-id-5 div.sk-dashed-wrapped {\n",
       "  border: 1px dashed var(--sklearn-color-line);\n",
       "  margin: 0 0.4em 0.5em 0.4em;\n",
       "  box-sizing: border-box;\n",
       "  padding-bottom: 0.4em;\n",
       "  background-color: var(--sklearn-color-background);\n",
       "}\n",
       "\n",
       "#sk-container-id-5 div.sk-container {\n",
       "  /* jupyter's `normalize.less` sets `[hidden] { display: none; }`\n",
       "     but bootstrap.min.css set `[hidden] { display: none !important; }`\n",
       "     so we also need the `!important` here to be able to override the\n",
       "     default hidden behavior on the sphinx rendered scikit-learn.org.\n",
       "     See: https://github.com/scikit-learn/scikit-learn/issues/21755 */\n",
       "  display: inline-block !important;\n",
       "  position: relative;\n",
       "}\n",
       "\n",
       "#sk-container-id-5 div.sk-text-repr-fallback {\n",
       "  display: none;\n",
       "}\n",
       "\n",
       "div.sk-parallel-item,\n",
       "div.sk-serial,\n",
       "div.sk-item {\n",
       "  /* draw centered vertical line to link estimators */\n",
       "  background-image: linear-gradient(var(--sklearn-color-text-on-default-background), var(--sklearn-color-text-on-default-background));\n",
       "  background-size: 2px 100%;\n",
       "  background-repeat: no-repeat;\n",
       "  background-position: center center;\n",
       "}\n",
       "\n",
       "/* Parallel-specific style estimator block */\n",
       "\n",
       "#sk-container-id-5 div.sk-parallel-item::after {\n",
       "  content: \"\";\n",
       "  width: 100%;\n",
       "  border-bottom: 2px solid var(--sklearn-color-text-on-default-background);\n",
       "  flex-grow: 1;\n",
       "}\n",
       "\n",
       "#sk-container-id-5 div.sk-parallel {\n",
       "  display: flex;\n",
       "  align-items: stretch;\n",
       "  justify-content: center;\n",
       "  background-color: var(--sklearn-color-background);\n",
       "  position: relative;\n",
       "}\n",
       "\n",
       "#sk-container-id-5 div.sk-parallel-item {\n",
       "  display: flex;\n",
       "  flex-direction: column;\n",
       "}\n",
       "\n",
       "#sk-container-id-5 div.sk-parallel-item:first-child::after {\n",
       "  align-self: flex-end;\n",
       "  width: 50%;\n",
       "}\n",
       "\n",
       "#sk-container-id-5 div.sk-parallel-item:last-child::after {\n",
       "  align-self: flex-start;\n",
       "  width: 50%;\n",
       "}\n",
       "\n",
       "#sk-container-id-5 div.sk-parallel-item:only-child::after {\n",
       "  width: 0;\n",
       "}\n",
       "\n",
       "/* Serial-specific style estimator block */\n",
       "\n",
       "#sk-container-id-5 div.sk-serial {\n",
       "  display: flex;\n",
       "  flex-direction: column;\n",
       "  align-items: center;\n",
       "  background-color: var(--sklearn-color-background);\n",
       "  padding-right: 1em;\n",
       "  padding-left: 1em;\n",
       "}\n",
       "\n",
       "\n",
       "/* Toggleable style: style used for estimator/Pipeline/ColumnTransformer box that is\n",
       "clickable and can be expanded/collapsed.\n",
       "- Pipeline and ColumnTransformer use this feature and define the default style\n",
       "- Estimators will overwrite some part of the style using the `sk-estimator` class\n",
       "*/\n",
       "\n",
       "/* Pipeline and ColumnTransformer style (default) */\n",
       "\n",
       "#sk-container-id-5 div.sk-toggleable {\n",
       "  /* Default theme specific background. It is overwritten whether we have a\n",
       "  specific estimator or a Pipeline/ColumnTransformer */\n",
       "  background-color: var(--sklearn-color-background);\n",
       "}\n",
       "\n",
       "/* Toggleable label */\n",
       "#sk-container-id-5 label.sk-toggleable__label {\n",
       "  cursor: pointer;\n",
       "  display: block;\n",
       "  width: 100%;\n",
       "  margin-bottom: 0;\n",
       "  padding: 0.5em;\n",
       "  box-sizing: border-box;\n",
       "  text-align: center;\n",
       "}\n",
       "\n",
       "#sk-container-id-5 label.sk-toggleable__label-arrow:before {\n",
       "  /* Arrow on the left of the label */\n",
       "  content: \"▸\";\n",
       "  float: left;\n",
       "  margin-right: 0.25em;\n",
       "  color: var(--sklearn-color-icon);\n",
       "}\n",
       "\n",
       "#sk-container-id-5 label.sk-toggleable__label-arrow:hover:before {\n",
       "  color: var(--sklearn-color-text);\n",
       "}\n",
       "\n",
       "/* Toggleable content - dropdown */\n",
       "\n",
       "#sk-container-id-5 div.sk-toggleable__content {\n",
       "  max-height: 0;\n",
       "  max-width: 0;\n",
       "  overflow: hidden;\n",
       "  text-align: left;\n",
       "  /* unfitted */\n",
       "  background-color: var(--sklearn-color-unfitted-level-0);\n",
       "}\n",
       "\n",
       "#sk-container-id-5 div.sk-toggleable__content.fitted {\n",
       "  /* fitted */\n",
       "  background-color: var(--sklearn-color-fitted-level-0);\n",
       "}\n",
       "\n",
       "#sk-container-id-5 div.sk-toggleable__content pre {\n",
       "  margin: 0.2em;\n",
       "  border-radius: 0.25em;\n",
       "  color: var(--sklearn-color-text);\n",
       "  /* unfitted */\n",
       "  background-color: var(--sklearn-color-unfitted-level-0);\n",
       "}\n",
       "\n",
       "#sk-container-id-5 div.sk-toggleable__content.fitted pre {\n",
       "  /* unfitted */\n",
       "  background-color: var(--sklearn-color-fitted-level-0);\n",
       "}\n",
       "\n",
       "#sk-container-id-5 input.sk-toggleable__control:checked~div.sk-toggleable__content {\n",
       "  /* Expand drop-down */\n",
       "  max-height: 200px;\n",
       "  max-width: 100%;\n",
       "  overflow: auto;\n",
       "}\n",
       "\n",
       "#sk-container-id-5 input.sk-toggleable__control:checked~label.sk-toggleable__label-arrow:before {\n",
       "  content: \"▾\";\n",
       "}\n",
       "\n",
       "/* Pipeline/ColumnTransformer-specific style */\n",
       "\n",
       "#sk-container-id-5 div.sk-label input.sk-toggleable__control:checked~label.sk-toggleable__label {\n",
       "  color: var(--sklearn-color-text);\n",
       "  background-color: var(--sklearn-color-unfitted-level-2);\n",
       "}\n",
       "\n",
       "#sk-container-id-5 div.sk-label.fitted input.sk-toggleable__control:checked~label.sk-toggleable__label {\n",
       "  background-color: var(--sklearn-color-fitted-level-2);\n",
       "}\n",
       "\n",
       "/* Estimator-specific style */\n",
       "\n",
       "/* Colorize estimator box */\n",
       "#sk-container-id-5 div.sk-estimator input.sk-toggleable__control:checked~label.sk-toggleable__label {\n",
       "  /* unfitted */\n",
       "  background-color: var(--sklearn-color-unfitted-level-2);\n",
       "}\n",
       "\n",
       "#sk-container-id-5 div.sk-estimator.fitted input.sk-toggleable__control:checked~label.sk-toggleable__label {\n",
       "  /* fitted */\n",
       "  background-color: var(--sklearn-color-fitted-level-2);\n",
       "}\n",
       "\n",
       "#sk-container-id-5 div.sk-label label.sk-toggleable__label,\n",
       "#sk-container-id-5 div.sk-label label {\n",
       "  /* The background is the default theme color */\n",
       "  color: var(--sklearn-color-text-on-default-background);\n",
       "}\n",
       "\n",
       "/* On hover, darken the color of the background */\n",
       "#sk-container-id-5 div.sk-label:hover label.sk-toggleable__label {\n",
       "  color: var(--sklearn-color-text);\n",
       "  background-color: var(--sklearn-color-unfitted-level-2);\n",
       "}\n",
       "\n",
       "/* Label box, darken color on hover, fitted */\n",
       "#sk-container-id-5 div.sk-label.fitted:hover label.sk-toggleable__label.fitted {\n",
       "  color: var(--sklearn-color-text);\n",
       "  background-color: var(--sklearn-color-fitted-level-2);\n",
       "}\n",
       "\n",
       "/* Estimator label */\n",
       "\n",
       "#sk-container-id-5 div.sk-label label {\n",
       "  font-family: monospace;\n",
       "  font-weight: bold;\n",
       "  display: inline-block;\n",
       "  line-height: 1.2em;\n",
       "}\n",
       "\n",
       "#sk-container-id-5 div.sk-label-container {\n",
       "  text-align: center;\n",
       "}\n",
       "\n",
       "/* Estimator-specific */\n",
       "#sk-container-id-5 div.sk-estimator {\n",
       "  font-family: monospace;\n",
       "  border: 1px dotted var(--sklearn-color-border-box);\n",
       "  border-radius: 0.25em;\n",
       "  box-sizing: border-box;\n",
       "  margin-bottom: 0.5em;\n",
       "  /* unfitted */\n",
       "  background-color: var(--sklearn-color-unfitted-level-0);\n",
       "}\n",
       "\n",
       "#sk-container-id-5 div.sk-estimator.fitted {\n",
       "  /* fitted */\n",
       "  background-color: var(--sklearn-color-fitted-level-0);\n",
       "}\n",
       "\n",
       "/* on hover */\n",
       "#sk-container-id-5 div.sk-estimator:hover {\n",
       "  /* unfitted */\n",
       "  background-color: var(--sklearn-color-unfitted-level-2);\n",
       "}\n",
       "\n",
       "#sk-container-id-5 div.sk-estimator.fitted:hover {\n",
       "  /* fitted */\n",
       "  background-color: var(--sklearn-color-fitted-level-2);\n",
       "}\n",
       "\n",
       "/* Specification for estimator info (e.g. \"i\" and \"?\") */\n",
       "\n",
       "/* Common style for \"i\" and \"?\" */\n",
       "\n",
       ".sk-estimator-doc-link,\n",
       "a:link.sk-estimator-doc-link,\n",
       "a:visited.sk-estimator-doc-link {\n",
       "  float: right;\n",
       "  font-size: smaller;\n",
       "  line-height: 1em;\n",
       "  font-family: monospace;\n",
       "  background-color: var(--sklearn-color-background);\n",
       "  border-radius: 1em;\n",
       "  height: 1em;\n",
       "  width: 1em;\n",
       "  text-decoration: none !important;\n",
       "  margin-left: 1ex;\n",
       "  /* unfitted */\n",
       "  border: var(--sklearn-color-unfitted-level-1) 1pt solid;\n",
       "  color: var(--sklearn-color-unfitted-level-1);\n",
       "}\n",
       "\n",
       ".sk-estimator-doc-link.fitted,\n",
       "a:link.sk-estimator-doc-link.fitted,\n",
       "a:visited.sk-estimator-doc-link.fitted {\n",
       "  /* fitted */\n",
       "  border: var(--sklearn-color-fitted-level-1) 1pt solid;\n",
       "  color: var(--sklearn-color-fitted-level-1);\n",
       "}\n",
       "\n",
       "/* On hover */\n",
       "div.sk-estimator:hover .sk-estimator-doc-link:hover,\n",
       ".sk-estimator-doc-link:hover,\n",
       "div.sk-label-container:hover .sk-estimator-doc-link:hover,\n",
       ".sk-estimator-doc-link:hover {\n",
       "  /* unfitted */\n",
       "  background-color: var(--sklearn-color-unfitted-level-3);\n",
       "  color: var(--sklearn-color-background);\n",
       "  text-decoration: none;\n",
       "}\n",
       "\n",
       "div.sk-estimator.fitted:hover .sk-estimator-doc-link.fitted:hover,\n",
       ".sk-estimator-doc-link.fitted:hover,\n",
       "div.sk-label-container:hover .sk-estimator-doc-link.fitted:hover,\n",
       ".sk-estimator-doc-link.fitted:hover {\n",
       "  /* fitted */\n",
       "  background-color: var(--sklearn-color-fitted-level-3);\n",
       "  color: var(--sklearn-color-background);\n",
       "  text-decoration: none;\n",
       "}\n",
       "\n",
       "/* Span, style for the box shown on hovering the info icon */\n",
       ".sk-estimator-doc-link span {\n",
       "  display: none;\n",
       "  z-index: 9999;\n",
       "  position: relative;\n",
       "  font-weight: normal;\n",
       "  right: .2ex;\n",
       "  padding: .5ex;\n",
       "  margin: .5ex;\n",
       "  width: min-content;\n",
       "  min-width: 20ex;\n",
       "  max-width: 50ex;\n",
       "  color: var(--sklearn-color-text);\n",
       "  box-shadow: 2pt 2pt 4pt #999;\n",
       "  /* unfitted */\n",
       "  background: var(--sklearn-color-unfitted-level-0);\n",
       "  border: .5pt solid var(--sklearn-color-unfitted-level-3);\n",
       "}\n",
       "\n",
       ".sk-estimator-doc-link.fitted span {\n",
       "  /* fitted */\n",
       "  background: var(--sklearn-color-fitted-level-0);\n",
       "  border: var(--sklearn-color-fitted-level-3);\n",
       "}\n",
       "\n",
       ".sk-estimator-doc-link:hover span {\n",
       "  display: block;\n",
       "}\n",
       "\n",
       "/* \"?\"-specific style due to the `<a>` HTML tag */\n",
       "\n",
       "#sk-container-id-5 a.estimator_doc_link {\n",
       "  float: right;\n",
       "  font-size: 1rem;\n",
       "  line-height: 1em;\n",
       "  font-family: monospace;\n",
       "  background-color: var(--sklearn-color-background);\n",
       "  border-radius: 1rem;\n",
       "  height: 1rem;\n",
       "  width: 1rem;\n",
       "  text-decoration: none;\n",
       "  /* unfitted */\n",
       "  color: var(--sklearn-color-unfitted-level-1);\n",
       "  border: var(--sklearn-color-unfitted-level-1) 1pt solid;\n",
       "}\n",
       "\n",
       "#sk-container-id-5 a.estimator_doc_link.fitted {\n",
       "  /* fitted */\n",
       "  border: var(--sklearn-color-fitted-level-1) 1pt solid;\n",
       "  color: var(--sklearn-color-fitted-level-1);\n",
       "}\n",
       "\n",
       "/* On hover */\n",
       "#sk-container-id-5 a.estimator_doc_link:hover {\n",
       "  /* unfitted */\n",
       "  background-color: var(--sklearn-color-unfitted-level-3);\n",
       "  color: var(--sklearn-color-background);\n",
       "  text-decoration: none;\n",
       "}\n",
       "\n",
       "#sk-container-id-5 a.estimator_doc_link.fitted:hover {\n",
       "  /* fitted */\n",
       "  background-color: var(--sklearn-color-fitted-level-3);\n",
       "}\n",
       "</style><div id=\"sk-container-id-5\" class=\"sk-top-container\"><div class=\"sk-text-repr-fallback\"><pre>LogisticRegression()</pre><b>In a Jupyter environment, please rerun this cell to show the HTML representation or trust the notebook. <br />On GitHub, the HTML representation is unable to render, please try loading this page with nbviewer.org.</b></div><div class=\"sk-container\" hidden><div class=\"sk-item\"><div class=\"sk-estimator fitted sk-toggleable\"><input class=\"sk-toggleable__control sk-hidden--visually\" id=\"sk-estimator-id-5\" type=\"checkbox\" checked><label for=\"sk-estimator-id-5\" class=\"sk-toggleable__label fitted sk-toggleable__label-arrow fitted\">&nbsp;&nbsp;LogisticRegression<a class=\"sk-estimator-doc-link fitted\" rel=\"noreferrer\" target=\"_blank\" href=\"https://scikit-learn.org/1.4/modules/generated/sklearn.linear_model.LogisticRegression.html\">?<span>Documentation for LogisticRegression</span></a><span class=\"sk-estimator-doc-link fitted\">i<span>Fitted</span></span></label><div class=\"sk-toggleable__content fitted\"><pre>LogisticRegression()</pre></div> </div></div></div></div>"
      ],
      "text/plain": [
       "LogisticRegression()"
      ]
     },
     "execution_count": 87,
     "metadata": {},
     "output_type": "execute_result"
    }
   ],
   "source": [
    "log_model = LogisticRegression()\n",
    "log_model.fit(x_train,y_train)"
   ]
  },
  {
   "cell_type": "code",
   "execution_count": 89,
   "id": "6387ffb0-ddd6-46d1-a9f8-1c5c409bf871",
   "metadata": {},
   "outputs": [],
   "source": [
    "prediction = log_model.predict(x_test)"
   ]
  },
  {
   "cell_type": "code",
   "execution_count": 92,
   "id": "ad27ac9c-c736-4638-abe9-4ba30e34efb8",
   "metadata": {},
   "outputs": [],
   "source": [
    "cm = confusion_matrix(y_test,prediction)"
   ]
  },
  {
   "cell_type": "code",
   "execution_count": 93,
   "id": "a4ef856e-8789-44c1-b8d7-9bcd9fc226be",
   "metadata": {},
   "outputs": [
    {
     "data": {
      "text/plain": [
       "array([[4780,    0],\n",
       "       [ 588,    0]], dtype=int64)"
      ]
     },
     "execution_count": 93,
     "metadata": {},
     "output_type": "execute_result"
    }
   ],
   "source": [
    "cm"
   ]
  },
  {
   "cell_type": "code",
   "execution_count": 95,
   "id": "8e3188d3-80a6-4384-81f1-e323a8a40670",
   "metadata": {},
   "outputs": [
    {
     "data": {
      "text/plain": [
       "0"
      ]
     },
     "execution_count": 95,
     "metadata": {},
     "output_type": "execute_result"
    }
   ],
   "source": [
    "prediction.sum()"
   ]
  },
  {
   "cell_type": "markdown",
   "id": "c1a8062b-62a7-48e1-9a75-ad143dc131d4",
   "metadata": {},
   "source": [
    "Seem like our aproach was indeed too naive. Logistic regression predicted all False."
   ]
  },
  {
   "cell_type": "code",
   "execution_count": 98,
   "id": "e3e6c0a3-93b5-4b4c-8b3f-6e0f3701b746",
   "metadata": {},
   "outputs": [
    {
     "data": {
      "text/plain": [
       "0.10955776727302967"
      ]
     },
     "execution_count": 98,
     "metadata": {},
     "output_type": "execute_result"
    }
   ],
   "source": [
    "data_variance['variance'][data_variance['PumpFailed'] == True].mean()"
   ]
  },
  {
   "cell_type": "code",
   "execution_count": 99,
   "id": "b6a6efcd-6393-4977-a1d6-7ca8233079e4",
   "metadata": {},
   "outputs": [
    {
     "data": {
      "text/plain": [
       "0.09617117325611318"
      ]
     },
     "execution_count": 99,
     "metadata": {},
     "output_type": "execute_result"
    }
   ],
   "source": [
    "data_variance['variance'][data_variance['PumpFailed'] == False].mean()"
   ]
  },
  {
   "cell_type": "markdown",
   "id": "ef68313c-bfe1-4a25-83f5-30061fb77b91",
   "metadata": {},
   "source": [
    "From mean values above, it is clear, that little sudden decrease in pressure when the pump failed doesn't have much effect on overall variance. Perhaps some more feature preparation would improve performance (scaling, getting rid of tail in beggining of the cycle). Let us take completly different approach."
   ]
  },
  {
   "cell_type": "markdown",
   "id": "88fdcc3c-08b0-49ca-898f-21915cee8730",
   "metadata": {},
   "source": [
    "## Neural Net"
   ]
  },
  {
   "cell_type": "code",
   "execution_count": 160,
   "id": "1267be04-0aca-42b3-9aa2-c4741026445e",
   "metadata": {},
   "outputs": [],
   "source": [
    "df = pd.read_parquet('data/data.parquet')\n",
    "labels = pd.read_csv('data/labels.csv')"
   ]
  },
  {
   "cell_type": "code",
   "execution_count": 161,
   "id": "3bf27159-883a-44c6-ba2e-f0f1b04286a3",
   "metadata": {},
   "outputs": [],
   "source": [
    "data = my_groupby(df,'MachineId')\n",
    "data = {key : my_groupby(value,'MeasurementId') for key,value in data.items()}"
   ]
  },
  {
   "cell_type": "code",
   "execution_count": 162,
   "id": "59dbf12e-e51b-4c51-be16-9e3a0da938cf",
   "metadata": {},
   "outputs": [],
   "source": [
    "def remove(dict,value):\n",
    "    return {key:val for key,val in dict.items() if key != value}"
   ]
  },
  {
   "cell_type": "code",
   "execution_count": 163,
   "id": "c1a11fa6-381f-4f89-a534-c4844c186f6f",
   "metadata": {},
   "outputs": [],
   "source": [
    "for key in data:\n",
    "     data[key] = remove(data[key],-1)"
   ]
  },
  {
   "cell_type": "code",
   "execution_count": 164,
   "id": "da21f890-766a-4874-bbfd-508a367a7654",
   "metadata": {},
   "outputs": [],
   "source": [
    "for key in list(data.keys()):\n",
    "    for k in list(data[key].keys()):\n",
    "        if (data[key][k]['Pressure'] == 0).all():\n",
    "            del data[key][k]"
   ]
  },
  {
   "cell_type": "code",
   "execution_count": 165,
   "id": "7ce1ae92-a34a-4297-bc90-38e1b789d2ee",
   "metadata": {},
   "outputs": [],
   "source": [
    "X = []\n",
    "for key in data:\n",
    "    for k in data[key]:\n",
    "        X.append(data[key][k]['Pressure'])"
   ]
  },
  {
   "cell_type": "code",
   "execution_count": 166,
   "id": "d018100d-1103-4290-bf69-2ea98270420d",
   "metadata": {},
   "outputs": [],
   "source": [
    "y = []\n",
    "for key in data:\n",
    "    for k in data[key]:\n",
    "        y.append(labels['PumpFailed'][(labels['MachineId'] == key) & (labels['MeasurementId'] == k)].iloc[0])"
   ]
  },
  {
   "cell_type": "code",
   "execution_count": 167,
   "id": "6bd898f7-9cbe-4717-9e0b-e1a9b2d35d91",
   "metadata": {},
   "outputs": [],
   "source": [
    "def remove_zeros(series):\n",
    "    if series.iloc[0] == 0:\n",
    "        non_zero = series[series != 0]\n",
    "        first_index = series[series == non_zero.iloc[0]].index[0]\n",
    "        last_index = series[series == non_zero.iloc[-1]].index[-1]\n",
    "        return series.loc[first_index:last_index]\n",
    "    else:\n",
    "        return series"
   ]
  },
  {
   "cell_type": "code",
   "execution_count": 168,
   "id": "86f6e905-12a9-4f14-aefe-7b1889d4c510",
   "metadata": {},
   "outputs": [],
   "source": [
    "for i in range(len(X)):\n",
    "    X[i] = remove_zeros(X[i])"
   ]
  },
  {
   "cell_type": "code",
   "execution_count": 169,
   "id": "dad7fe30-ccb3-4990-8725-7195bd230036",
   "metadata": {},
   "outputs": [
    {
     "data": {
      "text/plain": [
       "12761248    0.131057\n",
       "12761249    0.430617\n",
       "12761250    0.823789\n",
       "12761251    0.997797\n",
       "12761252    0.972467\n",
       "              ...   \n",
       "12761378    0.157489\n",
       "12761379    0.104626\n",
       "12761380    0.104626\n",
       "12761381    0.243392\n",
       "12761382    0.243392\n",
       "Name: Pressure, Length: 135, dtype: float64"
      ]
     },
     "execution_count": 169,
     "metadata": {},
     "output_type": "execute_result"
    }
   ],
   "source": [
    "X[300]"
   ]
  },
  {
   "cell_type": "code",
   "execution_count": 170,
   "id": "021331e6-f394-46c4-9a7f-7bb9a7194981",
   "metadata": {},
   "outputs": [
    {
     "data": {
      "text/plain": [
       "26838"
      ]
     },
     "execution_count": 170,
     "metadata": {},
     "output_type": "execute_result"
    }
   ],
   "source": [
    "len(X)"
   ]
  },
  {
   "cell_type": "code",
   "execution_count": 171,
   "id": "1d2ec278-5c4b-4f2f-a77f-c3ca792bcb3b",
   "metadata": {},
   "outputs": [
    {
     "data": {
      "text/plain": [
       "26838"
      ]
     },
     "execution_count": 171,
     "metadata": {},
     "output_type": "execute_result"
    }
   ],
   "source": [
    "len(y)"
   ]
  },
  {
   "cell_type": "code",
   "execution_count": 172,
   "id": "386722c9-5c5c-4a0f-91bb-e5961ac49410",
   "metadata": {},
   "outputs": [],
   "source": [
    "lengths = ([len(i) for i in X])"
   ]
  },
  {
   "cell_type": "code",
   "execution_count": 173,
   "id": "545d3a44-bfa5-4acd-bb5f-99d86df2eb7c",
   "metadata": {},
   "outputs": [
    {
     "data": {
      "text/plain": [
       "[1, 2, 2, 2, 3, 3, 3, 4, 6, 7, 8, 9, 10, 11, 13, 14, 14, 15, 15, 16]"
      ]
     },
     "execution_count": 173,
     "metadata": {},
     "output_type": "execute_result"
    }
   ],
   "source": [
    "sorted(lengths)[:20]"
   ]
  },
  {
   "cell_type": "code",
   "execution_count": 174,
   "id": "40d1783d-1fa5-4128-8a21-1f5844393cf6",
   "metadata": {},
   "outputs": [
    {
     "data": {
      "text/plain": [
       "[1038,\n",
       " 983,\n",
       " 955,\n",
       " 952,\n",
       " 913,\n",
       " 910,\n",
       " 907,\n",
       " 907,\n",
       " 893,\n",
       " 871,\n",
       " 829,\n",
       " 827,\n",
       " 817,\n",
       " 815,\n",
       " 808,\n",
       " 808,\n",
       " 806,\n",
       " 802,\n",
       " 797,\n",
       " 796]"
      ]
     },
     "execution_count": 174,
     "metadata": {},
     "output_type": "execute_result"
    }
   ],
   "source": [
    "sorted(lengths,reverse = True)[:20]"
   ]
  },
  {
   "cell_type": "code",
   "execution_count": 175,
   "id": "98f2459d-8c6d-4e79-97a4-a53d55099a0c",
   "metadata": {},
   "outputs": [],
   "source": [
    "for item in lengths:\n",
    "    if item < 50:\n",
    "        index = lengths.index(item)\n",
    "        del X[index]\n",
    "        del y[index]"
   ]
  },
  {
   "cell_type": "code",
   "execution_count": 176,
   "id": "13a91ace-5d87-48ae-9be0-8a88a8c51036",
   "metadata": {},
   "outputs": [],
   "source": [
    "max_length = sorted(lengths, reverse = True)[0]"
   ]
  },
  {
   "cell_type": "code",
   "execution_count": 177,
   "id": "4de54594-eaaf-47a5-99e7-d13c017c21d8",
   "metadata": {},
   "outputs": [],
   "source": [
    "#in cells above we removed zero from the beginning, now we append zeros back on the end of each measurement cycle in order to get \n",
    "#feature vectors of the same lenth\n",
    "\n",
    "for i in range(len(X)):\n",
    "    X[i] = np.concatenate((X[i].values,np.zeros(max_length - len(X[i]))))"
   ]
  },
  {
   "cell_type": "code",
   "execution_count": 178,
   "id": "4682f8f5-fe01-4138-a529-6e82264c80a8",
   "metadata": {},
   "outputs": [],
   "source": [
    "from sklearn.preprocessing import LabelEncoder\n",
    "encoder = LabelEncoder()\n",
    "encoder.fit(y)\n",
    "y = encoder.transform(y)"
   ]
  },
  {
   "cell_type": "code",
   "execution_count": 179,
   "id": "1e086510-369f-4845-a7eb-db41af717d79",
   "metadata": {},
   "outputs": [
    {
     "data": {
      "text/plain": [
       "(26784,)"
      ]
     },
     "execution_count": 179,
     "metadata": {},
     "output_type": "execute_result"
    }
   ],
   "source": [
    "y.shape"
   ]
  },
  {
   "cell_type": "code",
   "execution_count": 181,
   "id": "a7c2e026-f6fa-4bb6-b238-e5ab822f6cf0",
   "metadata": {},
   "outputs": [
    {
     "data": {
      "text/plain": [
       "26784"
      ]
     },
     "execution_count": 181,
     "metadata": {},
     "output_type": "execute_result"
    }
   ],
   "source": [
    "len(X)"
   ]
  },
  {
   "cell_type": "code",
   "execution_count": 182,
   "id": "4856a176-e3ec-4351-85fd-a0ee1c6b69e6",
   "metadata": {},
   "outputs": [],
   "source": [
    "import torch\n",
    "import torch.nn as nn\n",
    "\n",
    "X = torch.tensor(np.array(X), dtype = torch.float32)\n",
    "y = torch.tensor(y, dtype = torch.float32)"
   ]
  },
  {
   "cell_type": "code",
   "execution_count": 183,
   "id": "e43a5f12-173f-450c-a1b7-eb8e4f41df68",
   "metadata": {},
   "outputs": [
    {
     "data": {
      "text/plain": [
       "torch.Size([26784])"
      ]
     },
     "execution_count": 183,
     "metadata": {},
     "output_type": "execute_result"
    }
   ],
   "source": [
    "y.shape"
   ]
  },
  {
   "cell_type": "code",
   "execution_count": 184,
   "id": "16c038f6-116c-480b-8d24-aec5cfa99491",
   "metadata": {},
   "outputs": [],
   "source": [
    "y = y.unsqueeze(1)"
   ]
  },
  {
   "cell_type": "code",
   "execution_count": 195,
   "id": "4aa7ff7b-6b1e-4511-a71a-6ba1d5900787",
   "metadata": {},
   "outputs": [],
   "source": [
    "from sklearn.preprocessing import StandardScaler\n",
    "scaler = StandardScaler()\n",
    "scaler.fit(X)\n",
    "X = scaler.transform(X)\n",
    "X  = torch.tensor(np.array(X), dtype = torch.float32)"
   ]
  },
  {
   "cell_type": "code",
   "execution_count": 196,
   "id": "5063bcf4-c25b-48ba-9bd5-c79fd273c2a0",
   "metadata": {},
   "outputs": [],
   "source": [
    "class NetClassifier(nn.Module):\n",
    "    def __init__(self):\n",
    "        super().__init__()\n",
    "        self.layer1 = nn.Linear(1038,1038)\n",
    "        self.activation1 = nn.ReLU()\n",
    "        self.layer2 = nn.Linear(1038, 100)\n",
    "        self.activation2 = nn.ReLU()\n",
    "        self.layer3 = nn.Linear(100,10)\n",
    "        self.activation3 = nn.ReLU()\n",
    "        self.layer4 = nn.Linear(10,1)\n",
    "        self.sigmoid = nn.Sigmoid()\n",
    "    def forward(self,x):\n",
    "        x = self.activation1(self.layer1(x))\n",
    "        x = self.activation2(self.layer2(x))\n",
    "        x = self.activation3(self.layer3(x))\n",
    "        x = self.sigmoid(self.layer4(x))\n",
    "        return x"
   ]
  },
  {
   "cell_type": "code",
   "execution_count": 203,
   "id": "ca433b2b-0d38-4cd1-a34a-ab1c9660f31b",
   "metadata": {},
   "outputs": [],
   "source": [
    "import copy\n",
    "import torch.optim as optim\n",
    "import tqdm\n",
    "\n",
    "def train_model(model,X_train,y_train,X_val,y_val):\n",
    "    loss_fn = nn.BCELoss()\n",
    "    optimizer = optim.Adam(model.parameters(), lr=0.0001)\n",
    "    n_epochs = 100\n",
    "    batch_size = 64\n",
    "    batch_start = torch.arange(0,len(X_train),batch_size)\n",
    "    best_acc = -np.inf\n",
    "    best_weights = None\n",
    "\n",
    "    for epoch in range(n_epochs):\n",
    "        print(epoch)\n",
    "        model.train()\n",
    "        with tqdm.tqdm(batch_start, unit = \"batch\", disable = False) as bar:\n",
    "            bar.set_description(f\"Epoch{epoch}\")\n",
    "            for start in bar:\n",
    "                X_batch = X_train[start:start + batch_size]\n",
    "                y_batch = y_train[start:start + batch_size]\n",
    "                y_pred = model(X_batch)\n",
    "                loss = loss_fn(y_pred, y_batch)\n",
    "                optimizer.zero_grad()\n",
    "                loss.backward()\n",
    "                optimizer.step()\n",
    "                acc = (y_pred.round() == y_batch).float().mean()\n",
    "                bar.set_postfix(loss = float(loss), acc = float(acc))\n",
    "        model.eval()\n",
    "        y_pred = model(X_val)\n",
    "        acc = (y_pred.round() == y_val).float().mean()\n",
    "        acc = float(acc)\n",
    "        if acc > best_acc:\n",
    "            best_acc = acc\n",
    "            best_weights = copy.deepcopy(model.state_dict())\n",
    "    model.load_state_dict(best_weights)\n",
    "    return best_acc"
   ]
  },
  {
   "cell_type": "code",
   "execution_count": 204,
   "id": "3e9ec8d6-1ad9-436d-b744-8d1e17faf5c2",
   "metadata": {},
   "outputs": [
    {
     "name": "stdout",
     "output_type": "stream",
     "text": [
      "0\n"
     ]
    },
    {
     "name": "stderr",
     "output_type": "stream",
     "text": [
      "Epoch0: 100%|█████████████████████████████████████████████████| 335/335 [00:05<00:00, 57.19batch/s, acc=1, loss=0.0802]\n"
     ]
    },
    {
     "name": "stdout",
     "output_type": "stream",
     "text": [
      "1\n"
     ]
    },
    {
     "name": "stderr",
     "output_type": "stream",
     "text": [
      "Epoch1: 100%|█████████████████████████████████████████████████| 335/335 [00:05<00:00, 57.64batch/s, acc=1, loss=0.0624]\n"
     ]
    },
    {
     "name": "stdout",
     "output_type": "stream",
     "text": [
      "2\n"
     ]
    },
    {
     "name": "stderr",
     "output_type": "stream",
     "text": [
      "Epoch2: 100%|█████████████████████████████████████████████████| 335/335 [00:06<00:00, 52.88batch/s, acc=1, loss=0.0523]\n"
     ]
    },
    {
     "name": "stdout",
     "output_type": "stream",
     "text": [
      "3\n"
     ]
    },
    {
     "name": "stderr",
     "output_type": "stream",
     "text": [
      "Epoch3: 100%|█████████████████████████████████████████████████| 335/335 [00:06<00:00, 53.90batch/s, acc=1, loss=0.0453]\n"
     ]
    },
    {
     "name": "stdout",
     "output_type": "stream",
     "text": [
      "4\n"
     ]
    },
    {
     "name": "stderr",
     "output_type": "stream",
     "text": [
      "Epoch4: 100%|█████████████████████████████████████████████████| 335/335 [00:06<00:00, 54.78batch/s, acc=1, loss=0.0398]\n"
     ]
    },
    {
     "name": "stdout",
     "output_type": "stream",
     "text": [
      "5\n"
     ]
    },
    {
     "name": "stderr",
     "output_type": "stream",
     "text": [
      "Epoch5: 100%|█████████████████████████████████████████████████| 335/335 [00:06<00:00, 54.54batch/s, acc=1, loss=0.0357]\n"
     ]
    },
    {
     "name": "stdout",
     "output_type": "stream",
     "text": [
      "6\n"
     ]
    },
    {
     "name": "stderr",
     "output_type": "stream",
     "text": [
      "Epoch6: 100%|█████████████████████████████████████████████████| 335/335 [00:06<00:00, 53.15batch/s, acc=1, loss=0.0332]\n"
     ]
    },
    {
     "name": "stdout",
     "output_type": "stream",
     "text": [
      "7\n"
     ]
    },
    {
     "name": "stderr",
     "output_type": "stream",
     "text": [
      "Epoch7: 100%|█████████████████████████████████████████████████| 335/335 [00:06<00:00, 52.97batch/s, acc=1, loss=0.0313]\n"
     ]
    },
    {
     "name": "stdout",
     "output_type": "stream",
     "text": [
      "8\n"
     ]
    },
    {
     "name": "stderr",
     "output_type": "stream",
     "text": [
      "Epoch8: 100%|█████████████████████████████████████████████████| 335/335 [00:06<00:00, 52.09batch/s, acc=1, loss=0.0302]\n"
     ]
    },
    {
     "name": "stdout",
     "output_type": "stream",
     "text": [
      "9\n"
     ]
    },
    {
     "name": "stderr",
     "output_type": "stream",
     "text": [
      "Epoch9: 100%|█████████████████████████████████████████████████| 335/335 [00:06<00:00, 53.75batch/s, acc=1, loss=0.0302]\n"
     ]
    },
    {
     "name": "stdout",
     "output_type": "stream",
     "text": [
      "10\n"
     ]
    },
    {
     "name": "stderr",
     "output_type": "stream",
     "text": [
      "Epoch10: 100%|█████████████████████████████████████████████████| 335/335 [00:06<00:00, 53.48batch/s, acc=1, loss=0.029]\n"
     ]
    },
    {
     "name": "stdout",
     "output_type": "stream",
     "text": [
      "11\n"
     ]
    },
    {
     "name": "stderr",
     "output_type": "stream",
     "text": [
      "Epoch11: 100%|████████████████████████████████████████████████| 335/335 [00:07<00:00, 46.15batch/s, acc=1, loss=0.0293]\n"
     ]
    },
    {
     "name": "stdout",
     "output_type": "stream",
     "text": [
      "12\n"
     ]
    },
    {
     "name": "stderr",
     "output_type": "stream",
     "text": [
      "Epoch12: 100%|████████████████████████████████████████████████| 335/335 [00:06<00:00, 51.44batch/s, acc=1, loss=0.0298]\n"
     ]
    },
    {
     "name": "stdout",
     "output_type": "stream",
     "text": [
      "13\n"
     ]
    },
    {
     "name": "stderr",
     "output_type": "stream",
     "text": [
      "Epoch13: 100%|████████████████████████████████████████████████| 335/335 [00:06<00:00, 52.29batch/s, acc=1, loss=0.0304]\n"
     ]
    },
    {
     "name": "stdout",
     "output_type": "stream",
     "text": [
      "14\n"
     ]
    },
    {
     "name": "stderr",
     "output_type": "stream",
     "text": [
      "Epoch14: 100%|████████████████████████████████████████████████| 335/335 [00:06<00:00, 54.11batch/s, acc=1, loss=0.0304]\n"
     ]
    },
    {
     "name": "stdout",
     "output_type": "stream",
     "text": [
      "15\n"
     ]
    },
    {
     "name": "stderr",
     "output_type": "stream",
     "text": [
      "Epoch15: 100%|████████████████████████████████████████████████| 335/335 [00:06<00:00, 53.98batch/s, acc=1, loss=0.0309]\n"
     ]
    },
    {
     "name": "stdout",
     "output_type": "stream",
     "text": [
      "16\n"
     ]
    },
    {
     "name": "stderr",
     "output_type": "stream",
     "text": [
      "Epoch16: 100%|████████████████████████████████████████████████| 335/335 [00:06<00:00, 54.11batch/s, acc=1, loss=0.0316]\n"
     ]
    },
    {
     "name": "stdout",
     "output_type": "stream",
     "text": [
      "17\n"
     ]
    },
    {
     "name": "stderr",
     "output_type": "stream",
     "text": [
      "Epoch17: 100%|████████████████████████████████████████████████| 335/335 [00:06<00:00, 54.14batch/s, acc=1, loss=0.0316]\n"
     ]
    },
    {
     "name": "stdout",
     "output_type": "stream",
     "text": [
      "18\n"
     ]
    },
    {
     "name": "stderr",
     "output_type": "stream",
     "text": [
      "Epoch18: 100%|████████████████████████████████████████████████| 335/335 [00:06<00:00, 52.09batch/s, acc=1, loss=0.0328]\n"
     ]
    },
    {
     "name": "stdout",
     "output_type": "stream",
     "text": [
      "19\n"
     ]
    },
    {
     "name": "stderr",
     "output_type": "stream",
     "text": [
      "Epoch19: 100%|████████████████████████████████████████████████| 335/335 [00:06<00:00, 53.72batch/s, acc=1, loss=0.0332]\n"
     ]
    },
    {
     "name": "stdout",
     "output_type": "stream",
     "text": [
      "20\n"
     ]
    },
    {
     "name": "stderr",
     "output_type": "stream",
     "text": [
      "Epoch20: 100%|████████████████████████████████████████████████| 335/335 [00:06<00:00, 53.29batch/s, acc=1, loss=0.0333]\n"
     ]
    },
    {
     "name": "stdout",
     "output_type": "stream",
     "text": [
      "21\n"
     ]
    },
    {
     "name": "stderr",
     "output_type": "stream",
     "text": [
      "Epoch21: 100%|█████████████████████████████████████████████| 335/335 [00:06<00:00, 54.45batch/s, acc=0.98, loss=0.0338]\n"
     ]
    },
    {
     "name": "stdout",
     "output_type": "stream",
     "text": [
      "22\n"
     ]
    },
    {
     "name": "stderr",
     "output_type": "stream",
     "text": [
      "Epoch22: 100%|█████████████████████████████████████████████| 335/335 [00:06<00:00, 54.44batch/s, acc=0.98, loss=0.0343]\n"
     ]
    },
    {
     "name": "stdout",
     "output_type": "stream",
     "text": [
      "23\n"
     ]
    },
    {
     "name": "stderr",
     "output_type": "stream",
     "text": [
      "Epoch23: 100%|█████████████████████████████████████████████| 335/335 [00:06<00:00, 53.71batch/s, acc=0.98, loss=0.0348]\n"
     ]
    },
    {
     "name": "stdout",
     "output_type": "stream",
     "text": [
      "24\n"
     ]
    },
    {
     "name": "stderr",
     "output_type": "stream",
     "text": [
      "Epoch24: 100%|█████████████████████████████████████████████| 335/335 [00:06<00:00, 50.57batch/s, acc=0.98, loss=0.0362]\n"
     ]
    },
    {
     "name": "stdout",
     "output_type": "stream",
     "text": [
      "25\n"
     ]
    },
    {
     "name": "stderr",
     "output_type": "stream",
     "text": [
      "Epoch25: 100%|█████████████████████████████████████████████| 335/335 [00:06<00:00, 52.78batch/s, acc=0.98, loss=0.0369]\n"
     ]
    },
    {
     "name": "stdout",
     "output_type": "stream",
     "text": [
      "26\n"
     ]
    },
    {
     "name": "stderr",
     "output_type": "stream",
     "text": [
      "Epoch26: 100%|█████████████████████████████████████████████| 335/335 [00:06<00:00, 52.85batch/s, acc=0.98, loss=0.0369]\n"
     ]
    },
    {
     "name": "stdout",
     "output_type": "stream",
     "text": [
      "27\n"
     ]
    },
    {
     "name": "stderr",
     "output_type": "stream",
     "text": [
      "Epoch27: 100%|█████████████████████████████████████████████| 335/335 [00:06<00:00, 51.22batch/s, acc=0.98, loss=0.0371]\n"
     ]
    },
    {
     "name": "stdout",
     "output_type": "stream",
     "text": [
      "28\n"
     ]
    },
    {
     "name": "stderr",
     "output_type": "stream",
     "text": [
      "Epoch28: 100%|█████████████████████████████████████████████| 335/335 [00:06<00:00, 53.15batch/s, acc=0.98, loss=0.0376]\n"
     ]
    },
    {
     "name": "stdout",
     "output_type": "stream",
     "text": [
      "29\n"
     ]
    },
    {
     "name": "stderr",
     "output_type": "stream",
     "text": [
      "Epoch29: 100%|█████████████████████████████████████████████| 335/335 [00:06<00:00, 52.07batch/s, acc=0.98, loss=0.0365]\n"
     ]
    },
    {
     "name": "stdout",
     "output_type": "stream",
     "text": [
      "30\n"
     ]
    },
    {
     "name": "stderr",
     "output_type": "stream",
     "text": [
      "Epoch30: 100%|█████████████████████████████████████████████| 335/335 [00:06<00:00, 52.00batch/s, acc=0.98, loss=0.0383]\n"
     ]
    },
    {
     "name": "stdout",
     "output_type": "stream",
     "text": [
      "31\n"
     ]
    },
    {
     "name": "stderr",
     "output_type": "stream",
     "text": [
      "Epoch31: 100%|█████████████████████████████████████████████| 335/335 [00:06<00:00, 52.02batch/s, acc=0.98, loss=0.0381]\n"
     ]
    },
    {
     "name": "stdout",
     "output_type": "stream",
     "text": [
      "32\n"
     ]
    },
    {
     "name": "stderr",
     "output_type": "stream",
     "text": [
      "Epoch32: 100%|█████████████████████████████████████████████| 335/335 [00:06<00:00, 51.85batch/s, acc=0.98, loss=0.0372]\n"
     ]
    },
    {
     "name": "stdout",
     "output_type": "stream",
     "text": [
      "33\n"
     ]
    },
    {
     "name": "stderr",
     "output_type": "stream",
     "text": [
      "Epoch33: 100%|██████████████████████████████████████████████| 335/335 [00:06<00:00, 53.53batch/s, acc=0.98, loss=0.038]\n"
     ]
    },
    {
     "name": "stdout",
     "output_type": "stream",
     "text": [
      "34\n"
     ]
    },
    {
     "name": "stderr",
     "output_type": "stream",
     "text": [
      "Epoch34: 100%|██████████████████████████████████████████████| 335/335 [00:09<00:00, 33.58batch/s, acc=0.98, loss=0.037]\n"
     ]
    },
    {
     "name": "stdout",
     "output_type": "stream",
     "text": [
      "35\n"
     ]
    },
    {
     "name": "stderr",
     "output_type": "stream",
     "text": [
      "Epoch35: 100%|█████████████████████████████████████████████| 335/335 [00:06<00:00, 55.00batch/s, acc=0.98, loss=0.0363]\n"
     ]
    },
    {
     "name": "stdout",
     "output_type": "stream",
     "text": [
      "36\n"
     ]
    },
    {
     "name": "stderr",
     "output_type": "stream",
     "text": [
      "Epoch36: 100%|█████████████████████████████████████████████| 335/335 [00:06<00:00, 51.89batch/s, acc=0.98, loss=0.0379]\n"
     ]
    },
    {
     "name": "stdout",
     "output_type": "stream",
     "text": [
      "37\n"
     ]
    },
    {
     "name": "stderr",
     "output_type": "stream",
     "text": [
      "Epoch37: 100%|██████████████████████████████████████████████| 335/335 [00:06<00:00, 53.26batch/s, acc=0.98, loss=0.038]\n"
     ]
    },
    {
     "name": "stdout",
     "output_type": "stream",
     "text": [
      "38\n"
     ]
    },
    {
     "name": "stderr",
     "output_type": "stream",
     "text": [
      "Epoch38: 100%|█████████████████████████████████████████████| 335/335 [00:06<00:00, 53.57batch/s, acc=0.98, loss=0.0385]\n"
     ]
    },
    {
     "name": "stdout",
     "output_type": "stream",
     "text": [
      "39\n"
     ]
    },
    {
     "name": "stderr",
     "output_type": "stream",
     "text": [
      "Epoch39: 100%|██████████████████████████████████████████████| 335/335 [00:06<00:00, 53.40batch/s, acc=0.98, loss=0.038]\n"
     ]
    },
    {
     "name": "stdout",
     "output_type": "stream",
     "text": [
      "40\n"
     ]
    },
    {
     "name": "stderr",
     "output_type": "stream",
     "text": [
      "Epoch40: 100%|█████████████████████████████████████████████| 335/335 [00:06<00:00, 52.98batch/s, acc=0.98, loss=0.0367]\n"
     ]
    },
    {
     "name": "stdout",
     "output_type": "stream",
     "text": [
      "41\n"
     ]
    },
    {
     "name": "stderr",
     "output_type": "stream",
     "text": [
      "Epoch41: 100%|█████████████████████████████████████████████| 335/335 [00:11<00:00, 30.35batch/s, acc=0.98, loss=0.0379]\n"
     ]
    },
    {
     "name": "stdout",
     "output_type": "stream",
     "text": [
      "42\n"
     ]
    },
    {
     "name": "stderr",
     "output_type": "stream",
     "text": [
      "Epoch42: 100%|██████████████████████████████████████████████| 335/335 [00:07<00:00, 42.23batch/s, acc=0.98, loss=0.037]\n"
     ]
    },
    {
     "name": "stdout",
     "output_type": "stream",
     "text": [
      "43\n"
     ]
    },
    {
     "name": "stderr",
     "output_type": "stream",
     "text": [
      "Epoch43: 100%|█████████████████████████████████████████████| 335/335 [00:07<00:00, 44.41batch/s, acc=0.98, loss=0.0371]\n"
     ]
    },
    {
     "name": "stdout",
     "output_type": "stream",
     "text": [
      "44\n"
     ]
    },
    {
     "name": "stderr",
     "output_type": "stream",
     "text": [
      "Epoch44: 100%|█████████████████████████████████████████████| 335/335 [00:07<00:00, 45.98batch/s, acc=0.98, loss=0.0386]\n"
     ]
    },
    {
     "name": "stdout",
     "output_type": "stream",
     "text": [
      "45\n"
     ]
    },
    {
     "name": "stderr",
     "output_type": "stream",
     "text": [
      "Epoch45: 100%|█████████████████████████████████████████████| 335/335 [00:06<00:00, 50.96batch/s, acc=0.98, loss=0.0374]\n"
     ]
    },
    {
     "name": "stdout",
     "output_type": "stream",
     "text": [
      "46\n"
     ]
    },
    {
     "name": "stderr",
     "output_type": "stream",
     "text": [
      "Epoch46: 100%|█████████████████████████████████████████████| 335/335 [00:06<00:00, 51.41batch/s, acc=0.98, loss=0.0382]\n"
     ]
    },
    {
     "name": "stdout",
     "output_type": "stream",
     "text": [
      "47\n"
     ]
    },
    {
     "name": "stderr",
     "output_type": "stream",
     "text": [
      "Epoch47: 100%|███████████████████████████████████████████████| 335/335 [00:06<00:00, 51.96batch/s, acc=0.98, loss=0.04]\n"
     ]
    },
    {
     "name": "stdout",
     "output_type": "stream",
     "text": [
      "48\n"
     ]
    },
    {
     "name": "stderr",
     "output_type": "stream",
     "text": [
      "Epoch48: 100%|█████████████████████████████████████████████| 335/335 [00:10<00:00, 32.88batch/s, acc=0.98, loss=0.0367]\n"
     ]
    },
    {
     "name": "stdout",
     "output_type": "stream",
     "text": [
      "49\n"
     ]
    },
    {
     "name": "stderr",
     "output_type": "stream",
     "text": [
      "Epoch49: 100%|█████████████████████████████████████████████| 335/335 [00:06<00:00, 53.71batch/s, acc=0.98, loss=0.0401]\n"
     ]
    },
    {
     "name": "stdout",
     "output_type": "stream",
     "text": [
      "50\n"
     ]
    },
    {
     "name": "stderr",
     "output_type": "stream",
     "text": [
      "Epoch50: 100%|█████████████████████████████████████████████| 335/335 [00:06<00:00, 52.74batch/s, acc=0.98, loss=0.0392]\n"
     ]
    },
    {
     "name": "stdout",
     "output_type": "stream",
     "text": [
      "51\n"
     ]
    },
    {
     "name": "stderr",
     "output_type": "stream",
     "text": [
      "Epoch51: 100%|█████████████████████████████████████████████| 335/335 [00:06<00:00, 53.28batch/s, acc=0.98, loss=0.0379]\n"
     ]
    },
    {
     "name": "stdout",
     "output_type": "stream",
     "text": [
      "52\n"
     ]
    },
    {
     "name": "stderr",
     "output_type": "stream",
     "text": [
      "Epoch52: 100%|█████████████████████████████████████████████| 335/335 [00:06<00:00, 52.43batch/s, acc=0.98, loss=0.0358]\n"
     ]
    },
    {
     "name": "stdout",
     "output_type": "stream",
     "text": [
      "53\n"
     ]
    },
    {
     "name": "stderr",
     "output_type": "stream",
     "text": [
      "Epoch53: 100%|█████████████████████████████████████████████| 335/335 [00:06<00:00, 51.07batch/s, acc=0.98, loss=0.0346]\n"
     ]
    },
    {
     "name": "stdout",
     "output_type": "stream",
     "text": [
      "54\n"
     ]
    },
    {
     "name": "stderr",
     "output_type": "stream",
     "text": [
      "Epoch54: 100%|█████████████████████████████████████████████| 335/335 [00:10<00:00, 33.42batch/s, acc=0.98, loss=0.0372]\n"
     ]
    },
    {
     "name": "stdout",
     "output_type": "stream",
     "text": [
      "55\n"
     ]
    },
    {
     "name": "stderr",
     "output_type": "stream",
     "text": [
      "Epoch55: 100%|█████████████████████████████████████████████| 335/335 [00:06<00:00, 54.40batch/s, acc=0.98, loss=0.0355]\n"
     ]
    },
    {
     "name": "stdout",
     "output_type": "stream",
     "text": [
      "56\n"
     ]
    },
    {
     "name": "stderr",
     "output_type": "stream",
     "text": [
      "Epoch56: 100%|█████████████████████████████████████████████| 335/335 [00:06<00:00, 53.98batch/s, acc=0.98, loss=0.0386]\n"
     ]
    },
    {
     "name": "stdout",
     "output_type": "stream",
     "text": [
      "57\n"
     ]
    },
    {
     "name": "stderr",
     "output_type": "stream",
     "text": [
      "Epoch57: 100%|█████████████████████████████████████████████| 335/335 [00:06<00:00, 54.27batch/s, acc=0.98, loss=0.0359]\n"
     ]
    },
    {
     "name": "stdout",
     "output_type": "stream",
     "text": [
      "58\n"
     ]
    },
    {
     "name": "stderr",
     "output_type": "stream",
     "text": [
      "Epoch58: 100%|█████████████████████████████████████████████| 335/335 [00:06<00:00, 53.13batch/s, acc=0.98, loss=0.0333]\n"
     ]
    },
    {
     "name": "stdout",
     "output_type": "stream",
     "text": [
      "59\n"
     ]
    },
    {
     "name": "stderr",
     "output_type": "stream",
     "text": [
      "Epoch59: 100%|█████████████████████████████████████████████| 335/335 [00:06<00:00, 50.74batch/s, acc=0.98, loss=0.0352]\n"
     ]
    },
    {
     "name": "stdout",
     "output_type": "stream",
     "text": [
      "60\n"
     ]
    },
    {
     "name": "stderr",
     "output_type": "stream",
     "text": [
      "Epoch60: 100%|█████████████████████████████████████████████| 335/335 [00:09<00:00, 33.88batch/s, acc=0.98, loss=0.0343]\n"
     ]
    },
    {
     "name": "stdout",
     "output_type": "stream",
     "text": [
      "61\n"
     ]
    },
    {
     "name": "stderr",
     "output_type": "stream",
     "text": [
      "Epoch61: 100%|█████████████████████████████████████████████| 335/335 [00:06<00:00, 54.36batch/s, acc=0.98, loss=0.0312]\n"
     ]
    },
    {
     "name": "stdout",
     "output_type": "stream",
     "text": [
      "62\n"
     ]
    },
    {
     "name": "stderr",
     "output_type": "stream",
     "text": [
      "Epoch62: 100%|█████████████████████████████████████████████| 335/335 [00:06<00:00, 54.40batch/s, acc=0.98, loss=0.0287]\n"
     ]
    },
    {
     "name": "stdout",
     "output_type": "stream",
     "text": [
      "63\n"
     ]
    },
    {
     "name": "stderr",
     "output_type": "stream",
     "text": [
      "Epoch63: 100%|█████████████████████████████████████████████| 335/335 [00:06<00:00, 54.60batch/s, acc=0.98, loss=0.0292]\n"
     ]
    },
    {
     "name": "stdout",
     "output_type": "stream",
     "text": [
      "64\n"
     ]
    },
    {
     "name": "stderr",
     "output_type": "stream",
     "text": [
      "Epoch64: 100%|█████████████████████████████████████████████| 335/335 [00:06<00:00, 54.53batch/s, acc=0.98, loss=0.0258]\n"
     ]
    },
    {
     "name": "stdout",
     "output_type": "stream",
     "text": [
      "65\n"
     ]
    },
    {
     "name": "stderr",
     "output_type": "stream",
     "text": [
      "Epoch65: 100%|██████████████████████████████████████████████| 335/335 [00:06<00:00, 53.54batch/s, acc=0.98, loss=0.026]\n"
     ]
    },
    {
     "name": "stdout",
     "output_type": "stream",
     "text": [
      "66\n"
     ]
    },
    {
     "name": "stderr",
     "output_type": "stream",
     "text": [
      "Epoch66: 100%|█████████████████████████████████████████████| 335/335 [00:06<00:00, 51.27batch/s, acc=0.98, loss=0.0273]\n"
     ]
    },
    {
     "name": "stdout",
     "output_type": "stream",
     "text": [
      "67\n"
     ]
    },
    {
     "name": "stderr",
     "output_type": "stream",
     "text": [
      "Epoch67: 100%|█████████████████████████████████████████████| 335/335 [00:06<00:00, 54.74batch/s, acc=0.98, loss=0.0252]\n"
     ]
    },
    {
     "name": "stdout",
     "output_type": "stream",
     "text": [
      "68\n"
     ]
    },
    {
     "name": "stderr",
     "output_type": "stream",
     "text": [
      "Epoch68: 100%|█████████████████████████████████████████████| 335/335 [00:06<00:00, 54.81batch/s, acc=0.98, loss=0.0237]\n"
     ]
    },
    {
     "name": "stdout",
     "output_type": "stream",
     "text": [
      "69\n"
     ]
    },
    {
     "name": "stderr",
     "output_type": "stream",
     "text": [
      "Epoch69: 100%|████████████████████████████████████████████████| 335/335 [00:10<00:00, 31.79batch/s, acc=1, loss=0.0231]\n"
     ]
    },
    {
     "name": "stdout",
     "output_type": "stream",
     "text": [
      "70\n"
     ]
    },
    {
     "name": "stderr",
     "output_type": "stream",
     "text": [
      "Epoch70: 100%|█████████████████████████████████████████████| 335/335 [00:06<00:00, 51.28batch/s, acc=0.98, loss=0.0232]\n"
     ]
    },
    {
     "name": "stdout",
     "output_type": "stream",
     "text": [
      "71\n"
     ]
    },
    {
     "name": "stderr",
     "output_type": "stream",
     "text": [
      "Epoch71: 100%|█████████████████████████████████████████████| 335/335 [00:06<00:00, 55.34batch/s, acc=0.98, loss=0.0237]\n"
     ]
    },
    {
     "name": "stdout",
     "output_type": "stream",
     "text": [
      "72\n"
     ]
    },
    {
     "name": "stderr",
     "output_type": "stream",
     "text": [
      "Epoch72: 100%|████████████████████████████████████████████████| 335/335 [00:06<00:00, 53.08batch/s, acc=1, loss=0.0218]\n"
     ]
    },
    {
     "name": "stdout",
     "output_type": "stream",
     "text": [
      "73\n"
     ]
    },
    {
     "name": "stderr",
     "output_type": "stream",
     "text": [
      "Epoch73: 100%|████████████████████████████████████████████████| 335/335 [00:10<00:00, 31.05batch/s, acc=1, loss=0.0221]\n"
     ]
    },
    {
     "name": "stdout",
     "output_type": "stream",
     "text": [
      "74\n"
     ]
    },
    {
     "name": "stderr",
     "output_type": "stream",
     "text": [
      "Epoch74: 100%|████████████████████████████████████████████████| 335/335 [00:06<00:00, 52.19batch/s, acc=1, loss=0.0202]\n"
     ]
    },
    {
     "name": "stdout",
     "output_type": "stream",
     "text": [
      "75\n"
     ]
    },
    {
     "name": "stderr",
     "output_type": "stream",
     "text": [
      "Epoch75: 100%|████████████████████████████████████████████████| 335/335 [00:06<00:00, 54.59batch/s, acc=1, loss=0.0189]\n"
     ]
    },
    {
     "name": "stdout",
     "output_type": "stream",
     "text": [
      "76\n"
     ]
    },
    {
     "name": "stderr",
     "output_type": "stream",
     "text": [
      "Epoch76: 100%|████████████████████████████████████████████████| 335/335 [00:06<00:00, 53.43batch/s, acc=1, loss=0.0194]\n"
     ]
    },
    {
     "name": "stdout",
     "output_type": "stream",
     "text": [
      "77\n"
     ]
    },
    {
     "name": "stderr",
     "output_type": "stream",
     "text": [
      "Epoch77: 100%|████████████████████████████████████████████████| 335/335 [00:06<00:00, 50.58batch/s, acc=1, loss=0.0201]\n"
     ]
    },
    {
     "name": "stdout",
     "output_type": "stream",
     "text": [
      "78\n"
     ]
    },
    {
     "name": "stderr",
     "output_type": "stream",
     "text": [
      "Epoch78: 100%|████████████████████████████████████████████████| 335/335 [00:08<00:00, 40.60batch/s, acc=1, loss=0.0188]\n"
     ]
    },
    {
     "name": "stdout",
     "output_type": "stream",
     "text": [
      "79\n"
     ]
    },
    {
     "name": "stderr",
     "output_type": "stream",
     "text": [
      "Epoch79: 100%|████████████████████████████████████████████████| 335/335 [00:11<00:00, 29.53batch/s, acc=1, loss=0.0169]\n"
     ]
    },
    {
     "name": "stdout",
     "output_type": "stream",
     "text": [
      "80\n"
     ]
    },
    {
     "name": "stderr",
     "output_type": "stream",
     "text": [
      "Epoch80: 100%|████████████████████████████████████████████████| 335/335 [00:06<00:00, 53.75batch/s, acc=1, loss=0.0167]\n"
     ]
    },
    {
     "name": "stdout",
     "output_type": "stream",
     "text": [
      "81\n"
     ]
    },
    {
     "name": "stderr",
     "output_type": "stream",
     "text": [
      "Epoch81: 100%|████████████████████████████████████████████████| 335/335 [00:06<00:00, 52.21batch/s, acc=1, loss=0.0165]\n"
     ]
    },
    {
     "name": "stdout",
     "output_type": "stream",
     "text": [
      "82\n"
     ]
    },
    {
     "name": "stderr",
     "output_type": "stream",
     "text": [
      "Epoch82: 100%|████████████████████████████████████████████████| 335/335 [00:06<00:00, 49.65batch/s, acc=1, loss=0.0174]\n"
     ]
    },
    {
     "name": "stdout",
     "output_type": "stream",
     "text": [
      "83\n"
     ]
    },
    {
     "name": "stderr",
     "output_type": "stream",
     "text": [
      "Epoch83: 100%|████████████████████████████████████████████████| 335/335 [00:06<00:00, 53.40batch/s, acc=1, loss=0.0173]\n"
     ]
    },
    {
     "name": "stdout",
     "output_type": "stream",
     "text": [
      "84\n"
     ]
    },
    {
     "name": "stderr",
     "output_type": "stream",
     "text": [
      "Epoch84: 100%|█████████████████████████████████████████████████| 335/335 [00:06<00:00, 54.79batch/s, acc=1, loss=0.015]\n"
     ]
    },
    {
     "name": "stdout",
     "output_type": "stream",
     "text": [
      "85\n"
     ]
    },
    {
     "name": "stderr",
     "output_type": "stream",
     "text": [
      "Epoch85: 100%|████████████████████████████████████████████████| 335/335 [00:09<00:00, 34.28batch/s, acc=1, loss=0.0155]\n"
     ]
    },
    {
     "name": "stdout",
     "output_type": "stream",
     "text": [
      "86\n"
     ]
    },
    {
     "name": "stderr",
     "output_type": "stream",
     "text": [
      "Epoch86: 100%|████████████████████████████████████████████████| 335/335 [00:06<00:00, 51.11batch/s, acc=1, loss=0.0138]\n"
     ]
    },
    {
     "name": "stdout",
     "output_type": "stream",
     "text": [
      "87\n"
     ]
    },
    {
     "name": "stderr",
     "output_type": "stream",
     "text": [
      "Epoch87: 100%|█████████████████████████████████████████████████| 335/335 [00:06<00:00, 54.47batch/s, acc=1, loss=0.013]\n"
     ]
    },
    {
     "name": "stdout",
     "output_type": "stream",
     "text": [
      "88\n"
     ]
    },
    {
     "name": "stderr",
     "output_type": "stream",
     "text": [
      "Epoch88: 100%|████████████████████████████████████████████████| 335/335 [00:06<00:00, 53.87batch/s, acc=1, loss=0.0148]\n"
     ]
    },
    {
     "name": "stdout",
     "output_type": "stream",
     "text": [
      "89\n"
     ]
    },
    {
     "name": "stderr",
     "output_type": "stream",
     "text": [
      "Epoch89: 100%|████████████████████████████████████████████████| 335/335 [00:06<00:00, 53.98batch/s, acc=1, loss=0.0138]\n"
     ]
    },
    {
     "name": "stdout",
     "output_type": "stream",
     "text": [
      "90\n"
     ]
    },
    {
     "name": "stderr",
     "output_type": "stream",
     "text": [
      "Epoch90: 100%|████████████████████████████████████████████████| 335/335 [00:06<00:00, 51.42batch/s, acc=1, loss=0.0135]\n"
     ]
    },
    {
     "name": "stdout",
     "output_type": "stream",
     "text": [
      "91\n"
     ]
    },
    {
     "name": "stderr",
     "output_type": "stream",
     "text": [
      "Epoch91: 100%|█████████████████████████████████████████████████| 335/335 [00:10<00:00, 33.10batch/s, acc=1, loss=0.014]\n"
     ]
    },
    {
     "name": "stdout",
     "output_type": "stream",
     "text": [
      "92\n"
     ]
    },
    {
     "name": "stderr",
     "output_type": "stream",
     "text": [
      "Epoch92: 100%|████████████████████████████████████████████████| 335/335 [00:08<00:00, 39.44batch/s, acc=1, loss=0.0134]\n"
     ]
    },
    {
     "name": "stdout",
     "output_type": "stream",
     "text": [
      "93\n"
     ]
    },
    {
     "name": "stderr",
     "output_type": "stream",
     "text": [
      "Epoch93: 100%|████████████████████████████████████████████████| 335/335 [00:07<00:00, 45.51batch/s, acc=1, loss=0.0126]\n"
     ]
    },
    {
     "name": "stdout",
     "output_type": "stream",
     "text": [
      "94\n"
     ]
    },
    {
     "name": "stderr",
     "output_type": "stream",
     "text": [
      "Epoch94: 100%|████████████████████████████████████████████████| 335/335 [00:06<00:00, 49.98batch/s, acc=1, loss=0.0138]\n"
     ]
    },
    {
     "name": "stdout",
     "output_type": "stream",
     "text": [
      "95\n"
     ]
    },
    {
     "name": "stderr",
     "output_type": "stream",
     "text": [
      "Epoch95: 100%|████████████████████████████████████████████████| 335/335 [00:10<00:00, 31.97batch/s, acc=1, loss=0.0121]\n"
     ]
    },
    {
     "name": "stdout",
     "output_type": "stream",
     "text": [
      "96\n"
     ]
    },
    {
     "name": "stderr",
     "output_type": "stream",
     "text": [
      "Epoch96: 100%|████████████████████████████████████████████████| 335/335 [00:06<00:00, 54.70batch/s, acc=1, loss=0.0128]\n"
     ]
    },
    {
     "name": "stdout",
     "output_type": "stream",
     "text": [
      "97\n"
     ]
    },
    {
     "name": "stderr",
     "output_type": "stream",
     "text": [
      "Epoch97: 100%|████████████████████████████████████████████████| 335/335 [00:06<00:00, 52.85batch/s, acc=1, loss=0.0122]\n"
     ]
    },
    {
     "name": "stdout",
     "output_type": "stream",
     "text": [
      "98\n"
     ]
    },
    {
     "name": "stderr",
     "output_type": "stream",
     "text": [
      "Epoch98: 100%|████████████████████████████████████████████████| 335/335 [00:06<00:00, 52.67batch/s, acc=1, loss=0.0127]\n"
     ]
    },
    {
     "name": "stdout",
     "output_type": "stream",
     "text": [
      "99\n"
     ]
    },
    {
     "name": "stderr",
     "output_type": "stream",
     "text": [
      "Epoch99: 100%|████████████████████████████████████████████████| 335/335 [00:06<00:00, 50.88batch/s, acc=1, loss=0.0156]\n"
     ]
    },
    {
     "name": "stdout",
     "output_type": "stream",
     "text": [
      "Accuracy: 0.94\n",
      "0\n"
     ]
    },
    {
     "name": "stderr",
     "output_type": "stream",
     "text": [
      "Epoch0: 100%|█████████████████████████████████████████████████| 335/335 [00:06<00:00, 55.19batch/s, acc=1, loss=0.0711]\n"
     ]
    },
    {
     "name": "stdout",
     "output_type": "stream",
     "text": [
      "1\n"
     ]
    },
    {
     "name": "stderr",
     "output_type": "stream",
     "text": [
      "Epoch1: 100%|█████████████████████████████████████████████████| 335/335 [00:06<00:00, 51.02batch/s, acc=1, loss=0.0544]\n"
     ]
    },
    {
     "name": "stdout",
     "output_type": "stream",
     "text": [
      "2\n"
     ]
    },
    {
     "name": "stderr",
     "output_type": "stream",
     "text": [
      "Epoch2: 100%|█████████████████████████████████████████████████| 335/335 [00:10<00:00, 31.28batch/s, acc=1, loss=0.0476]\n"
     ]
    },
    {
     "name": "stdout",
     "output_type": "stream",
     "text": [
      "3\n"
     ]
    },
    {
     "name": "stderr",
     "output_type": "stream",
     "text": [
      "Epoch3: 100%|█████████████████████████████████████████████████| 335/335 [00:06<00:00, 53.13batch/s, acc=1, loss=0.0446]\n"
     ]
    },
    {
     "name": "stdout",
     "output_type": "stream",
     "text": [
      "4\n"
     ]
    },
    {
     "name": "stderr",
     "output_type": "stream",
     "text": [
      "Epoch4: 100%|█████████████████████████████████████████████████| 335/335 [00:06<00:00, 52.81batch/s, acc=1, loss=0.0407]\n"
     ]
    },
    {
     "name": "stdout",
     "output_type": "stream",
     "text": [
      "5\n"
     ]
    },
    {
     "name": "stderr",
     "output_type": "stream",
     "text": [
      "Epoch5: 100%|█████████████████████████████████████████████████| 335/335 [00:06<00:00, 53.80batch/s, acc=1, loss=0.0391]\n"
     ]
    },
    {
     "name": "stdout",
     "output_type": "stream",
     "text": [
      "6\n"
     ]
    },
    {
     "name": "stderr",
     "output_type": "stream",
     "text": [
      "Epoch6: 100%|█████████████████████████████████████████████████| 335/335 [00:06<00:00, 50.31batch/s, acc=1, loss=0.0373]\n"
     ]
    },
    {
     "name": "stdout",
     "output_type": "stream",
     "text": [
      "7\n"
     ]
    },
    {
     "name": "stderr",
     "output_type": "stream",
     "text": [
      "Epoch7: 100%|█████████████████████████████████████████████████| 335/335 [00:06<00:00, 48.67batch/s, acc=1, loss=0.0372]\n"
     ]
    },
    {
     "name": "stdout",
     "output_type": "stream",
     "text": [
      "8\n"
     ]
    },
    {
     "name": "stderr",
     "output_type": "stream",
     "text": [
      "Epoch8: 100%|█████████████████████████████████████████████████| 335/335 [00:10<00:00, 31.19batch/s, acc=1, loss=0.0369]\n"
     ]
    },
    {
     "name": "stdout",
     "output_type": "stream",
     "text": [
      "9\n"
     ]
    },
    {
     "name": "stderr",
     "output_type": "stream",
     "text": [
      "Epoch9: 100%|█████████████████████████████████████████████████| 335/335 [00:06<00:00, 54.23batch/s, acc=1, loss=0.0368]\n"
     ]
    },
    {
     "name": "stdout",
     "output_type": "stream",
     "text": [
      "10\n"
     ]
    },
    {
     "name": "stderr",
     "output_type": "stream",
     "text": [
      "Epoch10: 100%|████████████████████████████████████████████████| 335/335 [00:06<00:00, 51.81batch/s, acc=1, loss=0.0369]\n"
     ]
    },
    {
     "name": "stdout",
     "output_type": "stream",
     "text": [
      "11\n"
     ]
    },
    {
     "name": "stderr",
     "output_type": "stream",
     "text": [
      "Epoch11: 100%|████████████████████████████████████████████████| 335/335 [00:06<00:00, 48.72batch/s, acc=1, loss=0.0371]\n"
     ]
    },
    {
     "name": "stdout",
     "output_type": "stream",
     "text": [
      "12\n"
     ]
    },
    {
     "name": "stderr",
     "output_type": "stream",
     "text": [
      "Epoch12: 100%|████████████████████████████████████████████████| 335/335 [00:06<00:00, 48.32batch/s, acc=1, loss=0.0361]\n"
     ]
    },
    {
     "name": "stdout",
     "output_type": "stream",
     "text": [
      "13\n"
     ]
    },
    {
     "name": "stderr",
     "output_type": "stream",
     "text": [
      "Epoch13: 100%|████████████████████████████████████████████████| 335/335 [00:06<00:00, 49.55batch/s, acc=1, loss=0.0359]\n"
     ]
    },
    {
     "name": "stdout",
     "output_type": "stream",
     "text": [
      "14\n"
     ]
    },
    {
     "name": "stderr",
     "output_type": "stream",
     "text": [
      "Epoch14: 100%|████████████████████████████████████████████████| 335/335 [00:06<00:00, 49.58batch/s, acc=1, loss=0.0352]\n"
     ]
    },
    {
     "name": "stdout",
     "output_type": "stream",
     "text": [
      "15\n"
     ]
    },
    {
     "name": "stderr",
     "output_type": "stream",
     "text": [
      "Epoch15: 100%|████████████████████████████████████████████████| 335/335 [00:11<00:00, 29.11batch/s, acc=1, loss=0.0364]\n"
     ]
    },
    {
     "name": "stdout",
     "output_type": "stream",
     "text": [
      "16\n"
     ]
    },
    {
     "name": "stderr",
     "output_type": "stream",
     "text": [
      "Epoch16: 100%|████████████████████████████████████████████████| 335/335 [00:06<00:00, 52.34batch/s, acc=1, loss=0.0337]\n"
     ]
    },
    {
     "name": "stdout",
     "output_type": "stream",
     "text": [
      "17\n"
     ]
    },
    {
     "name": "stderr",
     "output_type": "stream",
     "text": [
      "Epoch17: 100%|█████████████████████████████████████████████████| 335/335 [00:06<00:00, 52.05batch/s, acc=1, loss=0.033]\n"
     ]
    },
    {
     "name": "stdout",
     "output_type": "stream",
     "text": [
      "18\n"
     ]
    },
    {
     "name": "stderr",
     "output_type": "stream",
     "text": [
      "Epoch18: 100%|████████████████████████████████████████████████| 335/335 [00:06<00:00, 50.08batch/s, acc=1, loss=0.0329]\n"
     ]
    },
    {
     "name": "stdout",
     "output_type": "stream",
     "text": [
      "19\n"
     ]
    },
    {
     "name": "stderr",
     "output_type": "stream",
     "text": [
      "Epoch19: 100%|████████████████████████████████████████████████| 335/335 [00:06<00:00, 51.48batch/s, acc=1, loss=0.0319]\n"
     ]
    },
    {
     "name": "stdout",
     "output_type": "stream",
     "text": [
      "20\n"
     ]
    },
    {
     "name": "stderr",
     "output_type": "stream",
     "text": [
      "Epoch20: 100%|████████████████████████████████████████████████| 335/335 [00:10<00:00, 32.22batch/s, acc=1, loss=0.0319]\n"
     ]
    },
    {
     "name": "stdout",
     "output_type": "stream",
     "text": [
      "21\n"
     ]
    },
    {
     "name": "stderr",
     "output_type": "stream",
     "text": [
      "Epoch21: 100%|████████████████████████████████████████████████| 335/335 [00:06<00:00, 52.99batch/s, acc=1, loss=0.0303]\n"
     ]
    },
    {
     "name": "stdout",
     "output_type": "stream",
     "text": [
      "22\n"
     ]
    },
    {
     "name": "stderr",
     "output_type": "stream",
     "text": [
      "Epoch22: 100%|████████████████████████████████████████████████| 335/335 [00:06<00:00, 51.29batch/s, acc=1, loss=0.0301]\n"
     ]
    },
    {
     "name": "stdout",
     "output_type": "stream",
     "text": [
      "23\n"
     ]
    },
    {
     "name": "stderr",
     "output_type": "stream",
     "text": [
      "Epoch23: 100%|████████████████████████████████████████████████| 335/335 [00:06<00:00, 51.81batch/s, acc=1, loss=0.0301]\n"
     ]
    },
    {
     "name": "stdout",
     "output_type": "stream",
     "text": [
      "24\n"
     ]
    },
    {
     "name": "stderr",
     "output_type": "stream",
     "text": [
      "Epoch24: 100%|████████████████████████████████████████████████| 335/335 [00:06<00:00, 49.21batch/s, acc=1, loss=0.0294]\n"
     ]
    },
    {
     "name": "stdout",
     "output_type": "stream",
     "text": [
      "25\n"
     ]
    },
    {
     "name": "stderr",
     "output_type": "stream",
     "text": [
      "Epoch25: 100%|████████████████████████████████████████████████| 335/335 [00:06<00:00, 51.51batch/s, acc=1, loss=0.0301]\n"
     ]
    },
    {
     "name": "stdout",
     "output_type": "stream",
     "text": [
      "26\n"
     ]
    },
    {
     "name": "stderr",
     "output_type": "stream",
     "text": [
      "Epoch26: 100%|████████████████████████████████████████████████| 335/335 [00:06<00:00, 50.82batch/s, acc=1, loss=0.0287]\n"
     ]
    },
    {
     "name": "stdout",
     "output_type": "stream",
     "text": [
      "27\n"
     ]
    },
    {
     "name": "stderr",
     "output_type": "stream",
     "text": [
      "Epoch27: 100%|████████████████████████████████████████████████| 335/335 [00:10<00:00, 31.80batch/s, acc=1, loss=0.0287]\n"
     ]
    },
    {
     "name": "stdout",
     "output_type": "stream",
     "text": [
      "28\n"
     ]
    },
    {
     "name": "stderr",
     "output_type": "stream",
     "text": [
      "Epoch28: 100%|████████████████████████████████████████████████| 335/335 [00:06<00:00, 52.22batch/s, acc=1, loss=0.0278]\n"
     ]
    },
    {
     "name": "stdout",
     "output_type": "stream",
     "text": [
      "29\n"
     ]
    },
    {
     "name": "stderr",
     "output_type": "stream",
     "text": [
      "Epoch29: 100%|████████████████████████████████████████████████| 335/335 [00:06<00:00, 53.51batch/s, acc=1, loss=0.0283]\n"
     ]
    },
    {
     "name": "stdout",
     "output_type": "stream",
     "text": [
      "30\n"
     ]
    },
    {
     "name": "stderr",
     "output_type": "stream",
     "text": [
      "Epoch30: 100%|████████████████████████████████████████████████| 335/335 [00:06<00:00, 48.11batch/s, acc=1, loss=0.0288]\n"
     ]
    },
    {
     "name": "stdout",
     "output_type": "stream",
     "text": [
      "31\n"
     ]
    },
    {
     "name": "stderr",
     "output_type": "stream",
     "text": [
      "Epoch31: 100%|█████████████████████████████████████████████████| 335/335 [00:07<00:00, 43.41batch/s, acc=1, loss=0.028]\n"
     ]
    },
    {
     "name": "stdout",
     "output_type": "stream",
     "text": [
      "32\n"
     ]
    },
    {
     "name": "stderr",
     "output_type": "stream",
     "text": [
      "Epoch32: 100%|████████████████████████████████████████████████| 335/335 [00:11<00:00, 29.85batch/s, acc=1, loss=0.0286]\n"
     ]
    },
    {
     "name": "stdout",
     "output_type": "stream",
     "text": [
      "33\n"
     ]
    },
    {
     "name": "stderr",
     "output_type": "stream",
     "text": [
      "Epoch33: 100%|████████████████████████████████████████████████| 335/335 [00:06<00:00, 51.87batch/s, acc=1, loss=0.0273]\n"
     ]
    },
    {
     "name": "stdout",
     "output_type": "stream",
     "text": [
      "34\n"
     ]
    },
    {
     "name": "stderr",
     "output_type": "stream",
     "text": [
      "Epoch34: 100%|████████████████████████████████████████████████| 335/335 [00:06<00:00, 54.73batch/s, acc=1, loss=0.0279]\n"
     ]
    },
    {
     "name": "stdout",
     "output_type": "stream",
     "text": [
      "35\n"
     ]
    },
    {
     "name": "stderr",
     "output_type": "stream",
     "text": [
      "Epoch35: 100%|████████████████████████████████████████████████| 335/335 [00:06<00:00, 53.44batch/s, acc=1, loss=0.0284]\n"
     ]
    },
    {
     "name": "stdout",
     "output_type": "stream",
     "text": [
      "36\n"
     ]
    },
    {
     "name": "stderr",
     "output_type": "stream",
     "text": [
      "Epoch36: 100%|████████████████████████████████████████████████| 335/335 [00:06<00:00, 55.40batch/s, acc=1, loss=0.0274]\n"
     ]
    },
    {
     "name": "stdout",
     "output_type": "stream",
     "text": [
      "37\n"
     ]
    },
    {
     "name": "stderr",
     "output_type": "stream",
     "text": [
      "Epoch37: 100%|████████████████████████████████████████████████| 335/335 [00:11<00:00, 29.90batch/s, acc=1, loss=0.0273]\n"
     ]
    },
    {
     "name": "stdout",
     "output_type": "stream",
     "text": [
      "38\n"
     ]
    },
    {
     "name": "stderr",
     "output_type": "stream",
     "text": [
      "Epoch38: 100%|████████████████████████████████████████████████| 335/335 [00:06<00:00, 54.72batch/s, acc=1, loss=0.0278]\n"
     ]
    },
    {
     "name": "stdout",
     "output_type": "stream",
     "text": [
      "39\n"
     ]
    },
    {
     "name": "stderr",
     "output_type": "stream",
     "text": [
      "Epoch39: 100%|████████████████████████████████████████████████| 335/335 [00:06<00:00, 55.53batch/s, acc=1, loss=0.0268]\n"
     ]
    },
    {
     "name": "stdout",
     "output_type": "stream",
     "text": [
      "40\n"
     ]
    },
    {
     "name": "stderr",
     "output_type": "stream",
     "text": [
      "Epoch40: 100%|████████████████████████████████████████████████| 335/335 [00:06<00:00, 54.51batch/s, acc=1, loss=0.0274]\n"
     ]
    },
    {
     "name": "stdout",
     "output_type": "stream",
     "text": [
      "41\n"
     ]
    },
    {
     "name": "stderr",
     "output_type": "stream",
     "text": [
      "Epoch41: 100%|████████████████████████████████████████████████| 335/335 [00:06<00:00, 53.90batch/s, acc=1, loss=0.0272]\n"
     ]
    },
    {
     "name": "stdout",
     "output_type": "stream",
     "text": [
      "42\n"
     ]
    },
    {
     "name": "stderr",
     "output_type": "stream",
     "text": [
      "Epoch42: 100%|████████████████████████████████████████████████| 335/335 [00:09<00:00, 34.10batch/s, acc=1, loss=0.0272]\n"
     ]
    },
    {
     "name": "stdout",
     "output_type": "stream",
     "text": [
      "43\n"
     ]
    },
    {
     "name": "stderr",
     "output_type": "stream",
     "text": [
      "Epoch43: 100%|████████████████████████████████████████████████| 335/335 [00:06<00:00, 55.02batch/s, acc=1, loss=0.0269]\n"
     ]
    },
    {
     "name": "stdout",
     "output_type": "stream",
     "text": [
      "44\n"
     ]
    },
    {
     "name": "stderr",
     "output_type": "stream",
     "text": [
      "Epoch44: 100%|████████████████████████████████████████████████| 335/335 [00:06<00:00, 51.40batch/s, acc=1, loss=0.0259]\n"
     ]
    },
    {
     "name": "stdout",
     "output_type": "stream",
     "text": [
      "45\n"
     ]
    },
    {
     "name": "stderr",
     "output_type": "stream",
     "text": [
      "Epoch45: 100%|████████████████████████████████████████████████| 335/335 [00:06<00:00, 50.62batch/s, acc=1, loss=0.0256]\n"
     ]
    },
    {
     "name": "stdout",
     "output_type": "stream",
     "text": [
      "46\n"
     ]
    },
    {
     "name": "stderr",
     "output_type": "stream",
     "text": [
      "Epoch46: 100%|████████████████████████████████████████████████| 335/335 [00:06<00:00, 49.17batch/s, acc=1, loss=0.0253]\n"
     ]
    },
    {
     "name": "stdout",
     "output_type": "stream",
     "text": [
      "47\n"
     ]
    },
    {
     "name": "stderr",
     "output_type": "stream",
     "text": [
      "Epoch47: 100%|█████████████████████████████████████████████████| 335/335 [00:06<00:00, 50.11batch/s, acc=1, loss=0.026]\n"
     ]
    },
    {
     "name": "stdout",
     "output_type": "stream",
     "text": [
      "48\n"
     ]
    },
    {
     "name": "stderr",
     "output_type": "stream",
     "text": [
      "Epoch48: 100%|████████████████████████████████████████████████| 335/335 [00:06<00:00, 50.33batch/s, acc=1, loss=0.0253]\n"
     ]
    },
    {
     "name": "stdout",
     "output_type": "stream",
     "text": [
      "49\n"
     ]
    },
    {
     "name": "stderr",
     "output_type": "stream",
     "text": [
      "Epoch49: 100%|████████████████████████████████████████████████| 335/335 [00:06<00:00, 50.75batch/s, acc=1, loss=0.0252]\n"
     ]
    },
    {
     "name": "stdout",
     "output_type": "stream",
     "text": [
      "50\n"
     ]
    },
    {
     "name": "stderr",
     "output_type": "stream",
     "text": [
      "Epoch50: 100%|████████████████████████████████████████████████| 335/335 [00:11<00:00, 30.43batch/s, acc=1, loss=0.0251]\n"
     ]
    },
    {
     "name": "stdout",
     "output_type": "stream",
     "text": [
      "51\n"
     ]
    },
    {
     "name": "stderr",
     "output_type": "stream",
     "text": [
      "Epoch51: 100%|████████████████████████████████████████████████| 335/335 [00:06<00:00, 52.78batch/s, acc=1, loss=0.0278]\n"
     ]
    },
    {
     "name": "stdout",
     "output_type": "stream",
     "text": [
      "52\n"
     ]
    },
    {
     "name": "stderr",
     "output_type": "stream",
     "text": [
      "Epoch52: 100%|████████████████████████████████████████████████| 335/335 [00:06<00:00, 48.33batch/s, acc=1, loss=0.0251]\n"
     ]
    },
    {
     "name": "stdout",
     "output_type": "stream",
     "text": [
      "53\n"
     ]
    },
    {
     "name": "stderr",
     "output_type": "stream",
     "text": [
      "Epoch53: 100%|████████████████████████████████████████████████| 335/335 [00:06<00:00, 48.73batch/s, acc=1, loss=0.0263]\n"
     ]
    },
    {
     "name": "stdout",
     "output_type": "stream",
     "text": [
      "54\n"
     ]
    },
    {
     "name": "stderr",
     "output_type": "stream",
     "text": [
      "Epoch54: 100%|████████████████████████████████████████████████| 335/335 [00:06<00:00, 50.01batch/s, acc=1, loss=0.0245]\n"
     ]
    },
    {
     "name": "stdout",
     "output_type": "stream",
     "text": [
      "55\n"
     ]
    },
    {
     "name": "stderr",
     "output_type": "stream",
     "text": [
      "Epoch55: 100%|████████████████████████████████████████████████| 335/335 [00:10<00:00, 32.15batch/s, acc=1, loss=0.0247]\n"
     ]
    },
    {
     "name": "stdout",
     "output_type": "stream",
     "text": [
      "56\n"
     ]
    },
    {
     "name": "stderr",
     "output_type": "stream",
     "text": [
      "Epoch56: 100%|████████████████████████████████████████████████| 335/335 [00:06<00:00, 51.57batch/s, acc=1, loss=0.0273]\n"
     ]
    },
    {
     "name": "stdout",
     "output_type": "stream",
     "text": [
      "57\n"
     ]
    },
    {
     "name": "stderr",
     "output_type": "stream",
     "text": [
      "Epoch57: 100%|████████████████████████████████████████████████| 335/335 [00:06<00:00, 52.89batch/s, acc=1, loss=0.0245]\n"
     ]
    },
    {
     "name": "stdout",
     "output_type": "stream",
     "text": [
      "58\n"
     ]
    },
    {
     "name": "stderr",
     "output_type": "stream",
     "text": [
      "Epoch58: 100%|████████████████████████████████████████████████| 335/335 [00:06<00:00, 52.81batch/s, acc=1, loss=0.0232]\n"
     ]
    },
    {
     "name": "stdout",
     "output_type": "stream",
     "text": [
      "59\n"
     ]
    },
    {
     "name": "stderr",
     "output_type": "stream",
     "text": [
      "Epoch59: 100%|████████████████████████████████████████████████| 335/335 [00:06<00:00, 52.09batch/s, acc=1, loss=0.0246]\n"
     ]
    },
    {
     "name": "stdout",
     "output_type": "stream",
     "text": [
      "60\n"
     ]
    },
    {
     "name": "stderr",
     "output_type": "stream",
     "text": [
      "Epoch60: 100%|████████████████████████████████████████████████| 335/335 [00:06<00:00, 52.02batch/s, acc=1, loss=0.0225]\n"
     ]
    },
    {
     "name": "stdout",
     "output_type": "stream",
     "text": [
      "61\n"
     ]
    },
    {
     "name": "stderr",
     "output_type": "stream",
     "text": [
      "Epoch61: 100%|████████████████████████████████████████████████| 335/335 [00:06<00:00, 51.78batch/s, acc=1, loss=0.0215]\n"
     ]
    },
    {
     "name": "stdout",
     "output_type": "stream",
     "text": [
      "62\n"
     ]
    },
    {
     "name": "stderr",
     "output_type": "stream",
     "text": [
      "Epoch62: 100%|█████████████████████████████████████████████████| 335/335 [00:10<00:00, 33.13batch/s, acc=1, loss=0.026]\n"
     ]
    },
    {
     "name": "stdout",
     "output_type": "stream",
     "text": [
      "63\n"
     ]
    },
    {
     "name": "stderr",
     "output_type": "stream",
     "text": [
      "Epoch63: 100%|████████████████████████████████████████████████| 335/335 [00:06<00:00, 52.57batch/s, acc=1, loss=0.0208]\n"
     ]
    },
    {
     "name": "stdout",
     "output_type": "stream",
     "text": [
      "64\n"
     ]
    },
    {
     "name": "stderr",
     "output_type": "stream",
     "text": [
      "Epoch64: 100%|████████████████████████████████████████████████| 335/335 [00:06<00:00, 53.50batch/s, acc=1, loss=0.0199]\n"
     ]
    },
    {
     "name": "stdout",
     "output_type": "stream",
     "text": [
      "65\n"
     ]
    },
    {
     "name": "stderr",
     "output_type": "stream",
     "text": [
      "Epoch65: 100%|████████████████████████████████████████████████| 335/335 [00:06<00:00, 53.03batch/s, acc=1, loss=0.0192]\n"
     ]
    },
    {
     "name": "stdout",
     "output_type": "stream",
     "text": [
      "66\n"
     ]
    },
    {
     "name": "stderr",
     "output_type": "stream",
     "text": [
      "Epoch66: 100%|█████████████████████████████████████████████████| 335/335 [00:06<00:00, 52.12batch/s, acc=1, loss=0.023]\n"
     ]
    },
    {
     "name": "stdout",
     "output_type": "stream",
     "text": [
      "67\n"
     ]
    },
    {
     "name": "stderr",
     "output_type": "stream",
     "text": [
      "Epoch67: 100%|████████████████████████████████████████████████| 335/335 [00:06<00:00, 52.95batch/s, acc=1, loss=0.0192]\n"
     ]
    },
    {
     "name": "stdout",
     "output_type": "stream",
     "text": [
      "68\n"
     ]
    },
    {
     "name": "stderr",
     "output_type": "stream",
     "text": [
      "Epoch68: 100%|████████████████████████████████████████████████| 335/335 [00:06<00:00, 52.15batch/s, acc=1, loss=0.0196]\n"
     ]
    },
    {
     "name": "stdout",
     "output_type": "stream",
     "text": [
      "69\n"
     ]
    },
    {
     "name": "stderr",
     "output_type": "stream",
     "text": [
      "Epoch69: 100%|████████████████████████████████████████████████| 335/335 [00:10<00:00, 31.93batch/s, acc=1, loss=0.0179]\n"
     ]
    },
    {
     "name": "stdout",
     "output_type": "stream",
     "text": [
      "70\n"
     ]
    },
    {
     "name": "stderr",
     "output_type": "stream",
     "text": [
      "Epoch70: 100%|████████████████████████████████████████████████| 335/335 [00:06<00:00, 53.86batch/s, acc=1, loss=0.0197]\n"
     ]
    },
    {
     "name": "stdout",
     "output_type": "stream",
     "text": [
      "71\n"
     ]
    },
    {
     "name": "stderr",
     "output_type": "stream",
     "text": [
      "Epoch71: 100%|████████████████████████████████████████████████| 335/335 [00:06<00:00, 54.14batch/s, acc=1, loss=0.0172]\n"
     ]
    },
    {
     "name": "stdout",
     "output_type": "stream",
     "text": [
      "72\n"
     ]
    },
    {
     "name": "stderr",
     "output_type": "stream",
     "text": [
      "Epoch72: 100%|████████████████████████████████████████████████| 335/335 [00:06<00:00, 53.84batch/s, acc=1, loss=0.0164]\n"
     ]
    },
    {
     "name": "stdout",
     "output_type": "stream",
     "text": [
      "73\n"
     ]
    },
    {
     "name": "stderr",
     "output_type": "stream",
     "text": [
      "Epoch73: 100%|████████████████████████████████████████████████| 335/335 [00:06<00:00, 51.97batch/s, acc=1, loss=0.0178]\n"
     ]
    },
    {
     "name": "stdout",
     "output_type": "stream",
     "text": [
      "74\n"
     ]
    },
    {
     "name": "stderr",
     "output_type": "stream",
     "text": [
      "Epoch74: 100%|████████████████████████████████████████████████| 335/335 [00:06<00:00, 50.93batch/s, acc=1, loss=0.0169]\n"
     ]
    },
    {
     "name": "stdout",
     "output_type": "stream",
     "text": [
      "75\n"
     ]
    },
    {
     "name": "stderr",
     "output_type": "stream",
     "text": [
      "Epoch75: 100%|████████████████████████████████████████████████| 335/335 [00:06<00:00, 50.20batch/s, acc=1, loss=0.0174]\n"
     ]
    },
    {
     "name": "stdout",
     "output_type": "stream",
     "text": [
      "76\n"
     ]
    },
    {
     "name": "stderr",
     "output_type": "stream",
     "text": [
      "Epoch76: 100%|████████████████████████████████████████████████| 335/335 [00:11<00:00, 29.53batch/s, acc=1, loss=0.0156]\n"
     ]
    },
    {
     "name": "stdout",
     "output_type": "stream",
     "text": [
      "77\n"
     ]
    },
    {
     "name": "stderr",
     "output_type": "stream",
     "text": [
      "Epoch77: 100%|████████████████████████████████████████████████| 335/335 [00:06<00:00, 53.16batch/s, acc=1, loss=0.0155]\n"
     ]
    },
    {
     "name": "stdout",
     "output_type": "stream",
     "text": [
      "78\n"
     ]
    },
    {
     "name": "stderr",
     "output_type": "stream",
     "text": [
      "Epoch78: 100%|████████████████████████████████████████████████| 335/335 [00:06<00:00, 55.62batch/s, acc=1, loss=0.0138]\n"
     ]
    },
    {
     "name": "stdout",
     "output_type": "stream",
     "text": [
      "79\n"
     ]
    },
    {
     "name": "stderr",
     "output_type": "stream",
     "text": [
      "Epoch79: 100%|████████████████████████████████████████████████| 335/335 [00:06<00:00, 54.42batch/s, acc=1, loss=0.0147]\n"
     ]
    },
    {
     "name": "stdout",
     "output_type": "stream",
     "text": [
      "80\n"
     ]
    },
    {
     "name": "stderr",
     "output_type": "stream",
     "text": [
      "Epoch80: 100%|████████████████████████████████████████████████| 335/335 [00:06<00:00, 49.63batch/s, acc=1, loss=0.0146]\n"
     ]
    },
    {
     "name": "stdout",
     "output_type": "stream",
     "text": [
      "81\n"
     ]
    },
    {
     "name": "stderr",
     "output_type": "stream",
     "text": [
      "Epoch81: 100%|█████████████████████████████████████████████████| 335/335 [00:07<00:00, 43.00batch/s, acc=1, loss=0.015]\n"
     ]
    },
    {
     "name": "stdout",
     "output_type": "stream",
     "text": [
      "82\n"
     ]
    },
    {
     "name": "stderr",
     "output_type": "stream",
     "text": [
      "Epoch82: 100%|████████████████████████████████████████████████| 335/335 [00:05<00:00, 56.45batch/s, acc=1, loss=0.0155]\n"
     ]
    },
    {
     "name": "stdout",
     "output_type": "stream",
     "text": [
      "83\n"
     ]
    },
    {
     "name": "stderr",
     "output_type": "stream",
     "text": [
      "Epoch83: 100%|████████████████████████████████████████████████| 335/335 [00:06<00:00, 52.95batch/s, acc=1, loss=0.0131]\n"
     ]
    },
    {
     "name": "stdout",
     "output_type": "stream",
     "text": [
      "84\n"
     ]
    },
    {
     "name": "stderr",
     "output_type": "stream",
     "text": [
      "Epoch84: 100%|████████████████████████████████████████████████| 335/335 [00:06<00:00, 54.70batch/s, acc=1, loss=0.0152]\n"
     ]
    },
    {
     "name": "stdout",
     "output_type": "stream",
     "text": [
      "85\n"
     ]
    },
    {
     "name": "stderr",
     "output_type": "stream",
     "text": [
      "Epoch85: 100%|████████████████████████████████████████████████| 335/335 [00:06<00:00, 54.33batch/s, acc=1, loss=0.0117]\n"
     ]
    },
    {
     "name": "stdout",
     "output_type": "stream",
     "text": [
      "86\n"
     ]
    },
    {
     "name": "stderr",
     "output_type": "stream",
     "text": [
      "Epoch86: 100%|█████████████████████████████████████████████████| 335/335 [00:06<00:00, 53.97batch/s, acc=1, loss=0.011]\n"
     ]
    },
    {
     "name": "stdout",
     "output_type": "stream",
     "text": [
      "87\n"
     ]
    },
    {
     "name": "stderr",
     "output_type": "stream",
     "text": [
      "Epoch87: 100%|███████████████████████████████████████████████| 335/335 [00:09<00:00, 33.70batch/s, acc=1, loss=0.00994]\n"
     ]
    },
    {
     "name": "stdout",
     "output_type": "stream",
     "text": [
      "88\n"
     ]
    },
    {
     "name": "stderr",
     "output_type": "stream",
     "text": [
      "Epoch88: 100%|████████████████████████████████████████████████| 335/335 [00:06<00:00, 54.87batch/s, acc=1, loss=0.0116]\n"
     ]
    },
    {
     "name": "stdout",
     "output_type": "stream",
     "text": [
      "89\n"
     ]
    },
    {
     "name": "stderr",
     "output_type": "stream",
     "text": [
      "Epoch89: 100%|█████████████████████████████████████████████| 335/335 [00:06<00:00, 52.27batch/s, acc=0.98, loss=0.0378]\n"
     ]
    },
    {
     "name": "stdout",
     "output_type": "stream",
     "text": [
      "90\n"
     ]
    },
    {
     "name": "stderr",
     "output_type": "stream",
     "text": [
      "Epoch90: 100%|███████████████████████████████████████████████| 335/335 [00:06<00:00, 51.41batch/s, acc=1, loss=0.00917]\n"
     ]
    },
    {
     "name": "stdout",
     "output_type": "stream",
     "text": [
      "91\n"
     ]
    },
    {
     "name": "stderr",
     "output_type": "stream",
     "text": [
      "Epoch91: 100%|████████████████████████████████████████████████| 335/335 [00:06<00:00, 52.99batch/s, acc=1, loss=0.0091]\n"
     ]
    },
    {
     "name": "stdout",
     "output_type": "stream",
     "text": [
      "92\n"
     ]
    },
    {
     "name": "stderr",
     "output_type": "stream",
     "text": [
      "Epoch92: 100%|███████████████████████████████████████████████| 335/335 [00:06<00:00, 53.02batch/s, acc=1, loss=0.00724]\n"
     ]
    },
    {
     "name": "stdout",
     "output_type": "stream",
     "text": [
      "93\n"
     ]
    },
    {
     "name": "stderr",
     "output_type": "stream",
     "text": [
      "Epoch93: 100%|███████████████████████████████████████████████| 335/335 [00:10<00:00, 33.04batch/s, acc=1, loss=0.00805]\n"
     ]
    },
    {
     "name": "stdout",
     "output_type": "stream",
     "text": [
      "94\n"
     ]
    },
    {
     "name": "stderr",
     "output_type": "stream",
     "text": [
      "Epoch94: 100%|███████████████████████████████████████████████| 335/335 [00:06<00:00, 51.89batch/s, acc=1, loss=0.00813]\n"
     ]
    },
    {
     "name": "stdout",
     "output_type": "stream",
     "text": [
      "95\n"
     ]
    },
    {
     "name": "stderr",
     "output_type": "stream",
     "text": [
      "Epoch95: 100%|███████████████████████████████████████████████| 335/335 [00:06<00:00, 53.07batch/s, acc=1, loss=0.00863]\n"
     ]
    },
    {
     "name": "stdout",
     "output_type": "stream",
     "text": [
      "96\n"
     ]
    },
    {
     "name": "stderr",
     "output_type": "stream",
     "text": [
      "Epoch96: 100%|███████████████████████████████████████████████| 335/335 [00:06<00:00, 50.62batch/s, acc=1, loss=0.00802]\n"
     ]
    },
    {
     "name": "stdout",
     "output_type": "stream",
     "text": [
      "97\n"
     ]
    },
    {
     "name": "stderr",
     "output_type": "stream",
     "text": [
      "Epoch97: 100%|███████████████████████████████████████████████| 335/335 [00:06<00:00, 51.42batch/s, acc=1, loss=0.00761]\n"
     ]
    },
    {
     "name": "stdout",
     "output_type": "stream",
     "text": [
      "98\n"
     ]
    },
    {
     "name": "stderr",
     "output_type": "stream",
     "text": [
      "Epoch98: 100%|███████████████████████████████████████████████| 335/335 [00:06<00:00, 51.86batch/s, acc=1, loss=0.00624]\n"
     ]
    },
    {
     "name": "stdout",
     "output_type": "stream",
     "text": [
      "99\n"
     ]
    },
    {
     "name": "stderr",
     "output_type": "stream",
     "text": [
      "Epoch99: 100%|███████████████████████████████████████████████| 335/335 [00:10<00:00, 32.42batch/s, acc=1, loss=0.00628]\n"
     ]
    },
    {
     "name": "stdout",
     "output_type": "stream",
     "text": [
      "Accuracy: 0.94\n",
      "0\n"
     ]
    },
    {
     "name": "stderr",
     "output_type": "stream",
     "text": [
      "Epoch0: 100%|█████████████████████████████████████████████████| 335/335 [00:05<00:00, 56.28batch/s, acc=1, loss=0.0718]\n"
     ]
    },
    {
     "name": "stdout",
     "output_type": "stream",
     "text": [
      "1\n"
     ]
    },
    {
     "name": "stderr",
     "output_type": "stream",
     "text": [
      "Epoch1: 100%|█████████████████████████████████████████████████| 335/335 [00:06<00:00, 55.74batch/s, acc=1, loss=0.0538]\n"
     ]
    },
    {
     "name": "stdout",
     "output_type": "stream",
     "text": [
      "2\n"
     ]
    },
    {
     "name": "stderr",
     "output_type": "stream",
     "text": [
      "Epoch2: 100%|█████████████████████████████████████████████████| 335/335 [00:06<00:00, 53.85batch/s, acc=1, loss=0.0445]\n"
     ]
    },
    {
     "name": "stdout",
     "output_type": "stream",
     "text": [
      "3\n"
     ]
    },
    {
     "name": "stderr",
     "output_type": "stream",
     "text": [
      "Epoch3: 100%|█████████████████████████████████████████████████| 335/335 [00:06<00:00, 51.76batch/s, acc=1, loss=0.0386]\n"
     ]
    },
    {
     "name": "stdout",
     "output_type": "stream",
     "text": [
      "4\n"
     ]
    },
    {
     "name": "stderr",
     "output_type": "stream",
     "text": [
      "Epoch4: 100%|█████████████████████████████████████████████████| 335/335 [00:06<00:00, 52.91batch/s, acc=1, loss=0.0341]\n"
     ]
    },
    {
     "name": "stdout",
     "output_type": "stream",
     "text": [
      "5\n"
     ]
    },
    {
     "name": "stderr",
     "output_type": "stream",
     "text": [
      "Epoch5: 100%|█████████████████████████████████████████████████| 335/335 [00:06<00:00, 53.22batch/s, acc=1, loss=0.0317]\n"
     ]
    },
    {
     "name": "stdout",
     "output_type": "stream",
     "text": [
      "6\n"
     ]
    },
    {
     "name": "stderr",
     "output_type": "stream",
     "text": [
      "Epoch6: 100%|█████████████████████████████████████████████████| 335/335 [00:10<00:00, 32.97batch/s, acc=1, loss=0.0304]\n"
     ]
    },
    {
     "name": "stdout",
     "output_type": "stream",
     "text": [
      "7\n"
     ]
    },
    {
     "name": "stderr",
     "output_type": "stream",
     "text": [
      "Epoch7: 100%|█████████████████████████████████████████████████| 335/335 [00:06<00:00, 54.86batch/s, acc=1, loss=0.0296]\n"
     ]
    },
    {
     "name": "stdout",
     "output_type": "stream",
     "text": [
      "8\n"
     ]
    },
    {
     "name": "stderr",
     "output_type": "stream",
     "text": [
      "Epoch8: 100%|█████████████████████████████████████████████████| 335/335 [00:06<00:00, 54.64batch/s, acc=1, loss=0.0292]\n"
     ]
    },
    {
     "name": "stdout",
     "output_type": "stream",
     "text": [
      "9\n"
     ]
    },
    {
     "name": "stderr",
     "output_type": "stream",
     "text": [
      "Epoch9: 100%|█████████████████████████████████████████████████| 335/335 [00:06<00:00, 51.74batch/s, acc=1, loss=0.0297]\n"
     ]
    },
    {
     "name": "stdout",
     "output_type": "stream",
     "text": [
      "10\n"
     ]
    },
    {
     "name": "stderr",
     "output_type": "stream",
     "text": [
      "Epoch10: 100%|██████████████████████████████████████████████████| 335/335 [00:06<00:00, 50.64batch/s, acc=1, loss=0.03]\n"
     ]
    },
    {
     "name": "stdout",
     "output_type": "stream",
     "text": [
      "11\n"
     ]
    },
    {
     "name": "stderr",
     "output_type": "stream",
     "text": [
      "Epoch11: 100%|████████████████████████████████████████████████| 335/335 [00:06<00:00, 53.07batch/s, acc=1, loss=0.0304]\n"
     ]
    },
    {
     "name": "stdout",
     "output_type": "stream",
     "text": [
      "12\n"
     ]
    },
    {
     "name": "stderr",
     "output_type": "stream",
     "text": [
      "Epoch12: 100%|████████████████████████████████████████████████| 335/335 [00:06<00:00, 53.82batch/s, acc=1, loss=0.0304]\n"
     ]
    },
    {
     "name": "stdout",
     "output_type": "stream",
     "text": [
      "13\n"
     ]
    },
    {
     "name": "stderr",
     "output_type": "stream",
     "text": [
      "Epoch13: 100%|████████████████████████████████████████████████| 335/335 [00:10<00:00, 33.29batch/s, acc=1, loss=0.0308]\n"
     ]
    },
    {
     "name": "stdout",
     "output_type": "stream",
     "text": [
      "14\n"
     ]
    },
    {
     "name": "stderr",
     "output_type": "stream",
     "text": [
      "Epoch14: 100%|████████████████████████████████████████████████| 335/335 [00:06<00:00, 53.10batch/s, acc=1, loss=0.0314]\n"
     ]
    },
    {
     "name": "stdout",
     "output_type": "stream",
     "text": [
      "15\n"
     ]
    },
    {
     "name": "stderr",
     "output_type": "stream",
     "text": [
      "Epoch15: 100%|████████████████████████████████████████████████| 335/335 [00:06<00:00, 53.76batch/s, acc=1, loss=0.0319]\n"
     ]
    },
    {
     "name": "stdout",
     "output_type": "stream",
     "text": [
      "16\n"
     ]
    },
    {
     "name": "stderr",
     "output_type": "stream",
     "text": [
      "Epoch16: 100%|████████████████████████████████████████████████| 335/335 [00:06<00:00, 54.54batch/s, acc=1, loss=0.0328]\n"
     ]
    },
    {
     "name": "stdout",
     "output_type": "stream",
     "text": [
      "17\n"
     ]
    },
    {
     "name": "stderr",
     "output_type": "stream",
     "text": [
      "Epoch17: 100%|████████████████████████████████████████████████| 335/335 [00:06<00:00, 51.26batch/s, acc=1, loss=0.0338]\n"
     ]
    },
    {
     "name": "stdout",
     "output_type": "stream",
     "text": [
      "18\n"
     ]
    },
    {
     "name": "stderr",
     "output_type": "stream",
     "text": [
      "Epoch18: 100%|████████████████████████████████████████████████| 335/335 [00:10<00:00, 32.87batch/s, acc=1, loss=0.0336]\n"
     ]
    },
    {
     "name": "stdout",
     "output_type": "stream",
     "text": [
      "19\n"
     ]
    },
    {
     "name": "stderr",
     "output_type": "stream",
     "text": [
      "Epoch19: 100%|████████████████████████████████████████████████| 335/335 [00:06<00:00, 53.28batch/s, acc=1, loss=0.0341]\n"
     ]
    },
    {
     "name": "stdout",
     "output_type": "stream",
     "text": [
      "20\n"
     ]
    },
    {
     "name": "stderr",
     "output_type": "stream",
     "text": [
      "Epoch20: 100%|█████████████████████████████████████████████████| 335/335 [00:06<00:00, 53.91batch/s, acc=1, loss=0.034]\n"
     ]
    },
    {
     "name": "stdout",
     "output_type": "stream",
     "text": [
      "21\n"
     ]
    },
    {
     "name": "stderr",
     "output_type": "stream",
     "text": [
      "Epoch21: 100%|████████████████████████████████████████████████| 335/335 [00:06<00:00, 53.45batch/s, acc=1, loss=0.0347]\n"
     ]
    },
    {
     "name": "stdout",
     "output_type": "stream",
     "text": [
      "22\n"
     ]
    },
    {
     "name": "stderr",
     "output_type": "stream",
     "text": [
      "Epoch22: 100%|████████████████████████████████████████████████| 335/335 [00:06<00:00, 52.99batch/s, acc=1, loss=0.0351]\n"
     ]
    },
    {
     "name": "stdout",
     "output_type": "stream",
     "text": [
      "23\n"
     ]
    },
    {
     "name": "stderr",
     "output_type": "stream",
     "text": [
      "Epoch23: 100%|█████████████████████████████████████████████| 335/335 [00:10<00:00, 31.72batch/s, acc=0.98, loss=0.0356]\n"
     ]
    },
    {
     "name": "stdout",
     "output_type": "stream",
     "text": [
      "24\n"
     ]
    },
    {
     "name": "stderr",
     "output_type": "stream",
     "text": [
      "Epoch24: 100%|█████████████████████████████████████████████| 335/335 [00:06<00:00, 55.71batch/s, acc=0.98, loss=0.0357]\n"
     ]
    },
    {
     "name": "stdout",
     "output_type": "stream",
     "text": [
      "25\n"
     ]
    },
    {
     "name": "stderr",
     "output_type": "stream",
     "text": [
      "Epoch25: 100%|██████████████████████████████████████████████| 335/335 [00:06<00:00, 53.96batch/s, acc=0.98, loss=0.036]\n"
     ]
    },
    {
     "name": "stdout",
     "output_type": "stream",
     "text": [
      "26\n"
     ]
    },
    {
     "name": "stderr",
     "output_type": "stream",
     "text": [
      "Epoch26: 100%|█████████████████████████████████████████████| 335/335 [00:06<00:00, 53.74batch/s, acc=0.98, loss=0.0366]\n"
     ]
    },
    {
     "name": "stdout",
     "output_type": "stream",
     "text": [
      "27\n"
     ]
    },
    {
     "name": "stderr",
     "output_type": "stream",
     "text": [
      "Epoch27: 100%|█████████████████████████████████████████████| 335/335 [00:06<00:00, 53.65batch/s, acc=0.98, loss=0.0371]\n"
     ]
    },
    {
     "name": "stdout",
     "output_type": "stream",
     "text": [
      "28\n"
     ]
    },
    {
     "name": "stderr",
     "output_type": "stream",
     "text": [
      "Epoch28: 100%|█████████████████████████████████████████████| 335/335 [00:10<00:00, 32.97batch/s, acc=0.98, loss=0.0362]\n"
     ]
    },
    {
     "name": "stdout",
     "output_type": "stream",
     "text": [
      "29\n"
     ]
    },
    {
     "name": "stderr",
     "output_type": "stream",
     "text": [
      "Epoch29: 100%|█████████████████████████████████████████████| 335/335 [00:06<00:00, 54.44batch/s, acc=0.98, loss=0.0362]\n"
     ]
    },
    {
     "name": "stdout",
     "output_type": "stream",
     "text": [
      "30\n"
     ]
    },
    {
     "name": "stderr",
     "output_type": "stream",
     "text": [
      "Epoch30: 100%|█████████████████████████████████████████████| 335/335 [00:06<00:00, 52.08batch/s, acc=0.98, loss=0.0376]\n"
     ]
    },
    {
     "name": "stdout",
     "output_type": "stream",
     "text": [
      "31\n"
     ]
    },
    {
     "name": "stderr",
     "output_type": "stream",
     "text": [
      "Epoch31: 100%|█████████████████████████████████████████████| 335/335 [00:06<00:00, 54.00batch/s, acc=0.98, loss=0.0373]\n"
     ]
    },
    {
     "name": "stdout",
     "output_type": "stream",
     "text": [
      "32\n"
     ]
    },
    {
     "name": "stderr",
     "output_type": "stream",
     "text": [
      "Epoch32: 100%|█████████████████████████████████████████████| 335/335 [00:06<00:00, 53.32batch/s, acc=0.98, loss=0.0374]\n"
     ]
    },
    {
     "name": "stdout",
     "output_type": "stream",
     "text": [
      "33\n"
     ]
    },
    {
     "name": "stderr",
     "output_type": "stream",
     "text": [
      "Epoch33: 100%|██████████████████████████████████████████████| 335/335 [00:07<00:00, 45.93batch/s, acc=0.98, loss=0.037]\n"
     ]
    },
    {
     "name": "stdout",
     "output_type": "stream",
     "text": [
      "34\n"
     ]
    },
    {
     "name": "stderr",
     "output_type": "stream",
     "text": [
      "Epoch34: 100%|█████████████████████████████████████████████| 335/335 [00:08<00:00, 41.11batch/s, acc=0.98, loss=0.0356]\n"
     ]
    },
    {
     "name": "stdout",
     "output_type": "stream",
     "text": [
      "35\n"
     ]
    },
    {
     "name": "stderr",
     "output_type": "stream",
     "text": [
      "Epoch35: 100%|█████████████████████████████████████████████| 335/335 [00:06<00:00, 53.00batch/s, acc=0.98, loss=0.0365]\n"
     ]
    },
    {
     "name": "stdout",
     "output_type": "stream",
     "text": [
      "36\n"
     ]
    },
    {
     "name": "stderr",
     "output_type": "stream",
     "text": [
      "Epoch36: 100%|█████████████████████████████████████████████| 335/335 [00:06<00:00, 50.24batch/s, acc=0.98, loss=0.0357]\n"
     ]
    },
    {
     "name": "stdout",
     "output_type": "stream",
     "text": [
      "37\n"
     ]
    },
    {
     "name": "stderr",
     "output_type": "stream",
     "text": [
      "Epoch37: 100%|█████████████████████████████████████████████| 335/335 [00:11<00:00, 29.42batch/s, acc=0.98, loss=0.0349]\n"
     ]
    },
    {
     "name": "stdout",
     "output_type": "stream",
     "text": [
      "38\n"
     ]
    },
    {
     "name": "stderr",
     "output_type": "stream",
     "text": [
      "Epoch38: 100%|█████████████████████████████████████████████| 335/335 [00:12<00:00, 27.81batch/s, acc=0.98, loss=0.0357]\n"
     ]
    },
    {
     "name": "stdout",
     "output_type": "stream",
     "text": [
      "39\n"
     ]
    },
    {
     "name": "stderr",
     "output_type": "stream",
     "text": [
      "Epoch39: 100%|█████████████████████████████████████████████| 335/335 [00:09<00:00, 35.33batch/s, acc=0.98, loss=0.0362]\n"
     ]
    },
    {
     "name": "stdout",
     "output_type": "stream",
     "text": [
      "40\n"
     ]
    },
    {
     "name": "stderr",
     "output_type": "stream",
     "text": [
      "Epoch40: 100%|█████████████████████████████████████████████| 335/335 [00:09<00:00, 37.18batch/s, acc=0.98, loss=0.0355]\n"
     ]
    },
    {
     "name": "stdout",
     "output_type": "stream",
     "text": [
      "41\n"
     ]
    },
    {
     "name": "stderr",
     "output_type": "stream",
     "text": [
      "Epoch41: 100%|█████████████████████████████████████████████| 335/335 [00:12<00:00, 27.77batch/s, acc=0.98, loss=0.0347]\n"
     ]
    },
    {
     "name": "stdout",
     "output_type": "stream",
     "text": [
      "42\n"
     ]
    },
    {
     "name": "stderr",
     "output_type": "stream",
     "text": [
      "Epoch42: 100%|██████████████████████████████████████████████| 335/335 [00:10<00:00, 30.46batch/s, acc=0.98, loss=0.035]\n"
     ]
    },
    {
     "name": "stdout",
     "output_type": "stream",
     "text": [
      "43\n"
     ]
    },
    {
     "name": "stderr",
     "output_type": "stream",
     "text": [
      "Epoch43: 100%|█████████████████████████████████████████████| 335/335 [00:08<00:00, 38.15batch/s, acc=0.98, loss=0.0334]\n"
     ]
    },
    {
     "name": "stdout",
     "output_type": "stream",
     "text": [
      "44\n"
     ]
    },
    {
     "name": "stderr",
     "output_type": "stream",
     "text": [
      "Epoch44: 100%|█████████████████████████████████████████████| 335/335 [00:12<00:00, 27.83batch/s, acc=0.98, loss=0.0315]\n"
     ]
    },
    {
     "name": "stdout",
     "output_type": "stream",
     "text": [
      "45\n"
     ]
    },
    {
     "name": "stderr",
     "output_type": "stream",
     "text": [
      "Epoch45: 100%|█████████████████████████████████████████████| 335/335 [00:12<00:00, 27.01batch/s, acc=0.98, loss=0.0322]\n"
     ]
    },
    {
     "name": "stdout",
     "output_type": "stream",
     "text": [
      "46\n"
     ]
    },
    {
     "name": "stderr",
     "output_type": "stream",
     "text": [
      "Epoch46: 100%|█████████████████████████████████████████████| 335/335 [00:11<00:00, 30.07batch/s, acc=0.98, loss=0.0311]\n"
     ]
    },
    {
     "name": "stdout",
     "output_type": "stream",
     "text": [
      "47\n"
     ]
    },
    {
     "name": "stderr",
     "output_type": "stream",
     "text": [
      "Epoch47: 100%|█████████████████████████████████████████████| 335/335 [00:08<00:00, 40.46batch/s, acc=0.98, loss=0.0298]\n"
     ]
    },
    {
     "name": "stdout",
     "output_type": "stream",
     "text": [
      "48\n"
     ]
    },
    {
     "name": "stderr",
     "output_type": "stream",
     "text": [
      "Epoch48: 100%|█████████████████████████████████████████████| 335/335 [00:10<00:00, 32.82batch/s, acc=0.98, loss=0.0302]\n"
     ]
    },
    {
     "name": "stdout",
     "output_type": "stream",
     "text": [
      "49\n"
     ]
    },
    {
     "name": "stderr",
     "output_type": "stream",
     "text": [
      "Epoch49: 100%|███████████████████████████████████████████████| 335/335 [00:06<00:00, 48.08batch/s, acc=0.98, loss=0.03]\n"
     ]
    },
    {
     "name": "stdout",
     "output_type": "stream",
     "text": [
      "50\n"
     ]
    },
    {
     "name": "stderr",
     "output_type": "stream",
     "text": [
      "Epoch50: 100%|█████████████████████████████████████████████| 335/335 [00:06<00:00, 51.00batch/s, acc=0.98, loss=0.0276]\n"
     ]
    },
    {
     "name": "stdout",
     "output_type": "stream",
     "text": [
      "51\n"
     ]
    },
    {
     "name": "stderr",
     "output_type": "stream",
     "text": [
      "Epoch51: 100%|████████████████████████████████████████████████| 335/335 [00:06<00:00, 52.78batch/s, acc=1, loss=0.0274]\n"
     ]
    },
    {
     "name": "stdout",
     "output_type": "stream",
     "text": [
      "52\n"
     ]
    },
    {
     "name": "stderr",
     "output_type": "stream",
     "text": [
      "Epoch52: 100%|████████████████████████████████████████████████| 335/335 [00:10<00:00, 32.97batch/s, acc=1, loss=0.0264]\n"
     ]
    },
    {
     "name": "stdout",
     "output_type": "stream",
     "text": [
      "53\n"
     ]
    },
    {
     "name": "stderr",
     "output_type": "stream",
     "text": [
      "Epoch53: 100%|█████████████████████████████████████████████████| 335/335 [00:06<00:00, 54.23batch/s, acc=1, loss=0.027]\n"
     ]
    },
    {
     "name": "stdout",
     "output_type": "stream",
     "text": [
      "54\n"
     ]
    },
    {
     "name": "stderr",
     "output_type": "stream",
     "text": [
      "Epoch54: 100%|█████████████████████████████████████████████████| 335/335 [00:06<00:00, 53.91batch/s, acc=1, loss=0.027]\n"
     ]
    },
    {
     "name": "stdout",
     "output_type": "stream",
     "text": [
      "55\n"
     ]
    },
    {
     "name": "stderr",
     "output_type": "stream",
     "text": [
      "Epoch55: 100%|████████████████████████████████████████████████| 335/335 [00:10<00:00, 30.82batch/s, acc=1, loss=0.0244]\n"
     ]
    },
    {
     "name": "stdout",
     "output_type": "stream",
     "text": [
      "56\n"
     ]
    },
    {
     "name": "stderr",
     "output_type": "stream",
     "text": [
      "Epoch56: 100%|████████████████████████████████████████████████| 335/335 [00:06<00:00, 50.50batch/s, acc=1, loss=0.0237]\n"
     ]
    },
    {
     "name": "stdout",
     "output_type": "stream",
     "text": [
      "57\n"
     ]
    },
    {
     "name": "stderr",
     "output_type": "stream",
     "text": [
      "Epoch57: 100%|████████████████████████████████████████████████| 335/335 [00:07<00:00, 41.94batch/s, acc=1, loss=0.0235]\n"
     ]
    },
    {
     "name": "stdout",
     "output_type": "stream",
     "text": [
      "58\n"
     ]
    },
    {
     "name": "stderr",
     "output_type": "stream",
     "text": [
      "Epoch58: 100%|████████████████████████████████████████████████| 335/335 [00:11<00:00, 29.62batch/s, acc=1, loss=0.0238]\n"
     ]
    },
    {
     "name": "stdout",
     "output_type": "stream",
     "text": [
      "59\n"
     ]
    },
    {
     "name": "stderr",
     "output_type": "stream",
     "text": [
      "Epoch59: 100%|████████████████████████████████████████████████| 335/335 [00:08<00:00, 39.69batch/s, acc=1, loss=0.0226]\n"
     ]
    },
    {
     "name": "stdout",
     "output_type": "stream",
     "text": [
      "60\n"
     ]
    },
    {
     "name": "stderr",
     "output_type": "stream",
     "text": [
      "Epoch60: 100%|████████████████████████████████████████████████| 335/335 [00:06<00:00, 49.66batch/s, acc=1, loss=0.0227]\n"
     ]
    },
    {
     "name": "stdout",
     "output_type": "stream",
     "text": [
      "61\n"
     ]
    },
    {
     "name": "stderr",
     "output_type": "stream",
     "text": [
      "Epoch61: 100%|████████████████████████████████████████████████| 335/335 [00:06<00:00, 50.07batch/s, acc=1, loss=0.0216]\n"
     ]
    },
    {
     "name": "stdout",
     "output_type": "stream",
     "text": [
      "62\n"
     ]
    },
    {
     "name": "stderr",
     "output_type": "stream",
     "text": [
      "Epoch62: 100%|████████████████████████████████████████████████| 335/335 [00:06<00:00, 48.78batch/s, acc=1, loss=0.0229]\n"
     ]
    },
    {
     "name": "stdout",
     "output_type": "stream",
     "text": [
      "63\n"
     ]
    },
    {
     "name": "stderr",
     "output_type": "stream",
     "text": [
      "Epoch63: 100%|████████████████████████████████████████████████| 335/335 [00:06<00:00, 52.53batch/s, acc=1, loss=0.0205]\n"
     ]
    },
    {
     "name": "stdout",
     "output_type": "stream",
     "text": [
      "64\n"
     ]
    },
    {
     "name": "stderr",
     "output_type": "stream",
     "text": [
      "Epoch64: 100%|████████████████████████████████████████████████| 335/335 [00:10<00:00, 32.39batch/s, acc=1, loss=0.0199]\n"
     ]
    },
    {
     "name": "stdout",
     "output_type": "stream",
     "text": [
      "65\n"
     ]
    },
    {
     "name": "stderr",
     "output_type": "stream",
     "text": [
      "Epoch65: 100%|██████████████████████████████████████████████████| 335/335 [00:06<00:00, 53.20batch/s, acc=1, loss=0.02]\n"
     ]
    },
    {
     "name": "stdout",
     "output_type": "stream",
     "text": [
      "66\n"
     ]
    },
    {
     "name": "stderr",
     "output_type": "stream",
     "text": [
      "Epoch66: 100%|████████████████████████████████████████████████| 335/335 [00:06<00:00, 52.06batch/s, acc=1, loss=0.0183]\n"
     ]
    },
    {
     "name": "stdout",
     "output_type": "stream",
     "text": [
      "67\n"
     ]
    },
    {
     "name": "stderr",
     "output_type": "stream",
     "text": [
      "Epoch67: 100%|████████████████████████████████████████████████| 335/335 [00:06<00:00, 49.04batch/s, acc=1, loss=0.0192]\n"
     ]
    },
    {
     "name": "stdout",
     "output_type": "stream",
     "text": [
      "68\n"
     ]
    },
    {
     "name": "stderr",
     "output_type": "stream",
     "text": [
      "Epoch68: 100%|█████████████████████████████████████████████████| 335/335 [00:07<00:00, 45.04batch/s, acc=1, loss=0.017]\n"
     ]
    },
    {
     "name": "stdout",
     "output_type": "stream",
     "text": [
      "69\n"
     ]
    },
    {
     "name": "stderr",
     "output_type": "stream",
     "text": [
      "Epoch69: 100%|████████████████████████████████████████████████| 335/335 [00:06<00:00, 48.26batch/s, acc=1, loss=0.0174]\n"
     ]
    },
    {
     "name": "stdout",
     "output_type": "stream",
     "text": [
      "70\n"
     ]
    },
    {
     "name": "stderr",
     "output_type": "stream",
     "text": [
      "Epoch70: 100%|████████████████████████████████████████████████| 335/335 [00:10<00:00, 32.76batch/s, acc=1, loss=0.0207]\n"
     ]
    },
    {
     "name": "stdout",
     "output_type": "stream",
     "text": [
      "71\n"
     ]
    },
    {
     "name": "stderr",
     "output_type": "stream",
     "text": [
      "Epoch71: 100%|████████████████████████████████████████████████| 335/335 [00:06<00:00, 51.08batch/s, acc=1, loss=0.0179]\n"
     ]
    },
    {
     "name": "stdout",
     "output_type": "stream",
     "text": [
      "72\n"
     ]
    },
    {
     "name": "stderr",
     "output_type": "stream",
     "text": [
      "Epoch72: 100%|████████████████████████████████████████████████| 335/335 [00:06<00:00, 50.86batch/s, acc=1, loss=0.0152]\n"
     ]
    },
    {
     "name": "stdout",
     "output_type": "stream",
     "text": [
      "73\n"
     ]
    },
    {
     "name": "stderr",
     "output_type": "stream",
     "text": [
      "Epoch73: 100%|████████████████████████████████████████████████| 335/335 [00:06<00:00, 51.37batch/s, acc=1, loss=0.0166]\n"
     ]
    },
    {
     "name": "stdout",
     "output_type": "stream",
     "text": [
      "74\n"
     ]
    },
    {
     "name": "stderr",
     "output_type": "stream",
     "text": [
      "Epoch74: 100%|████████████████████████████████████████████████| 335/335 [00:10<00:00, 31.65batch/s, acc=1, loss=0.0161]\n"
     ]
    },
    {
     "name": "stdout",
     "output_type": "stream",
     "text": [
      "75\n"
     ]
    },
    {
     "name": "stderr",
     "output_type": "stream",
     "text": [
      "Epoch75: 100%|█████████████████████████████████████████████████| 335/335 [00:06<00:00, 53.00batch/s, acc=1, loss=0.017]\n"
     ]
    },
    {
     "name": "stdout",
     "output_type": "stream",
     "text": [
      "76\n"
     ]
    },
    {
     "name": "stderr",
     "output_type": "stream",
     "text": [
      "Epoch76: 100%|████████████████████████████████████████████████| 335/335 [00:06<00:00, 50.87batch/s, acc=1, loss=0.0148]\n"
     ]
    },
    {
     "name": "stdout",
     "output_type": "stream",
     "text": [
      "77\n"
     ]
    },
    {
     "name": "stderr",
     "output_type": "stream",
     "text": [
      "Epoch77: 100%|████████████████████████████████████████████████| 335/335 [00:06<00:00, 52.67batch/s, acc=1, loss=0.0142]\n"
     ]
    },
    {
     "name": "stdout",
     "output_type": "stream",
     "text": [
      "78\n"
     ]
    },
    {
     "name": "stderr",
     "output_type": "stream",
     "text": [
      "Epoch78: 100%|████████████████████████████████████████████████| 335/335 [00:10<00:00, 32.70batch/s, acc=1, loss=0.0147]\n"
     ]
    },
    {
     "name": "stdout",
     "output_type": "stream",
     "text": [
      "79\n"
     ]
    },
    {
     "name": "stderr",
     "output_type": "stream",
     "text": [
      "Epoch79: 100%|████████████████████████████████████████████████| 335/335 [00:06<00:00, 54.12batch/s, acc=1, loss=0.0137]\n"
     ]
    },
    {
     "name": "stdout",
     "output_type": "stream",
     "text": [
      "80\n"
     ]
    },
    {
     "name": "stderr",
     "output_type": "stream",
     "text": [
      "Epoch80: 100%|████████████████████████████████████████████████| 335/335 [00:06<00:00, 54.24batch/s, acc=1, loss=0.0142]\n"
     ]
    },
    {
     "name": "stdout",
     "output_type": "stream",
     "text": [
      "81\n"
     ]
    },
    {
     "name": "stderr",
     "output_type": "stream",
     "text": [
      "Epoch81: 100%|████████████████████████████████████████████████| 335/335 [00:06<00:00, 51.06batch/s, acc=1, loss=0.0131]\n"
     ]
    },
    {
     "name": "stdout",
     "output_type": "stream",
     "text": [
      "82\n"
     ]
    },
    {
     "name": "stderr",
     "output_type": "stream",
     "text": [
      "Epoch82: 100%|████████████████████████████████████████████████| 335/335 [00:06<00:00, 52.82batch/s, acc=1, loss=0.0131]\n"
     ]
    },
    {
     "name": "stdout",
     "output_type": "stream",
     "text": [
      "83\n"
     ]
    },
    {
     "name": "stderr",
     "output_type": "stream",
     "text": [
      "Epoch83: 100%|████████████████████████████████████████████████| 335/335 [00:06<00:00, 52.73batch/s, acc=1, loss=0.0121]\n"
     ]
    },
    {
     "name": "stdout",
     "output_type": "stream",
     "text": [
      "84\n"
     ]
    },
    {
     "name": "stderr",
     "output_type": "stream",
     "text": [
      "Epoch84: 100%|█████████████████████████████████████████████████| 335/335 [00:10<00:00, 32.80batch/s, acc=1, loss=0.014]\n"
     ]
    },
    {
     "name": "stdout",
     "output_type": "stream",
     "text": [
      "85\n"
     ]
    },
    {
     "name": "stderr",
     "output_type": "stream",
     "text": [
      "Epoch85: 100%|████████████████████████████████████████████████| 335/335 [00:06<00:00, 53.23batch/s, acc=1, loss=0.0132]\n"
     ]
    },
    {
     "name": "stdout",
     "output_type": "stream",
     "text": [
      "86\n"
     ]
    },
    {
     "name": "stderr",
     "output_type": "stream",
     "text": [
      "Epoch86: 100%|█████████████████████████████████████████████████| 335/335 [00:06<00:00, 54.05batch/s, acc=1, loss=0.014]\n"
     ]
    },
    {
     "name": "stdout",
     "output_type": "stream",
     "text": [
      "87\n"
     ]
    },
    {
     "name": "stderr",
     "output_type": "stream",
     "text": [
      "Epoch87: 100%|████████████████████████████████████████████████| 335/335 [00:06<00:00, 51.49batch/s, acc=1, loss=0.0127]\n"
     ]
    },
    {
     "name": "stdout",
     "output_type": "stream",
     "text": [
      "88\n"
     ]
    },
    {
     "name": "stderr",
     "output_type": "stream",
     "text": [
      "Epoch88: 100%|████████████████████████████████████████████████| 335/335 [00:10<00:00, 32.90batch/s, acc=1, loss=0.0142]\n"
     ]
    },
    {
     "name": "stdout",
     "output_type": "stream",
     "text": [
      "89\n"
     ]
    },
    {
     "name": "stderr",
     "output_type": "stream",
     "text": [
      "Epoch89: 100%|████████████████████████████████████████████████| 335/335 [00:06<00:00, 55.22batch/s, acc=1, loss=0.0116]\n"
     ]
    },
    {
     "name": "stdout",
     "output_type": "stream",
     "text": [
      "90\n"
     ]
    },
    {
     "name": "stderr",
     "output_type": "stream",
     "text": [
      "Epoch90: 100%|████████████████████████████████████████████████| 335/335 [00:06<00:00, 54.73batch/s, acc=1, loss=0.0127]\n"
     ]
    },
    {
     "name": "stdout",
     "output_type": "stream",
     "text": [
      "91\n"
     ]
    },
    {
     "name": "stderr",
     "output_type": "stream",
     "text": [
      "Epoch91: 100%|████████████████████████████████████████████████| 335/335 [00:06<00:00, 53.55batch/s, acc=1, loss=0.0201]\n"
     ]
    },
    {
     "name": "stdout",
     "output_type": "stream",
     "text": [
      "92\n"
     ]
    },
    {
     "name": "stderr",
     "output_type": "stream",
     "text": [
      "Epoch92: 100%|███████████████████████████████████████████████| 335/335 [00:06<00:00, 49.78batch/s, acc=1, loss=0.00984]\n"
     ]
    },
    {
     "name": "stdout",
     "output_type": "stream",
     "text": [
      "93\n"
     ]
    },
    {
     "name": "stderr",
     "output_type": "stream",
     "text": [
      "Epoch93: 100%|███████████████████████████████████████████████| 335/335 [00:06<00:00, 50.18batch/s, acc=1, loss=0.00958]\n"
     ]
    },
    {
     "name": "stdout",
     "output_type": "stream",
     "text": [
      "94\n"
     ]
    },
    {
     "name": "stderr",
     "output_type": "stream",
     "text": [
      "Epoch94: 100%|███████████████████████████████████████████████| 335/335 [00:09<00:00, 35.62batch/s, acc=1, loss=0.00893]\n"
     ]
    },
    {
     "name": "stdout",
     "output_type": "stream",
     "text": [
      "95\n"
     ]
    },
    {
     "name": "stderr",
     "output_type": "stream",
     "text": [
      "Epoch95: 100%|███████████████████████████████████████████████| 335/335 [00:06<00:00, 52.98batch/s, acc=1, loss=0.00869]\n"
     ]
    },
    {
     "name": "stdout",
     "output_type": "stream",
     "text": [
      "96\n"
     ]
    },
    {
     "name": "stderr",
     "output_type": "stream",
     "text": [
      "Epoch96: 100%|███████████████████████████████████████████████| 335/335 [00:06<00:00, 52.59batch/s, acc=1, loss=0.00993]\n"
     ]
    },
    {
     "name": "stdout",
     "output_type": "stream",
     "text": [
      "97\n"
     ]
    },
    {
     "name": "stderr",
     "output_type": "stream",
     "text": [
      "Epoch97: 100%|███████████████████████████████████████████████| 335/335 [00:06<00:00, 51.43batch/s, acc=1, loss=0.00855]\n"
     ]
    },
    {
     "name": "stdout",
     "output_type": "stream",
     "text": [
      "98\n"
     ]
    },
    {
     "name": "stderr",
     "output_type": "stream",
     "text": [
      "Epoch98: 100%|███████████████████████████████████████████████| 335/335 [00:10<00:00, 32.38batch/s, acc=1, loss=0.00729]\n"
     ]
    },
    {
     "name": "stdout",
     "output_type": "stream",
     "text": [
      "99\n"
     ]
    },
    {
     "name": "stderr",
     "output_type": "stream",
     "text": [
      "Epoch99: 100%|███████████████████████████████████████████████| 335/335 [00:06<00:00, 53.55batch/s, acc=1, loss=0.00915]\n"
     ]
    },
    {
     "name": "stdout",
     "output_type": "stream",
     "text": [
      "Accuracy: 0.94\n",
      "0\n"
     ]
    },
    {
     "name": "stderr",
     "output_type": "stream",
     "text": [
      "Epoch0: 100%|█████████████████████████████████████████████████| 335/335 [00:06<00:00, 53.08batch/s, acc=1, loss=0.0754]\n"
     ]
    },
    {
     "name": "stdout",
     "output_type": "stream",
     "text": [
      "1\n"
     ]
    },
    {
     "name": "stderr",
     "output_type": "stream",
     "text": [
      "Epoch1: 100%|█████████████████████████████████████████████████| 335/335 [00:06<00:00, 54.13batch/s, acc=1, loss=0.0606]\n"
     ]
    },
    {
     "name": "stdout",
     "output_type": "stream",
     "text": [
      "2\n"
     ]
    },
    {
     "name": "stderr",
     "output_type": "stream",
     "text": [
      "Epoch2: 100%|█████████████████████████████████████████████████| 335/335 [00:08<00:00, 41.29batch/s, acc=1, loss=0.0521]\n"
     ]
    },
    {
     "name": "stdout",
     "output_type": "stream",
     "text": [
      "3\n"
     ]
    },
    {
     "name": "stderr",
     "output_type": "stream",
     "text": [
      "Epoch3: 100%|█████████████████████████████████████████████████| 335/335 [00:06<00:00, 49.39batch/s, acc=1, loss=0.0455]\n"
     ]
    },
    {
     "name": "stdout",
     "output_type": "stream",
     "text": [
      "4\n"
     ]
    },
    {
     "name": "stderr",
     "output_type": "stream",
     "text": [
      "Epoch4: 100%|█████████████████████████████████████████████████| 335/335 [00:06<00:00, 55.10batch/s, acc=1, loss=0.0408]\n"
     ]
    },
    {
     "name": "stdout",
     "output_type": "stream",
     "text": [
      "5\n"
     ]
    },
    {
     "name": "stderr",
     "output_type": "stream",
     "text": [
      "Epoch5: 100%|█████████████████████████████████████████████████| 335/335 [00:06<00:00, 52.95batch/s, acc=1, loss=0.0382]\n"
     ]
    },
    {
     "name": "stdout",
     "output_type": "stream",
     "text": [
      "6\n"
     ]
    },
    {
     "name": "stderr",
     "output_type": "stream",
     "text": [
      "Epoch6: 100%|██████████████████████████████████████████████████| 335/335 [00:06<00:00, 52.55batch/s, acc=1, loss=0.036]\n"
     ]
    },
    {
     "name": "stdout",
     "output_type": "stream",
     "text": [
      "7\n"
     ]
    },
    {
     "name": "stderr",
     "output_type": "stream",
     "text": [
      "Epoch7: 100%|██████████████████████████████████████████████████| 335/335 [00:11<00:00, 29.70batch/s, acc=1, loss=0.035]\n"
     ]
    },
    {
     "name": "stdout",
     "output_type": "stream",
     "text": [
      "8\n"
     ]
    },
    {
     "name": "stderr",
     "output_type": "stream",
     "text": [
      "Epoch8: 100%|█████████████████████████████████████████████████| 335/335 [00:06<00:00, 53.36batch/s, acc=1, loss=0.0344]\n"
     ]
    },
    {
     "name": "stdout",
     "output_type": "stream",
     "text": [
      "9\n"
     ]
    },
    {
     "name": "stderr",
     "output_type": "stream",
     "text": [
      "Epoch9: 100%|█████████████████████████████████████████████████| 335/335 [00:06<00:00, 51.22batch/s, acc=1, loss=0.0337]\n"
     ]
    },
    {
     "name": "stdout",
     "output_type": "stream",
     "text": [
      "10\n"
     ]
    },
    {
     "name": "stderr",
     "output_type": "stream",
     "text": [
      "Epoch10: 100%|████████████████████████████████████████████████| 335/335 [00:06<00:00, 52.96batch/s, acc=1, loss=0.0337]\n"
     ]
    },
    {
     "name": "stdout",
     "output_type": "stream",
     "text": [
      "11\n"
     ]
    },
    {
     "name": "stderr",
     "output_type": "stream",
     "text": [
      "Epoch11: 100%|████████████████████████████████████████████████| 335/335 [00:10<00:00, 33.41batch/s, acc=1, loss=0.0335]\n"
     ]
    },
    {
     "name": "stdout",
     "output_type": "stream",
     "text": [
      "12\n"
     ]
    },
    {
     "name": "stderr",
     "output_type": "stream",
     "text": [
      "Epoch12: 100%|████████████████████████████████████████████████| 335/335 [00:06<00:00, 52.33batch/s, acc=1, loss=0.0325]\n"
     ]
    },
    {
     "name": "stdout",
     "output_type": "stream",
     "text": [
      "13\n"
     ]
    },
    {
     "name": "stderr",
     "output_type": "stream",
     "text": [
      "Epoch13: 100%|████████████████████████████████████████████████| 335/335 [00:06<00:00, 49.02batch/s, acc=1, loss=0.0315]\n"
     ]
    },
    {
     "name": "stdout",
     "output_type": "stream",
     "text": [
      "14\n"
     ]
    },
    {
     "name": "stderr",
     "output_type": "stream",
     "text": [
      "Epoch14: 100%|████████████████████████████████████████████████| 335/335 [00:12<00:00, 27.57batch/s, acc=1, loss=0.0317]\n"
     ]
    },
    {
     "name": "stdout",
     "output_type": "stream",
     "text": [
      "15\n"
     ]
    },
    {
     "name": "stderr",
     "output_type": "stream",
     "text": [
      "Epoch15: 100%|████████████████████████████████████████████████| 335/335 [00:06<00:00, 49.25batch/s, acc=1, loss=0.0312]\n"
     ]
    },
    {
     "name": "stdout",
     "output_type": "stream",
     "text": [
      "16\n"
     ]
    },
    {
     "name": "stderr",
     "output_type": "stream",
     "text": [
      "Epoch16: 100%|████████████████████████████████████████████████| 335/335 [00:06<00:00, 53.31batch/s, acc=1, loss=0.0301]\n"
     ]
    },
    {
     "name": "stdout",
     "output_type": "stream",
     "text": [
      "17\n"
     ]
    },
    {
     "name": "stderr",
     "output_type": "stream",
     "text": [
      "Epoch17: 100%|████████████████████████████████████████████████| 335/335 [00:06<00:00, 52.83batch/s, acc=1, loss=0.0293]\n"
     ]
    },
    {
     "name": "stdout",
     "output_type": "stream",
     "text": [
      "18\n"
     ]
    },
    {
     "name": "stderr",
     "output_type": "stream",
     "text": [
      "Epoch18: 100%|████████████████████████████████████████████████| 335/335 [00:10<00:00, 33.17batch/s, acc=1, loss=0.0283]\n"
     ]
    },
    {
     "name": "stdout",
     "output_type": "stream",
     "text": [
      "19\n"
     ]
    },
    {
     "name": "stderr",
     "output_type": "stream",
     "text": [
      "Epoch19: 100%|████████████████████████████████████████████████| 335/335 [00:06<00:00, 52.14batch/s, acc=1, loss=0.0271]\n"
     ]
    },
    {
     "name": "stdout",
     "output_type": "stream",
     "text": [
      "20\n"
     ]
    },
    {
     "name": "stderr",
     "output_type": "stream",
     "text": [
      "Epoch20: 100%|████████████████████████████████████████████████| 335/335 [00:06<00:00, 53.26batch/s, acc=1, loss=0.0259]\n"
     ]
    },
    {
     "name": "stdout",
     "output_type": "stream",
     "text": [
      "21\n"
     ]
    },
    {
     "name": "stderr",
     "output_type": "stream",
     "text": [
      "Epoch21: 100%|█████████████████████████████████████████████████| 335/335 [00:06<00:00, 52.90batch/s, acc=1, loss=0.025]\n"
     ]
    },
    {
     "name": "stdout",
     "output_type": "stream",
     "text": [
      "22\n"
     ]
    },
    {
     "name": "stderr",
     "output_type": "stream",
     "text": [
      "Epoch22: 100%|████████████████████████████████████████████████| 335/335 [00:10<00:00, 32.31batch/s, acc=1, loss=0.0243]\n"
     ]
    },
    {
     "name": "stdout",
     "output_type": "stream",
     "text": [
      "23\n"
     ]
    },
    {
     "name": "stderr",
     "output_type": "stream",
     "text": [
      "Epoch23: 100%|████████████████████████████████████████████████| 335/335 [00:06<00:00, 49.21batch/s, acc=1, loss=0.0234]\n"
     ]
    },
    {
     "name": "stdout",
     "output_type": "stream",
     "text": [
      "24\n"
     ]
    },
    {
     "name": "stderr",
     "output_type": "stream",
     "text": [
      "Epoch24: 100%|█████████████████████████████████████████████████| 335/335 [00:06<00:00, 52.68batch/s, acc=1, loss=0.023]\n"
     ]
    },
    {
     "name": "stdout",
     "output_type": "stream",
     "text": [
      "25\n"
     ]
    },
    {
     "name": "stderr",
     "output_type": "stream",
     "text": [
      "Epoch25: 100%|████████████████████████████████████████████████| 335/335 [00:06<00:00, 53.13batch/s, acc=1, loss=0.0232]\n"
     ]
    },
    {
     "name": "stdout",
     "output_type": "stream",
     "text": [
      "26\n"
     ]
    },
    {
     "name": "stderr",
     "output_type": "stream",
     "text": [
      "Epoch26: 100%|████████████████████████████████████████████████| 335/335 [00:10<00:00, 31.99batch/s, acc=1, loss=0.0224]\n"
     ]
    },
    {
     "name": "stdout",
     "output_type": "stream",
     "text": [
      "27\n"
     ]
    },
    {
     "name": "stderr",
     "output_type": "stream",
     "text": [
      "Epoch27: 100%|████████████████████████████████████████████████| 335/335 [00:06<00:00, 54.93batch/s, acc=1, loss=0.0219]\n"
     ]
    },
    {
     "name": "stdout",
     "output_type": "stream",
     "text": [
      "28\n"
     ]
    },
    {
     "name": "stderr",
     "output_type": "stream",
     "text": [
      "Epoch28: 100%|████████████████████████████████████████████████| 335/335 [00:06<00:00, 54.30batch/s, acc=1, loss=0.0219]\n"
     ]
    },
    {
     "name": "stdout",
     "output_type": "stream",
     "text": [
      "29\n"
     ]
    },
    {
     "name": "stderr",
     "output_type": "stream",
     "text": [
      "Epoch29: 100%|████████████████████████████████████████████████| 335/335 [00:06<00:00, 53.60batch/s, acc=1, loss=0.0216]\n"
     ]
    },
    {
     "name": "stdout",
     "output_type": "stream",
     "text": [
      "30\n"
     ]
    },
    {
     "name": "stderr",
     "output_type": "stream",
     "text": [
      "Epoch30: 100%|████████████████████████████████████████████████| 335/335 [00:06<00:00, 52.48batch/s, acc=1, loss=0.0209]\n"
     ]
    },
    {
     "name": "stdout",
     "output_type": "stream",
     "text": [
      "31\n"
     ]
    },
    {
     "name": "stderr",
     "output_type": "stream",
     "text": [
      "Epoch31: 100%|████████████████████████████████████████████████| 335/335 [00:09<00:00, 33.67batch/s, acc=1, loss=0.0203]\n"
     ]
    },
    {
     "name": "stdout",
     "output_type": "stream",
     "text": [
      "32\n"
     ]
    },
    {
     "name": "stderr",
     "output_type": "stream",
     "text": [
      "Epoch32: 100%|████████████████████████████████████████████████| 335/335 [00:06<00:00, 51.53batch/s, acc=1, loss=0.0202]\n"
     ]
    },
    {
     "name": "stdout",
     "output_type": "stream",
     "text": [
      "33\n"
     ]
    },
    {
     "name": "stderr",
     "output_type": "stream",
     "text": [
      "Epoch33: 100%|████████████████████████████████████████████████| 335/335 [00:07<00:00, 43.99batch/s, acc=1, loss=0.0201]\n"
     ]
    },
    {
     "name": "stdout",
     "output_type": "stream",
     "text": [
      "34\n"
     ]
    },
    {
     "name": "stderr",
     "output_type": "stream",
     "text": [
      "Epoch34: 100%|████████████████████████████████████████████████| 335/335 [00:10<00:00, 31.87batch/s, acc=1, loss=0.0198]\n"
     ]
    },
    {
     "name": "stdout",
     "output_type": "stream",
     "text": [
      "35\n"
     ]
    },
    {
     "name": "stderr",
     "output_type": "stream",
     "text": [
      "Epoch35: 100%|████████████████████████████████████████████████| 335/335 [00:07<00:00, 47.05batch/s, acc=1, loss=0.0195]\n"
     ]
    },
    {
     "name": "stdout",
     "output_type": "stream",
     "text": [
      "36\n"
     ]
    },
    {
     "name": "stderr",
     "output_type": "stream",
     "text": [
      "Epoch36: 100%|████████████████████████████████████████████████| 335/335 [00:06<00:00, 48.75batch/s, acc=1, loss=0.0197]\n"
     ]
    },
    {
     "name": "stdout",
     "output_type": "stream",
     "text": [
      "37\n"
     ]
    },
    {
     "name": "stderr",
     "output_type": "stream",
     "text": [
      "Epoch37: 100%|████████████████████████████████████████████████| 335/335 [00:10<00:00, 31.72batch/s, acc=1, loss=0.0191]\n"
     ]
    },
    {
     "name": "stdout",
     "output_type": "stream",
     "text": [
      "38\n"
     ]
    },
    {
     "name": "stderr",
     "output_type": "stream",
     "text": [
      "Epoch38: 100%|████████████████████████████████████████████████| 335/335 [00:06<00:00, 50.32batch/s, acc=1, loss=0.0195]\n"
     ]
    },
    {
     "name": "stdout",
     "output_type": "stream",
     "text": [
      "39\n"
     ]
    },
    {
     "name": "stderr",
     "output_type": "stream",
     "text": [
      "Epoch39: 100%|████████████████████████████████████████████████| 335/335 [00:06<00:00, 47.95batch/s, acc=1, loss=0.0193]\n"
     ]
    },
    {
     "name": "stdout",
     "output_type": "stream",
     "text": [
      "40\n"
     ]
    },
    {
     "name": "stderr",
     "output_type": "stream",
     "text": [
      "Epoch40: 100%|████████████████████████████████████████████████| 335/335 [00:10<00:00, 30.94batch/s, acc=1, loss=0.0189]\n"
     ]
    },
    {
     "name": "stdout",
     "output_type": "stream",
     "text": [
      "41\n"
     ]
    },
    {
     "name": "stderr",
     "output_type": "stream",
     "text": [
      "Epoch41: 100%|████████████████████████████████████████████████| 335/335 [00:07<00:00, 47.32batch/s, acc=1, loss=0.0183]\n"
     ]
    },
    {
     "name": "stdout",
     "output_type": "stream",
     "text": [
      "42\n"
     ]
    },
    {
     "name": "stderr",
     "output_type": "stream",
     "text": [
      "Epoch42: 100%|████████████████████████████████████████████████| 335/335 [00:06<00:00, 49.48batch/s, acc=1, loss=0.0184]\n"
     ]
    },
    {
     "name": "stdout",
     "output_type": "stream",
     "text": [
      "43\n"
     ]
    },
    {
     "name": "stderr",
     "output_type": "stream",
     "text": [
      "Epoch43: 100%|████████████████████████████████████████████████| 335/335 [00:06<00:00, 48.20batch/s, acc=1, loss=0.0182]\n"
     ]
    },
    {
     "name": "stdout",
     "output_type": "stream",
     "text": [
      "44\n"
     ]
    },
    {
     "name": "stderr",
     "output_type": "stream",
     "text": [
      "Epoch44: 100%|████████████████████████████████████████████████| 335/335 [00:10<00:00, 31.41batch/s, acc=1, loss=0.0176]\n"
     ]
    },
    {
     "name": "stdout",
     "output_type": "stream",
     "text": [
      "45\n"
     ]
    },
    {
     "name": "stderr",
     "output_type": "stream",
     "text": [
      "Epoch45: 100%|████████████████████████████████████████████████| 335/335 [00:06<00:00, 49.81batch/s, acc=1, loss=0.0166]\n"
     ]
    },
    {
     "name": "stdout",
     "output_type": "stream",
     "text": [
      "46\n"
     ]
    },
    {
     "name": "stderr",
     "output_type": "stream",
     "text": [
      "Epoch46: 100%|████████████████████████████████████████████████| 335/335 [00:07<00:00, 47.18batch/s, acc=1, loss=0.0165]\n"
     ]
    },
    {
     "name": "stdout",
     "output_type": "stream",
     "text": [
      "47\n"
     ]
    },
    {
     "name": "stderr",
     "output_type": "stream",
     "text": [
      "Epoch47: 100%|████████████████████████████████████████████████| 335/335 [00:10<00:00, 31.05batch/s, acc=1, loss=0.0165]\n"
     ]
    },
    {
     "name": "stdout",
     "output_type": "stream",
     "text": [
      "48\n"
     ]
    },
    {
     "name": "stderr",
     "output_type": "stream",
     "text": [
      "Epoch48: 100%|█████████████████████████████████████████████████| 335/335 [00:06<00:00, 50.26batch/s, acc=1, loss=0.016]\n"
     ]
    },
    {
     "name": "stdout",
     "output_type": "stream",
     "text": [
      "49\n"
     ]
    },
    {
     "name": "stderr",
     "output_type": "stream",
     "text": [
      "Epoch49: 100%|████████████████████████████████████████████████| 335/335 [00:07<00:00, 45.39batch/s, acc=1, loss=0.0162]\n"
     ]
    },
    {
     "name": "stdout",
     "output_type": "stream",
     "text": [
      "50\n"
     ]
    },
    {
     "name": "stderr",
     "output_type": "stream",
     "text": [
      "Epoch50: 100%|████████████████████████████████████████████████| 335/335 [00:12<00:00, 27.09batch/s, acc=1, loss=0.0161]\n"
     ]
    },
    {
     "name": "stdout",
     "output_type": "stream",
     "text": [
      "51\n"
     ]
    },
    {
     "name": "stderr",
     "output_type": "stream",
     "text": [
      "Epoch51: 100%|████████████████████████████████████████████████| 335/335 [00:06<00:00, 52.43batch/s, acc=1, loss=0.0153]\n"
     ]
    },
    {
     "name": "stdout",
     "output_type": "stream",
     "text": [
      "52\n"
     ]
    },
    {
     "name": "stderr",
     "output_type": "stream",
     "text": [
      "Epoch52: 100%|████████████████████████████████████████████████| 335/335 [00:06<00:00, 49.50batch/s, acc=1, loss=0.0155]\n"
     ]
    },
    {
     "name": "stdout",
     "output_type": "stream",
     "text": [
      "53\n"
     ]
    },
    {
     "name": "stderr",
     "output_type": "stream",
     "text": [
      "Epoch53: 100%|████████████████████████████████████████████████| 335/335 [00:07<00:00, 44.02batch/s, acc=1, loss=0.0157]\n"
     ]
    },
    {
     "name": "stdout",
     "output_type": "stream",
     "text": [
      "54\n"
     ]
    },
    {
     "name": "stderr",
     "output_type": "stream",
     "text": [
      "Epoch54: 100%|████████████████████████████████████████████████| 335/335 [00:11<00:00, 30.27batch/s, acc=1, loss=0.0161]\n"
     ]
    },
    {
     "name": "stdout",
     "output_type": "stream",
     "text": [
      "55\n"
     ]
    },
    {
     "name": "stderr",
     "output_type": "stream",
     "text": [
      "Epoch55: 100%|████████████████████████████████████████████████| 335/335 [00:08<00:00, 41.63batch/s, acc=1, loss=0.0156]\n"
     ]
    },
    {
     "name": "stdout",
     "output_type": "stream",
     "text": [
      "56\n"
     ]
    },
    {
     "name": "stderr",
     "output_type": "stream",
     "text": [
      "Epoch56: 100%|████████████████████████████████████████████████| 335/335 [00:07<00:00, 46.70batch/s, acc=1, loss=0.0153]\n"
     ]
    },
    {
     "name": "stdout",
     "output_type": "stream",
     "text": [
      "57\n"
     ]
    },
    {
     "name": "stderr",
     "output_type": "stream",
     "text": [
      "Epoch57: 100%|████████████████████████████████████████████████| 335/335 [00:10<00:00, 30.84batch/s, acc=1, loss=0.0154]\n"
     ]
    },
    {
     "name": "stdout",
     "output_type": "stream",
     "text": [
      "58\n"
     ]
    },
    {
     "name": "stderr",
     "output_type": "stream",
     "text": [
      "Epoch58: 100%|████████████████████████████████████████████████| 335/335 [00:06<00:00, 51.16batch/s, acc=1, loss=0.0151]\n"
     ]
    },
    {
     "name": "stdout",
     "output_type": "stream",
     "text": [
      "59\n"
     ]
    },
    {
     "name": "stderr",
     "output_type": "stream",
     "text": [
      "Epoch59: 100%|████████████████████████████████████████████████| 335/335 [00:06<00:00, 51.49batch/s, acc=1, loss=0.0153]\n"
     ]
    },
    {
     "name": "stdout",
     "output_type": "stream",
     "text": [
      "60\n"
     ]
    },
    {
     "name": "stderr",
     "output_type": "stream",
     "text": [
      "Epoch60: 100%|████████████████████████████████████████████████| 335/335 [00:06<00:00, 51.06batch/s, acc=1, loss=0.0155]\n"
     ]
    },
    {
     "name": "stdout",
     "output_type": "stream",
     "text": [
      "61\n"
     ]
    },
    {
     "name": "stderr",
     "output_type": "stream",
     "text": [
      "Epoch61: 100%|████████████████████████████████████████████████| 335/335 [00:11<00:00, 30.45batch/s, acc=1, loss=0.0152]\n"
     ]
    },
    {
     "name": "stdout",
     "output_type": "stream",
     "text": [
      "62\n"
     ]
    },
    {
     "name": "stderr",
     "output_type": "stream",
     "text": [
      "Epoch62: 100%|████████████████████████████████████████████████| 335/335 [00:06<00:00, 49.23batch/s, acc=1, loss=0.0154]\n"
     ]
    },
    {
     "name": "stdout",
     "output_type": "stream",
     "text": [
      "63\n"
     ]
    },
    {
     "name": "stderr",
     "output_type": "stream",
     "text": [
      "Epoch63: 100%|████████████████████████████████████████████████| 335/335 [00:06<00:00, 48.52batch/s, acc=1, loss=0.0147]\n"
     ]
    },
    {
     "name": "stdout",
     "output_type": "stream",
     "text": [
      "64\n"
     ]
    },
    {
     "name": "stderr",
     "output_type": "stream",
     "text": [
      "Epoch64: 100%|████████████████████████████████████████████████| 335/335 [00:11<00:00, 29.65batch/s, acc=1, loss=0.0145]\n"
     ]
    },
    {
     "name": "stdout",
     "output_type": "stream",
     "text": [
      "65\n"
     ]
    },
    {
     "name": "stderr",
     "output_type": "stream",
     "text": [
      "Epoch65: 100%|████████████████████████████████████████████████| 335/335 [00:07<00:00, 45.89batch/s, acc=1, loss=0.0156]\n"
     ]
    },
    {
     "name": "stdout",
     "output_type": "stream",
     "text": [
      "66\n"
     ]
    },
    {
     "name": "stderr",
     "output_type": "stream",
     "text": [
      "Epoch66: 100%|████████████████████████████████████████████████| 335/335 [00:06<00:00, 48.97batch/s, acc=1, loss=0.0149]\n"
     ]
    },
    {
     "name": "stdout",
     "output_type": "stream",
     "text": [
      "67\n"
     ]
    },
    {
     "name": "stderr",
     "output_type": "stream",
     "text": [
      "Epoch67: 100%|████████████████████████████████████████████████| 335/335 [00:11<00:00, 29.54batch/s, acc=1, loss=0.0144]\n"
     ]
    },
    {
     "name": "stdout",
     "output_type": "stream",
     "text": [
      "68\n"
     ]
    },
    {
     "name": "stderr",
     "output_type": "stream",
     "text": [
      "Epoch68: 100%|█████████████████████████████████████████████████| 335/335 [00:07<00:00, 44.83batch/s, acc=1, loss=0.015]\n"
     ]
    },
    {
     "name": "stdout",
     "output_type": "stream",
     "text": [
      "69\n"
     ]
    },
    {
     "name": "stderr",
     "output_type": "stream",
     "text": [
      "Epoch69: 100%|████████████████████████████████████████████████| 335/335 [00:06<00:00, 52.55batch/s, acc=1, loss=0.0142]\n"
     ]
    },
    {
     "name": "stdout",
     "output_type": "stream",
     "text": [
      "70\n"
     ]
    },
    {
     "name": "stderr",
     "output_type": "stream",
     "text": [
      "Epoch70: 100%|████████████████████████████████████████████████| 335/335 [00:10<00:00, 33.33batch/s, acc=1, loss=0.0145]\n"
     ]
    },
    {
     "name": "stdout",
     "output_type": "stream",
     "text": [
      "71\n"
     ]
    },
    {
     "name": "stderr",
     "output_type": "stream",
     "text": [
      "Epoch71: 100%|████████████████████████████████████████████████| 335/335 [00:07<00:00, 44.17batch/s, acc=1, loss=0.0144]\n"
     ]
    },
    {
     "name": "stdout",
     "output_type": "stream",
     "text": [
      "72\n"
     ]
    },
    {
     "name": "stderr",
     "output_type": "stream",
     "text": [
      "Epoch72: 100%|█████████████████████████████████████████████████| 335/335 [00:07<00:00, 47.63batch/s, acc=1, loss=0.014]\n"
     ]
    },
    {
     "name": "stdout",
     "output_type": "stream",
     "text": [
      "73\n"
     ]
    },
    {
     "name": "stderr",
     "output_type": "stream",
     "text": [
      "Epoch73: 100%|████████████████████████████████████████████████| 335/335 [00:11<00:00, 28.25batch/s, acc=1, loss=0.0151]\n"
     ]
    },
    {
     "name": "stdout",
     "output_type": "stream",
     "text": [
      "74\n"
     ]
    },
    {
     "name": "stderr",
     "output_type": "stream",
     "text": [
      "Epoch74: 100%|████████████████████████████████████████████████| 335/335 [00:06<00:00, 48.04batch/s, acc=1, loss=0.0142]\n"
     ]
    },
    {
     "name": "stdout",
     "output_type": "stream",
     "text": [
      "75\n"
     ]
    },
    {
     "name": "stderr",
     "output_type": "stream",
     "text": [
      "Epoch75: 100%|████████████████████████████████████████████████| 335/335 [00:06<00:00, 49.60batch/s, acc=1, loss=0.0135]\n"
     ]
    },
    {
     "name": "stdout",
     "output_type": "stream",
     "text": [
      "76\n"
     ]
    },
    {
     "name": "stderr",
     "output_type": "stream",
     "text": [
      "Epoch76: 100%|████████████████████████████████████████████████| 335/335 [00:10<00:00, 31.22batch/s, acc=1, loss=0.0132]\n"
     ]
    },
    {
     "name": "stdout",
     "output_type": "stream",
     "text": [
      "77\n"
     ]
    },
    {
     "name": "stderr",
     "output_type": "stream",
     "text": [
      "Epoch77: 100%|████████████████████████████████████████████████| 335/335 [00:07<00:00, 47.33batch/s, acc=1, loss=0.0129]\n"
     ]
    },
    {
     "name": "stdout",
     "output_type": "stream",
     "text": [
      "78\n"
     ]
    },
    {
     "name": "stderr",
     "output_type": "stream",
     "text": [
      "Epoch78: 100%|████████████████████████████████████████████████| 335/335 [00:06<00:00, 48.37batch/s, acc=1, loss=0.0141]\n"
     ]
    },
    {
     "name": "stdout",
     "output_type": "stream",
     "text": [
      "79\n"
     ]
    },
    {
     "name": "stderr",
     "output_type": "stream",
     "text": [
      "Epoch79: 100%|████████████████████████████████████████████████| 335/335 [00:10<00:00, 31.04batch/s, acc=1, loss=0.0124]\n"
     ]
    },
    {
     "name": "stdout",
     "output_type": "stream",
     "text": [
      "80\n"
     ]
    },
    {
     "name": "stderr",
     "output_type": "stream",
     "text": [
      "Epoch80: 100%|█████████████████████████████████████████████| 335/335 [00:06<00:00, 48.26batch/s, acc=0.98, loss=0.0435]\n"
     ]
    },
    {
     "name": "stdout",
     "output_type": "stream",
     "text": [
      "81\n"
     ]
    },
    {
     "name": "stderr",
     "output_type": "stream",
     "text": [
      "Epoch81: 100%|████████████████████████████████████████████████| 335/335 [00:11<00:00, 29.47batch/s, acc=1, loss=0.0133]\n"
     ]
    },
    {
     "name": "stdout",
     "output_type": "stream",
     "text": [
      "82\n"
     ]
    },
    {
     "name": "stderr",
     "output_type": "stream",
     "text": [
      "Epoch82: 100%|████████████████████████████████████████████████| 335/335 [00:08<00:00, 38.85batch/s, acc=1, loss=0.0131]\n"
     ]
    },
    {
     "name": "stdout",
     "output_type": "stream",
     "text": [
      "83\n"
     ]
    },
    {
     "name": "stderr",
     "output_type": "stream",
     "text": [
      "Epoch83: 100%|████████████████████████████████████████████████| 335/335 [00:11<00:00, 28.05batch/s, acc=1, loss=0.0171]\n"
     ]
    },
    {
     "name": "stdout",
     "output_type": "stream",
     "text": [
      "84\n"
     ]
    },
    {
     "name": "stderr",
     "output_type": "stream",
     "text": [
      "Epoch84: 100%|█████████████████████████████████████████████████| 335/335 [00:06<00:00, 48.59batch/s, acc=1, loss=0.012]\n"
     ]
    },
    {
     "name": "stdout",
     "output_type": "stream",
     "text": [
      "85\n"
     ]
    },
    {
     "name": "stderr",
     "output_type": "stream",
     "text": [
      "Epoch85: 100%|█████████████████████████████████████████████████| 335/335 [00:06<00:00, 49.99batch/s, acc=1, loss=0.011]\n"
     ]
    },
    {
     "name": "stdout",
     "output_type": "stream",
     "text": [
      "86\n"
     ]
    },
    {
     "name": "stderr",
     "output_type": "stream",
     "text": [
      "Epoch86: 100%|████████████████████████████████████████████████| 335/335 [00:10<00:00, 31.41batch/s, acc=1, loss=0.0117]\n"
     ]
    },
    {
     "name": "stdout",
     "output_type": "stream",
     "text": [
      "87\n"
     ]
    },
    {
     "name": "stderr",
     "output_type": "stream",
     "text": [
      "Epoch87: 100%|████████████████████████████████████████████████| 335/335 [00:06<00:00, 51.56batch/s, acc=1, loss=0.0113]\n"
     ]
    },
    {
     "name": "stdout",
     "output_type": "stream",
     "text": [
      "88\n"
     ]
    },
    {
     "name": "stderr",
     "output_type": "stream",
     "text": [
      "Epoch88: 100%|████████████████████████████████████████████████| 335/335 [00:06<00:00, 50.93batch/s, acc=1, loss=0.0118]\n"
     ]
    },
    {
     "name": "stdout",
     "output_type": "stream",
     "text": [
      "89\n"
     ]
    },
    {
     "name": "stderr",
     "output_type": "stream",
     "text": [
      "Epoch89: 100%|████████████████████████████████████████████████| 335/335 [00:10<00:00, 31.80batch/s, acc=1, loss=0.0111]\n"
     ]
    },
    {
     "name": "stdout",
     "output_type": "stream",
     "text": [
      "90\n"
     ]
    },
    {
     "name": "stderr",
     "output_type": "stream",
     "text": [
      "Epoch90: 100%|████████████████████████████████████████████████| 335/335 [00:06<00:00, 50.98batch/s, acc=1, loss=0.0112]\n"
     ]
    },
    {
     "name": "stdout",
     "output_type": "stream",
     "text": [
      "91\n"
     ]
    },
    {
     "name": "stderr",
     "output_type": "stream",
     "text": [
      "Epoch91: 100%|████████████████████████████████████████████████| 335/335 [00:06<00:00, 50.09batch/s, acc=1, loss=0.0112]\n"
     ]
    },
    {
     "name": "stdout",
     "output_type": "stream",
     "text": [
      "92\n"
     ]
    },
    {
     "name": "stderr",
     "output_type": "stream",
     "text": [
      "Epoch92: 100%|████████████████████████████████████████████████| 335/335 [00:06<00:00, 51.98batch/s, acc=1, loss=0.0105]\n"
     ]
    },
    {
     "name": "stdout",
     "output_type": "stream",
     "text": [
      "93\n"
     ]
    },
    {
     "name": "stderr",
     "output_type": "stream",
     "text": [
      "Epoch93: 100%|████████████████████████████████████████████████| 335/335 [00:13<00:00, 24.90batch/s, acc=1, loss=0.0106]\n"
     ]
    },
    {
     "name": "stdout",
     "output_type": "stream",
     "text": [
      "94\n"
     ]
    },
    {
     "name": "stderr",
     "output_type": "stream",
     "text": [
      "Epoch94: 100%|████████████████████████████████████████████████| 335/335 [00:13<00:00, 25.37batch/s, acc=1, loss=0.0104]\n"
     ]
    },
    {
     "name": "stdout",
     "output_type": "stream",
     "text": [
      "95\n"
     ]
    },
    {
     "name": "stderr",
     "output_type": "stream",
     "text": [
      "Epoch95: 100%|███████████████████████████████████████████████| 335/335 [00:06<00:00, 50.62batch/s, acc=1, loss=0.00815]\n"
     ]
    },
    {
     "name": "stdout",
     "output_type": "stream",
     "text": [
      "96\n"
     ]
    },
    {
     "name": "stderr",
     "output_type": "stream",
     "text": [
      "Epoch96: 100%|████████████████████████████████████████████████| 335/335 [00:06<00:00, 50.32batch/s, acc=1, loss=0.0113]\n"
     ]
    },
    {
     "name": "stdout",
     "output_type": "stream",
     "text": [
      "97\n"
     ]
    },
    {
     "name": "stderr",
     "output_type": "stream",
     "text": [
      "Epoch97: 100%|████████████████████████████████████████████████| 335/335 [00:10<00:00, 32.45batch/s, acc=1, loss=0.0126]\n"
     ]
    },
    {
     "name": "stdout",
     "output_type": "stream",
     "text": [
      "98\n"
     ]
    },
    {
     "name": "stderr",
     "output_type": "stream",
     "text": [
      "Epoch98: 100%|███████████████████████████████████████████████| 335/335 [00:06<00:00, 48.59batch/s, acc=1, loss=0.00958]\n"
     ]
    },
    {
     "name": "stdout",
     "output_type": "stream",
     "text": [
      "99\n"
     ]
    },
    {
     "name": "stderr",
     "output_type": "stream",
     "text": [
      "Epoch99: 100%|███████████████████████████████████████████████| 335/335 [00:06<00:00, 48.37batch/s, acc=1, loss=0.00934]\n"
     ]
    },
    {
     "name": "stdout",
     "output_type": "stream",
     "text": [
      "Accuracy: 0.93\n",
      "0\n"
     ]
    },
    {
     "name": "stderr",
     "output_type": "stream",
     "text": [
      "Epoch0: 100%|█████████████████████████████████████████████████| 335/335 [00:10<00:00, 31.87batch/s, acc=1, loss=0.0786]\n"
     ]
    },
    {
     "name": "stdout",
     "output_type": "stream",
     "text": [
      "1\n"
     ]
    },
    {
     "name": "stderr",
     "output_type": "stream",
     "text": [
      "Epoch1: 100%|█████████████████████████████████████████████████| 335/335 [00:06<00:00, 51.95batch/s, acc=1, loss=0.0607]\n"
     ]
    },
    {
     "name": "stdout",
     "output_type": "stream",
     "text": [
      "2\n"
     ]
    },
    {
     "name": "stderr",
     "output_type": "stream",
     "text": [
      "Epoch2: 100%|█████████████████████████████████████████████████| 335/335 [00:10<00:00, 32.56batch/s, acc=1, loss=0.0537]\n"
     ]
    },
    {
     "name": "stdout",
     "output_type": "stream",
     "text": [
      "3\n"
     ]
    },
    {
     "name": "stderr",
     "output_type": "stream",
     "text": [
      "Epoch3: 100%|███████████████████████████████████████████████████| 335/335 [00:06<00:00, 50.45batch/s, acc=1, loss=0.05]\n"
     ]
    },
    {
     "name": "stdout",
     "output_type": "stream",
     "text": [
      "4\n"
     ]
    },
    {
     "name": "stderr",
     "output_type": "stream",
     "text": [
      "Epoch4: 100%|█████████████████████████████████████████████████| 335/335 [00:06<00:00, 48.32batch/s, acc=1, loss=0.0457]\n"
     ]
    },
    {
     "name": "stdout",
     "output_type": "stream",
     "text": [
      "5\n"
     ]
    },
    {
     "name": "stderr",
     "output_type": "stream",
     "text": [
      "Epoch5: 100%|█████████████████████████████████████████████████| 335/335 [00:09<00:00, 36.50batch/s, acc=1, loss=0.0422]\n"
     ]
    },
    {
     "name": "stdout",
     "output_type": "stream",
     "text": [
      "6\n"
     ]
    },
    {
     "name": "stderr",
     "output_type": "stream",
     "text": [
      "Epoch6: 100%|█████████████████████████████████████████████████| 335/335 [00:13<00:00, 25.31batch/s, acc=1, loss=0.0391]\n"
     ]
    },
    {
     "name": "stdout",
     "output_type": "stream",
     "text": [
      "7\n"
     ]
    },
    {
     "name": "stderr",
     "output_type": "stream",
     "text": [
      "Epoch7: 100%|█████████████████████████████████████████████████| 335/335 [00:07<00:00, 46.72batch/s, acc=1, loss=0.0374]\n"
     ]
    },
    {
     "name": "stdout",
     "output_type": "stream",
     "text": [
      "8\n"
     ]
    },
    {
     "name": "stderr",
     "output_type": "stream",
     "text": [
      "Epoch8: 100%|█████████████████████████████████████████████████| 335/335 [00:07<00:00, 46.57batch/s, acc=1, loss=0.0361]\n"
     ]
    },
    {
     "name": "stdout",
     "output_type": "stream",
     "text": [
      "9\n"
     ]
    },
    {
     "name": "stderr",
     "output_type": "stream",
     "text": [
      "Epoch9: 100%|█████████████████████████████████████████████████| 335/335 [00:07<00:00, 45.13batch/s, acc=1, loss=0.0354]\n"
     ]
    },
    {
     "name": "stdout",
     "output_type": "stream",
     "text": [
      "10\n"
     ]
    },
    {
     "name": "stderr",
     "output_type": "stream",
     "text": [
      "Epoch10: 100%|████████████████████████████████████████████████| 335/335 [00:13<00:00, 24.43batch/s, acc=1, loss=0.0342]\n"
     ]
    },
    {
     "name": "stdout",
     "output_type": "stream",
     "text": [
      "11\n"
     ]
    },
    {
     "name": "stderr",
     "output_type": "stream",
     "text": [
      "Epoch11: 100%|████████████████████████████████████████████████| 335/335 [00:09<00:00, 34.35batch/s, acc=1, loss=0.0343]\n"
     ]
    },
    {
     "name": "stdout",
     "output_type": "stream",
     "text": [
      "12\n"
     ]
    },
    {
     "name": "stderr",
     "output_type": "stream",
     "text": [
      "Epoch12: 100%|████████████████████████████████████████████████| 335/335 [00:08<00:00, 38.03batch/s, acc=1, loss=0.0344]\n"
     ]
    },
    {
     "name": "stdout",
     "output_type": "stream",
     "text": [
      "13\n"
     ]
    },
    {
     "name": "stderr",
     "output_type": "stream",
     "text": [
      "Epoch13: 100%|████████████████████████████████████████████████| 335/335 [00:08<00:00, 38.51batch/s, acc=1, loss=0.0346]\n"
     ]
    },
    {
     "name": "stdout",
     "output_type": "stream",
     "text": [
      "14\n"
     ]
    },
    {
     "name": "stderr",
     "output_type": "stream",
     "text": [
      "Epoch14: 100%|████████████████████████████████████████████████| 335/335 [00:09<00:00, 33.57batch/s, acc=1, loss=0.0362]\n"
     ]
    },
    {
     "name": "stdout",
     "output_type": "stream",
     "text": [
      "15\n"
     ]
    },
    {
     "name": "stderr",
     "output_type": "stream",
     "text": [
      "Epoch15: 100%|████████████████████████████████████████████████| 335/335 [00:10<00:00, 33.09batch/s, acc=1, loss=0.0351]\n"
     ]
    },
    {
     "name": "stdout",
     "output_type": "stream",
     "text": [
      "16\n"
     ]
    },
    {
     "name": "stderr",
     "output_type": "stream",
     "text": [
      "Epoch16: 100%|████████████████████████████████████████████████| 335/335 [00:10<00:00, 32.58batch/s, acc=1, loss=0.0344]\n"
     ]
    },
    {
     "name": "stdout",
     "output_type": "stream",
     "text": [
      "17\n"
     ]
    },
    {
     "name": "stderr",
     "output_type": "stream",
     "text": [
      "Epoch17: 100%|████████████████████████████████████████████████| 335/335 [00:09<00:00, 34.42batch/s, acc=1, loss=0.0348]\n"
     ]
    },
    {
     "name": "stdout",
     "output_type": "stream",
     "text": [
      "18\n"
     ]
    },
    {
     "name": "stderr",
     "output_type": "stream",
     "text": [
      "Epoch18: 100%|████████████████████████████████████████████████| 335/335 [00:09<00:00, 34.19batch/s, acc=1, loss=0.0351]\n"
     ]
    },
    {
     "name": "stdout",
     "output_type": "stream",
     "text": [
      "19\n"
     ]
    },
    {
     "name": "stderr",
     "output_type": "stream",
     "text": [
      "Epoch19: 100%|████████████████████████████████████████████████| 335/335 [00:10<00:00, 31.63batch/s, acc=1, loss=0.0373]\n"
     ]
    },
    {
     "name": "stdout",
     "output_type": "stream",
     "text": [
      "20\n"
     ]
    },
    {
     "name": "stderr",
     "output_type": "stream",
     "text": [
      "Epoch20: 100%|████████████████████████████████████████████████| 335/335 [00:11<00:00, 30.37batch/s, acc=1, loss=0.0379]\n"
     ]
    },
    {
     "name": "stdout",
     "output_type": "stream",
     "text": [
      "21\n"
     ]
    },
    {
     "name": "stderr",
     "output_type": "stream",
     "text": [
      "Epoch21: 100%|████████████████████████████████████████████████| 335/335 [00:11<00:00, 28.84batch/s, acc=1, loss=0.0378]\n"
     ]
    },
    {
     "name": "stdout",
     "output_type": "stream",
     "text": [
      "22\n"
     ]
    },
    {
     "name": "stderr",
     "output_type": "stream",
     "text": [
      "Epoch22: 100%|████████████████████████████████████████████████| 335/335 [00:10<00:00, 32.55batch/s, acc=1, loss=0.0393]\n"
     ]
    },
    {
     "name": "stdout",
     "output_type": "stream",
     "text": [
      "23\n"
     ]
    },
    {
     "name": "stderr",
     "output_type": "stream",
     "text": [
      "Epoch23: 100%|█████████████████████████████████████████████| 335/335 [00:10<00:00, 32.58batch/s, acc=0.981, loss=0.039]\n"
     ]
    },
    {
     "name": "stdout",
     "output_type": "stream",
     "text": [
      "24\n"
     ]
    },
    {
     "name": "stderr",
     "output_type": "stream",
     "text": [
      "Epoch24: 100%|████████████████████████████████████████████| 335/335 [00:09<00:00, 35.41batch/s, acc=0.981, loss=0.0397]\n"
     ]
    },
    {
     "name": "stdout",
     "output_type": "stream",
     "text": [
      "25\n"
     ]
    },
    {
     "name": "stderr",
     "output_type": "stream",
     "text": [
      "Epoch25: 100%|████████████████████████████████████████████| 335/335 [00:09<00:00, 35.42batch/s, acc=0.981, loss=0.0403]\n"
     ]
    },
    {
     "name": "stdout",
     "output_type": "stream",
     "text": [
      "26\n"
     ]
    },
    {
     "name": "stderr",
     "output_type": "stream",
     "text": [
      "Epoch26: 100%|████████████████████████████████████████████| 335/335 [00:08<00:00, 38.26batch/s, acc=0.981, loss=0.0404]\n"
     ]
    },
    {
     "name": "stdout",
     "output_type": "stream",
     "text": [
      "27\n"
     ]
    },
    {
     "name": "stderr",
     "output_type": "stream",
     "text": [
      "Epoch27: 100%|████████████████████████████████████████████| 335/335 [00:08<00:00, 37.62batch/s, acc=0.981, loss=0.0409]\n"
     ]
    },
    {
     "name": "stdout",
     "output_type": "stream",
     "text": [
      "28\n"
     ]
    },
    {
     "name": "stderr",
     "output_type": "stream",
     "text": [
      "Epoch28: 100%|████████████████████████████████████████████| 335/335 [00:08<00:00, 39.02batch/s, acc=0.981, loss=0.0411]\n"
     ]
    },
    {
     "name": "stdout",
     "output_type": "stream",
     "text": [
      "29\n"
     ]
    },
    {
     "name": "stderr",
     "output_type": "stream",
     "text": [
      "Epoch29: 100%|████████████████████████████████████████████| 335/335 [00:09<00:00, 36.56batch/s, acc=0.981, loss=0.0408]\n"
     ]
    },
    {
     "name": "stdout",
     "output_type": "stream",
     "text": [
      "30\n"
     ]
    },
    {
     "name": "stderr",
     "output_type": "stream",
     "text": [
      "Epoch30: 100%|█████████████████████████████████████████████| 335/335 [00:08<00:00, 39.76batch/s, acc=0.981, loss=0.041]\n"
     ]
    },
    {
     "name": "stdout",
     "output_type": "stream",
     "text": [
      "31\n"
     ]
    },
    {
     "name": "stderr",
     "output_type": "stream",
     "text": [
      "Epoch31: 100%|█████████████████████████████████████████████| 335/335 [00:09<00:00, 34.77batch/s, acc=0.981, loss=0.042]\n"
     ]
    },
    {
     "name": "stdout",
     "output_type": "stream",
     "text": [
      "32\n"
     ]
    },
    {
     "name": "stderr",
     "output_type": "stream",
     "text": [
      "Epoch32: 100%|████████████████████████████████████████████| 335/335 [00:09<00:00, 33.89batch/s, acc=0.981, loss=0.0419]\n"
     ]
    },
    {
     "name": "stdout",
     "output_type": "stream",
     "text": [
      "33\n"
     ]
    },
    {
     "name": "stderr",
     "output_type": "stream",
     "text": [
      "Epoch33: 100%|████████████████████████████████████████████| 335/335 [00:10<00:00, 32.94batch/s, acc=0.981, loss=0.0422]\n"
     ]
    },
    {
     "name": "stdout",
     "output_type": "stream",
     "text": [
      "34\n"
     ]
    },
    {
     "name": "stderr",
     "output_type": "stream",
     "text": [
      "Epoch34: 100%|████████████████████████████████████████████| 335/335 [00:09<00:00, 33.94batch/s, acc=0.981, loss=0.0413]\n"
     ]
    },
    {
     "name": "stdout",
     "output_type": "stream",
     "text": [
      "35\n"
     ]
    },
    {
     "name": "stderr",
     "output_type": "stream",
     "text": [
      "Epoch35: 100%|████████████████████████████████████████████| 335/335 [00:09<00:00, 36.61batch/s, acc=0.981, loss=0.0412]\n"
     ]
    },
    {
     "name": "stdout",
     "output_type": "stream",
     "text": [
      "36\n"
     ]
    },
    {
     "name": "stderr",
     "output_type": "stream",
     "text": [
      "Epoch36: 100%|████████████████████████████████████████████| 335/335 [00:10<00:00, 33.02batch/s, acc=0.981, loss=0.0417]\n"
     ]
    },
    {
     "name": "stdout",
     "output_type": "stream",
     "text": [
      "37\n"
     ]
    },
    {
     "name": "stderr",
     "output_type": "stream",
     "text": [
      "Epoch37: 100%|████████████████████████████████████████████| 335/335 [00:09<00:00, 35.42batch/s, acc=0.981, loss=0.0408]\n"
     ]
    },
    {
     "name": "stdout",
     "output_type": "stream",
     "text": [
      "38\n"
     ]
    },
    {
     "name": "stderr",
     "output_type": "stream",
     "text": [
      "Epoch38: 100%|████████████████████████████████████████████| 335/335 [00:09<00:00, 36.85batch/s, acc=0.981, loss=0.0416]\n"
     ]
    },
    {
     "name": "stdout",
     "output_type": "stream",
     "text": [
      "39\n"
     ]
    },
    {
     "name": "stderr",
     "output_type": "stream",
     "text": [
      "Epoch39: 100%|████████████████████████████████████████████| 335/335 [00:08<00:00, 39.73batch/s, acc=0.981, loss=0.0416]\n"
     ]
    },
    {
     "name": "stdout",
     "output_type": "stream",
     "text": [
      "40\n"
     ]
    },
    {
     "name": "stderr",
     "output_type": "stream",
     "text": [
      "Epoch40: 100%|████████████████████████████████████████████| 335/335 [00:11<00:00, 29.41batch/s, acc=0.981, loss=0.0409]\n"
     ]
    },
    {
     "name": "stdout",
     "output_type": "stream",
     "text": [
      "41\n"
     ]
    },
    {
     "name": "stderr",
     "output_type": "stream",
     "text": [
      "Epoch41: 100%|████████████████████████████████████████████| 335/335 [00:07<00:00, 44.94batch/s, acc=0.981, loss=0.0411]\n"
     ]
    },
    {
     "name": "stdout",
     "output_type": "stream",
     "text": [
      "42\n"
     ]
    },
    {
     "name": "stderr",
     "output_type": "stream",
     "text": [
      "Epoch42: 100%|████████████████████████████████████████████| 335/335 [00:07<00:00, 42.26batch/s, acc=0.981, loss=0.0406]\n"
     ]
    },
    {
     "name": "stdout",
     "output_type": "stream",
     "text": [
      "43\n"
     ]
    },
    {
     "name": "stderr",
     "output_type": "stream",
     "text": [
      "Epoch43: 100%|████████████████████████████████████████████| 335/335 [00:07<00:00, 42.31batch/s, acc=0.981, loss=0.0412]\n"
     ]
    },
    {
     "name": "stdout",
     "output_type": "stream",
     "text": [
      "44\n"
     ]
    },
    {
     "name": "stderr",
     "output_type": "stream",
     "text": [
      "Epoch44: 100%|████████████████████████████████████████████| 335/335 [00:07<00:00, 42.52batch/s, acc=0.981, loss=0.0417]\n"
     ]
    },
    {
     "name": "stdout",
     "output_type": "stream",
     "text": [
      "45\n"
     ]
    },
    {
     "name": "stderr",
     "output_type": "stream",
     "text": [
      "Epoch45: 100%|████████████████████████████████████████████| 335/335 [00:08<00:00, 41.80batch/s, acc=0.981, loss=0.0412]\n"
     ]
    },
    {
     "name": "stdout",
     "output_type": "stream",
     "text": [
      "46\n"
     ]
    },
    {
     "name": "stderr",
     "output_type": "stream",
     "text": [
      "Epoch46: 100%|████████████████████████████████████████████| 335/335 [00:08<00:00, 40.60batch/s, acc=0.981, loss=0.0405]\n"
     ]
    },
    {
     "name": "stdout",
     "output_type": "stream",
     "text": [
      "47\n"
     ]
    },
    {
     "name": "stderr",
     "output_type": "stream",
     "text": [
      "Epoch47: 100%|████████████████████████████████████████████| 335/335 [00:08<00:00, 40.45batch/s, acc=0.981, loss=0.0408]\n"
     ]
    },
    {
     "name": "stdout",
     "output_type": "stream",
     "text": [
      "48\n"
     ]
    },
    {
     "name": "stderr",
     "output_type": "stream",
     "text": [
      "Epoch48: 100%|████████████████████████████████████████████| 335/335 [00:08<00:00, 38.65batch/s, acc=0.981, loss=0.0436]\n"
     ]
    },
    {
     "name": "stdout",
     "output_type": "stream",
     "text": [
      "49\n"
     ]
    },
    {
     "name": "stderr",
     "output_type": "stream",
     "text": [
      "Epoch49: 100%|████████████████████████████████████████████| 335/335 [00:08<00:00, 41.31batch/s, acc=0.981, loss=0.0416]\n"
     ]
    },
    {
     "name": "stdout",
     "output_type": "stream",
     "text": [
      "50\n"
     ]
    },
    {
     "name": "stderr",
     "output_type": "stream",
     "text": [
      "Epoch50: 100%|████████████████████████████████████████████| 335/335 [00:08<00:00, 41.33batch/s, acc=0.981, loss=0.0412]\n"
     ]
    },
    {
     "name": "stdout",
     "output_type": "stream",
     "text": [
      "51\n"
     ]
    },
    {
     "name": "stderr",
     "output_type": "stream",
     "text": [
      "Epoch51: 100%|████████████████████████████████████████████| 335/335 [00:08<00:00, 37.85batch/s, acc=0.981, loss=0.0393]\n"
     ]
    },
    {
     "name": "stdout",
     "output_type": "stream",
     "text": [
      "52\n"
     ]
    },
    {
     "name": "stderr",
     "output_type": "stream",
     "text": [
      "Epoch52: 100%|████████████████████████████████████████████| 335/335 [00:08<00:00, 40.60batch/s, acc=0.981, loss=0.0382]\n"
     ]
    },
    {
     "name": "stdout",
     "output_type": "stream",
     "text": [
      "53\n"
     ]
    },
    {
     "name": "stderr",
     "output_type": "stream",
     "text": [
      "Epoch53: 100%|████████████████████████████████████████████| 335/335 [00:08<00:00, 40.48batch/s, acc=0.981, loss=0.0378]\n"
     ]
    },
    {
     "name": "stdout",
     "output_type": "stream",
     "text": [
      "54\n"
     ]
    },
    {
     "name": "stderr",
     "output_type": "stream",
     "text": [
      "Epoch54: 100%|████████████████████████████████████████████| 335/335 [00:08<00:00, 41.26batch/s, acc=0.981, loss=0.0392]\n"
     ]
    },
    {
     "name": "stdout",
     "output_type": "stream",
     "text": [
      "55\n"
     ]
    },
    {
     "name": "stderr",
     "output_type": "stream",
     "text": [
      "Epoch55: 100%|████████████████████████████████████████████| 335/335 [00:08<00:00, 39.97batch/s, acc=0.981, loss=0.0377]\n"
     ]
    },
    {
     "name": "stdout",
     "output_type": "stream",
     "text": [
      "56\n"
     ]
    },
    {
     "name": "stderr",
     "output_type": "stream",
     "text": [
      "Epoch56: 100%|████████████████████████████████████████████| 335/335 [00:08<00:00, 41.03batch/s, acc=0.981, loss=0.0385]\n"
     ]
    },
    {
     "name": "stdout",
     "output_type": "stream",
     "text": [
      "57\n"
     ]
    },
    {
     "name": "stderr",
     "output_type": "stream",
     "text": [
      "Epoch57: 100%|████████████████████████████████████████████| 335/335 [00:11<00:00, 29.60batch/s, acc=0.981, loss=0.0384]\n"
     ]
    },
    {
     "name": "stdout",
     "output_type": "stream",
     "text": [
      "58\n"
     ]
    },
    {
     "name": "stderr",
     "output_type": "stream",
     "text": [
      "Epoch58: 100%|████████████████████████████████████████████| 335/335 [00:07<00:00, 43.96batch/s, acc=0.981, loss=0.0387]\n"
     ]
    },
    {
     "name": "stdout",
     "output_type": "stream",
     "text": [
      "59\n"
     ]
    },
    {
     "name": "stderr",
     "output_type": "stream",
     "text": [
      "Epoch59: 100%|████████████████████████████████████████████| 335/335 [00:07<00:00, 43.33batch/s, acc=0.981, loss=0.0387]\n"
     ]
    },
    {
     "name": "stdout",
     "output_type": "stream",
     "text": [
      "60\n"
     ]
    },
    {
     "name": "stderr",
     "output_type": "stream",
     "text": [
      "Epoch60: 100%|████████████████████████████████████████████| 335/335 [00:08<00:00, 39.01batch/s, acc=0.981, loss=0.0379]\n"
     ]
    },
    {
     "name": "stdout",
     "output_type": "stream",
     "text": [
      "61\n"
     ]
    },
    {
     "name": "stderr",
     "output_type": "stream",
     "text": [
      "Epoch61: 100%|█████████████████████████████████████████████| 335/335 [00:08<00:00, 41.84batch/s, acc=0.981, loss=0.037]\n"
     ]
    },
    {
     "name": "stdout",
     "output_type": "stream",
     "text": [
      "62\n"
     ]
    },
    {
     "name": "stderr",
     "output_type": "stream",
     "text": [
      "Epoch62: 100%|████████████████████████████████████████████| 335/335 [00:07<00:00, 44.07batch/s, acc=0.981, loss=0.0371]\n"
     ]
    },
    {
     "name": "stdout",
     "output_type": "stream",
     "text": [
      "63\n"
     ]
    },
    {
     "name": "stderr",
     "output_type": "stream",
     "text": [
      "Epoch63: 100%|████████████████████████████████████████████| 335/335 [00:11<00:00, 28.84batch/s, acc=0.981, loss=0.0365]\n"
     ]
    },
    {
     "name": "stdout",
     "output_type": "stream",
     "text": [
      "64\n"
     ]
    },
    {
     "name": "stderr",
     "output_type": "stream",
     "text": [
      "Epoch64: 100%|████████████████████████████████████████████| 335/335 [00:08<00:00, 39.21batch/s, acc=0.981, loss=0.0358]\n"
     ]
    },
    {
     "name": "stdout",
     "output_type": "stream",
     "text": [
      "65\n"
     ]
    },
    {
     "name": "stderr",
     "output_type": "stream",
     "text": [
      "Epoch65: 100%|████████████████████████████████████████████| 335/335 [00:07<00:00, 42.92batch/s, acc=0.981, loss=0.0355]\n"
     ]
    },
    {
     "name": "stdout",
     "output_type": "stream",
     "text": [
      "66\n"
     ]
    },
    {
     "name": "stderr",
     "output_type": "stream",
     "text": [
      "Epoch66: 100%|█████████████████████████████████████████████| 335/335 [00:07<00:00, 41.91batch/s, acc=0.981, loss=0.035]\n"
     ]
    },
    {
     "name": "stdout",
     "output_type": "stream",
     "text": [
      "67\n"
     ]
    },
    {
     "name": "stderr",
     "output_type": "stream",
     "text": [
      "Epoch67: 100%|████████████████████████████████████████████| 335/335 [00:07<00:00, 43.53batch/s, acc=0.981, loss=0.0332]\n"
     ]
    },
    {
     "name": "stdout",
     "output_type": "stream",
     "text": [
      "68\n"
     ]
    },
    {
     "name": "stderr",
     "output_type": "stream",
     "text": [
      "Epoch68: 100%|████████████████████████████████████████████| 335/335 [00:07<00:00, 41.96batch/s, acc=0.981, loss=0.0338]\n"
     ]
    },
    {
     "name": "stdout",
     "output_type": "stream",
     "text": [
      "69\n"
     ]
    },
    {
     "name": "stderr",
     "output_type": "stream",
     "text": [
      "Epoch69: 100%|████████████████████████████████████████████| 335/335 [00:08<00:00, 41.00batch/s, acc=0.981, loss=0.0329]\n"
     ]
    },
    {
     "name": "stdout",
     "output_type": "stream",
     "text": [
      "70\n"
     ]
    },
    {
     "name": "stderr",
     "output_type": "stream",
     "text": [
      "Epoch70: 100%|████████████████████████████████████████████| 335/335 [00:08<00:00, 38.98batch/s, acc=0.981, loss=0.0329]\n"
     ]
    },
    {
     "name": "stdout",
     "output_type": "stream",
     "text": [
      "71\n"
     ]
    },
    {
     "name": "stderr",
     "output_type": "stream",
     "text": [
      "Epoch71: 100%|████████████████████████████████████████████| 335/335 [00:12<00:00, 27.49batch/s, acc=0.981, loss=0.0326]\n"
     ]
    },
    {
     "name": "stdout",
     "output_type": "stream",
     "text": [
      "72\n"
     ]
    },
    {
     "name": "stderr",
     "output_type": "stream",
     "text": [
      "Epoch72: 100%|████████████████████████████████████████████| 335/335 [00:08<00:00, 37.32batch/s, acc=0.981, loss=0.0345]\n"
     ]
    },
    {
     "name": "stdout",
     "output_type": "stream",
     "text": [
      "73\n"
     ]
    },
    {
     "name": "stderr",
     "output_type": "stream",
     "text": [
      "Epoch73: 100%|████████████████████████████████████████████| 335/335 [00:09<00:00, 36.61batch/s, acc=0.981, loss=0.0311]\n"
     ]
    },
    {
     "name": "stdout",
     "output_type": "stream",
     "text": [
      "74\n"
     ]
    },
    {
     "name": "stderr",
     "output_type": "stream",
     "text": [
      "Epoch74: 100%|████████████████████████████████████████████| 335/335 [00:08<00:00, 39.86batch/s, acc=0.981, loss=0.0302]\n"
     ]
    },
    {
     "name": "stdout",
     "output_type": "stream",
     "text": [
      "75\n"
     ]
    },
    {
     "name": "stderr",
     "output_type": "stream",
     "text": [
      "Epoch75: 100%|██████████████████████████████████████████████| 335/335 [00:08<00:00, 40.07batch/s, acc=0.981, loss=0.03]\n"
     ]
    },
    {
     "name": "stdout",
     "output_type": "stream",
     "text": [
      "76\n"
     ]
    },
    {
     "name": "stderr",
     "output_type": "stream",
     "text": [
      "Epoch76: 100%|████████████████████████████████████████████| 335/335 [00:08<00:00, 40.98batch/s, acc=0.981, loss=0.0296]\n"
     ]
    },
    {
     "name": "stdout",
     "output_type": "stream",
     "text": [
      "77\n"
     ]
    },
    {
     "name": "stderr",
     "output_type": "stream",
     "text": [
      "Epoch77: 100%|████████████████████████████████████████████| 335/335 [00:08<00:00, 39.13batch/s, acc=0.981, loss=0.0301]\n"
     ]
    },
    {
     "name": "stdout",
     "output_type": "stream",
     "text": [
      "78\n"
     ]
    },
    {
     "name": "stderr",
     "output_type": "stream",
     "text": [
      "Epoch78: 100%|████████████████████████████████████████████| 335/335 [00:11<00:00, 28.97batch/s, acc=0.981, loss=0.0284]\n"
     ]
    },
    {
     "name": "stdout",
     "output_type": "stream",
     "text": [
      "79\n"
     ]
    },
    {
     "name": "stderr",
     "output_type": "stream",
     "text": [
      "Epoch79: 100%|████████████████████████████████████████████| 335/335 [00:07<00:00, 44.91batch/s, acc=0.981, loss=0.0278]\n"
     ]
    },
    {
     "name": "stdout",
     "output_type": "stream",
     "text": [
      "80\n"
     ]
    },
    {
     "name": "stderr",
     "output_type": "stream",
     "text": [
      "Epoch80: 100%|████████████████████████████████████████████| 335/335 [00:07<00:00, 42.98batch/s, acc=0.981, loss=0.0328]\n"
     ]
    },
    {
     "name": "stdout",
     "output_type": "stream",
     "text": [
      "81\n"
     ]
    },
    {
     "name": "stderr",
     "output_type": "stream",
     "text": [
      "Epoch81: 100%|████████████████████████████████████████████████| 335/335 [00:07<00:00, 42.45batch/s, acc=1, loss=0.0315]\n"
     ]
    },
    {
     "name": "stdout",
     "output_type": "stream",
     "text": [
      "82\n"
     ]
    },
    {
     "name": "stderr",
     "output_type": "stream",
     "text": [
      "Epoch82: 100%|████████████████████████████████████████████████| 335/335 [00:08<00:00, 41.53batch/s, acc=1, loss=0.0271]\n"
     ]
    },
    {
     "name": "stdout",
     "output_type": "stream",
     "text": [
      "83\n"
     ]
    },
    {
     "name": "stderr",
     "output_type": "stream",
     "text": [
      "Epoch83: 100%|████████████████████████████████████████████████| 335/335 [00:08<00:00, 40.03batch/s, acc=1, loss=0.0259]\n"
     ]
    },
    {
     "name": "stdout",
     "output_type": "stream",
     "text": [
      "84\n"
     ]
    },
    {
     "name": "stderr",
     "output_type": "stream",
     "text": [
      "Epoch84: 100%|████████████████████████████████████████████████| 335/335 [00:08<00:00, 41.18batch/s, acc=1, loss=0.0255]\n"
     ]
    },
    {
     "name": "stdout",
     "output_type": "stream",
     "text": [
      "85\n"
     ]
    },
    {
     "name": "stderr",
     "output_type": "stream",
     "text": [
      "Epoch85: 100%|████████████████████████████████████████████████| 335/335 [00:08<00:00, 40.43batch/s, acc=1, loss=0.0255]\n"
     ]
    },
    {
     "name": "stdout",
     "output_type": "stream",
     "text": [
      "86\n"
     ]
    },
    {
     "name": "stderr",
     "output_type": "stream",
     "text": [
      "Epoch86: 100%|████████████████████████████████████████████████| 335/335 [00:09<00:00, 37.02batch/s, acc=1, loss=0.0272]\n"
     ]
    },
    {
     "name": "stdout",
     "output_type": "stream",
     "text": [
      "87\n"
     ]
    },
    {
     "name": "stderr",
     "output_type": "stream",
     "text": [
      "Epoch87: 100%|████████████████████████████████████████████████| 335/335 [00:12<00:00, 27.28batch/s, acc=1, loss=0.0281]\n"
     ]
    },
    {
     "name": "stdout",
     "output_type": "stream",
     "text": [
      "88\n"
     ]
    },
    {
     "name": "stderr",
     "output_type": "stream",
     "text": [
      "Epoch88: 100%|████████████████████████████████████████████████| 335/335 [00:07<00:00, 44.72batch/s, acc=1, loss=0.0294]\n"
     ]
    },
    {
     "name": "stdout",
     "output_type": "stream",
     "text": [
      "89\n"
     ]
    },
    {
     "name": "stderr",
     "output_type": "stream",
     "text": [
      "Epoch89: 100%|████████████████████████████████████████████████| 335/335 [00:07<00:00, 42.35batch/s, acc=1, loss=0.0226]\n"
     ]
    },
    {
     "name": "stdout",
     "output_type": "stream",
     "text": [
      "90\n"
     ]
    },
    {
     "name": "stderr",
     "output_type": "stream",
     "text": [
      "Epoch90: 100%|████████████████████████████████████████████████| 335/335 [00:10<00:00, 33.36batch/s, acc=1, loss=0.0212]\n"
     ]
    },
    {
     "name": "stdout",
     "output_type": "stream",
     "text": [
      "91\n"
     ]
    },
    {
     "name": "stderr",
     "output_type": "stream",
     "text": [
      "Epoch91: 100%|████████████████████████████████████████████████| 335/335 [00:08<00:00, 37.87batch/s, acc=1, loss=0.0207]\n"
     ]
    },
    {
     "name": "stdout",
     "output_type": "stream",
     "text": [
      "92\n"
     ]
    },
    {
     "name": "stderr",
     "output_type": "stream",
     "text": [
      "Epoch92: 100%|████████████████████████████████████████████████| 335/335 [00:08<00:00, 38.63batch/s, acc=1, loss=0.0198]\n"
     ]
    },
    {
     "name": "stdout",
     "output_type": "stream",
     "text": [
      "93\n"
     ]
    },
    {
     "name": "stderr",
     "output_type": "stream",
     "text": [
      "Epoch93: 100%|████████████████████████████████████████████████| 335/335 [00:10<00:00, 32.95batch/s, acc=1, loss=0.0225]\n"
     ]
    },
    {
     "name": "stdout",
     "output_type": "stream",
     "text": [
      "94\n"
     ]
    },
    {
     "name": "stderr",
     "output_type": "stream",
     "text": [
      "Epoch94: 100%|████████████████████████████████████████████████| 335/335 [00:08<00:00, 39.13batch/s, acc=1, loss=0.0192]\n"
     ]
    },
    {
     "name": "stdout",
     "output_type": "stream",
     "text": [
      "95\n"
     ]
    },
    {
     "name": "stderr",
     "output_type": "stream",
     "text": [
      "Epoch95: 100%|████████████████████████████████████████████████| 335/335 [00:08<00:00, 39.16batch/s, acc=1, loss=0.0225]\n"
     ]
    },
    {
     "name": "stdout",
     "output_type": "stream",
     "text": [
      "96\n"
     ]
    },
    {
     "name": "stderr",
     "output_type": "stream",
     "text": [
      "Epoch96: 100%|████████████████████████████████████████████████| 335/335 [00:12<00:00, 26.00batch/s, acc=1, loss=0.0194]\n"
     ]
    },
    {
     "name": "stdout",
     "output_type": "stream",
     "text": [
      "97\n"
     ]
    },
    {
     "name": "stderr",
     "output_type": "stream",
     "text": [
      "Epoch97: 100%|████████████████████████████████████████████████| 335/335 [00:07<00:00, 42.92batch/s, acc=1, loss=0.0184]\n"
     ]
    },
    {
     "name": "stdout",
     "output_type": "stream",
     "text": [
      "98\n"
     ]
    },
    {
     "name": "stderr",
     "output_type": "stream",
     "text": [
      "Epoch98: 100%|████████████████████████████████████████████████| 335/335 [00:08<00:00, 39.95batch/s, acc=1, loss=0.0161]\n"
     ]
    },
    {
     "name": "stdout",
     "output_type": "stream",
     "text": [
      "99\n"
     ]
    },
    {
     "name": "stderr",
     "output_type": "stream",
     "text": [
      "Epoch99: 100%|████████████████████████████████████████████████| 335/335 [00:08<00:00, 39.92batch/s, acc=1, loss=0.0155]\n"
     ]
    },
    {
     "name": "stdout",
     "output_type": "stream",
     "text": [
      "Accuracy: 0.95\n"
     ]
    }
   ],
   "source": [
    "from sklearn.model_selection import StratifiedKFold, train_test_split\n",
    "\n",
    "\n",
    "kfold = StratifiedKFold(n_splits=5,shuffle = True)\n",
    "cv_scores = []\n",
    "confusionmatrix = []\n",
    "for train,test in kfold.split(X,y):\n",
    "    model = NetClassifier()\n",
    "    acc = train_model(model,X[train],y[train],X[test],y[test])\n",
    "    print(\"Accuracy: %.2f\" % acc)\n",
    "    confusionmatrix.append(confusion_matrix(y[test],model(X[test]).detach().round()))\n",
    "    cv_scores.append(acc)\n",
    "acc = np.mean(cv_scores)\n",
    "std = np.std(cv_scores)"
   ]
  },
  {
   "cell_type": "code",
   "execution_count": 205,
   "id": "642600d7-0e19-48df-bde1-a2c10fed8179",
   "metadata": {},
   "outputs": [
    {
     "data": {
      "text/plain": [
       "[array([[4694,   75],\n",
       "        [ 242,  346]], dtype=int64),\n",
       " array([[4693,   76],\n",
       "        [ 271,  317]], dtype=int64),\n",
       " array([[4687,   82],\n",
       "        [ 253,  335]], dtype=int64),\n",
       " array([[4702,   67],\n",
       "        [ 284,  304]], dtype=int64),\n",
       " array([[4707,   62],\n",
       "        [ 231,  356]], dtype=int64)]"
      ]
     },
     "execution_count": 205,
     "metadata": {},
     "output_type": "execute_result"
    }
   ],
   "source": [
    "confusionmatrix"
   ]
  },
  {
   "cell_type": "code",
   "execution_count": 214,
   "id": "3cbc9000-7eda-4216-aae6-7aa390613fd5",
   "metadata": {},
   "outputs": [
    {
     "data": {
      "text/plain": [
       "346"
      ]
     },
     "execution_count": 214,
     "metadata": {},
     "output_type": "execute_result"
    }
   ],
   "source": [
    "confusionmatrix[0][1][1]"
   ]
  },
  {
   "cell_type": "code",
   "execution_count": 215,
   "id": "85ddaad7-a835-42ee-94ff-8348907b4730",
   "metadata": {},
   "outputs": [],
   "source": [
    "precision = []\n",
    "for matrix in confusionmatrix:\n",
    "    precision.append(matrix[0][0]/(matrix[0][0]+matrix[1][1]))"
   ]
  },
  {
   "cell_type": "code",
   "execution_count": 216,
   "id": "cd7e3bfb-b14a-4a83-985e-3b63b9b64839",
   "metadata": {},
   "outputs": [],
   "source": [
    "recall = []\n",
    "for matrix in confusionmatrix:\n",
    "    recall.append(matrix[0][0]/(matrix[0][0]+matrix[0][1]))"
   ]
  },
  {
   "cell_type": "code",
   "execution_count": 217,
   "id": "3e078efe-eac0-45ae-9533-25ff64440d63",
   "metadata": {},
   "outputs": [
    {
     "data": {
      "text/plain": [
       "[0.9313492063492064,\n",
       " 0.9367265469061876,\n",
       " 0.9332935085623257,\n",
       " 0.9392728725529365,\n",
       " 0.9296859569425242]"
      ]
     },
     "execution_count": 217,
     "metadata": {},
     "output_type": "execute_result"
    }
   ],
   "source": [
    "precision"
   ]
  },
  {
   "cell_type": "code",
   "execution_count": 218,
   "id": "6a645075-0f4f-48d8-8f7b-c1fd76f4fc85",
   "metadata": {},
   "outputs": [
    {
     "data": {
      "text/plain": [
       "[0.9842734325854476,\n",
       " 0.9840637450199203,\n",
       " 0.9828056196267562,\n",
       " 0.9859509331096666,\n",
       " 0.9869993709373034]"
      ]
     },
     "execution_count": 218,
     "metadata": {},
     "output_type": "execute_result"
    }
   ],
   "source": [
    "recall"
   ]
  },
  {
   "cell_type": "code",
   "execution_count": 219,
   "id": "62c0d287-fd6a-499b-b9d3-0fc1b058a256",
   "metadata": {},
   "outputs": [],
   "source": [
    "f1 = []\n",
    "for i,j in zip(precision, recall):\n",
    "    f1.append(2*i*j/(i+j))"
   ]
  },
  {
   "cell_type": "code",
   "execution_count": 220,
   "id": "a423b7ba-b4b1-4eda-856c-a53ca08f9046",
   "metadata": {},
   "outputs": [
    {
     "data": {
      "text/plain": [
       "[0.9570802324395963,\n",
       " 0.9598118417016055,\n",
       " 0.9574098662036564,\n",
       " 0.9620460358056266,\n",
       " 0.9574857607811229]"
      ]
     },
     "execution_count": 220,
     "metadata": {},
     "output_type": "execute_result"
    }
   ],
   "source": [
    "f1"
   ]
  },
  {
   "cell_type": "code",
   "execution_count": 221,
   "id": "c186eaa7-7d42-4eb5-96f6-03a5b45d08d9",
   "metadata": {},
   "outputs": [],
   "source": [
    "torch.save(model.state_dict(), 'pumpfailure_model.pth')"
   ]
  },
  {
   "cell_type": "code",
   "execution_count": 222,
   "id": "af9e92dc-7982-4b0e-8a15-9853c5c29790",
   "metadata": {},
   "outputs": [],
   "source": [
    "from sklearn.metrics import auc, roc_curve"
   ]
  },
  {
   "cell_type": "code",
   "execution_count": 231,
   "id": "09236f41-2e10-4af2-98f5-24257c234b4b",
   "metadata": {},
   "outputs": [],
   "source": [
    "predicts = model(X).detach()\n",
    "fpr,tpr,threshholds = roc_curve(y,predicts)\n",
    "roc_auc = auc(fpr,tpr)"
   ]
  },
  {
   "cell_type": "code",
   "execution_count": 242,
   "id": "f9010614-6249-4c9d-ad45-bb980efee65b",
   "metadata": {},
   "outputs": [
    {
     "data": {
      "image/png": "[encoded data removed]",
      "text/plain": [
       "<Figure size 800x600 with 1 Axes>"
      ]
     },
     "metadata": {},
     "output_type": "display_data"
    }
   ],
   "source": [
    "plt.figure(figsize=(8, 6))\n",
    "plt.plot(fpr, tpr, color='darkorange', lw=2, label='ROC curve (area = %0.2f)' % roc_auc)\n",
    "plt.plot([0, 1], [0, 1], color='navy', lw=2, linestyle='--')\n",
    "plt.xlim([0.0, 1.0])\n",
    "plt.ylim([0.0, 1.05])\n",
    "plt.xlabel('False Positive Rate')\n",
    "plt.ylabel('True Positive Rate')\n",
    "plt.title('ROC Curve')\n",
    "plt.legend(loc='lower right')\n",
    "plt.show()"
   ]
  },
  {
   "cell_type": "markdown",
   "id": "befcddba-cce1-404b-94f9-ba6a9c8ca407",
   "metadata": {},
   "source": [
    "Neuralnet approach seems to be working just fine. Accuracy is definitelly not the best metrix for this unbalanced dataset (our 90% labels are 0) but f1 score, which is much better metric here look respectable. There is definitely room for improvement, we should test different hyperparameters of our net, sadly training takes a while on my laptop. On the other hand, we could also prepare our training data bit more carefully, perhaps taking just first hlaf of each cycle, etc.."
   ]
  },
  {
   "cell_type": "markdown",
   "id": "efa15156-8dcf-45f8-811b-d1baa3372cca",
   "metadata": {},
   "source": [
    "Now we should consider building pipeline which converts new incoming data into desireable feature vector, that is then fed into model trained above, I guess it is not the purpose of this assignemt though."
   ]
  }
 ],
 "metadata": {
  "kernelspec": {
   "display_name": "Python 3 (ipykernel)",
   "language": "python",
   "name": "python3"
  },
  "language_info": {
   "codemirror_mode": {
    "name": "ipython",
    "version": 3
   },
   "file_extension": ".py",
   "mimetype": "text/x-python",
   "name": "python",
   "nbconvert_exporter": "python",
   "pygments_lexer": "ipython3",
   "version": "3.12.0"
  }
 },
 "nbformat": 4,
 "nbformat_minor": 5
}
